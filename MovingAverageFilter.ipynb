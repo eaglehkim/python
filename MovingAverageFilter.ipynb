{
  "nbformat": 4,
  "nbformat_minor": 0,
  "metadata": {
    "colab": {
      "name": "MovingAverageFilter.ipynb",
      "provenance": [],
      "authorship_tag": "ABX9TyPV+1CIVlwBiOvLJDXzr9bf",
      "include_colab_link": true
    },
    "kernelspec": {
      "name": "python3",
      "display_name": "Python 3"
    },
    "language_info": {
      "name": "python"
    }
  },
  "cells": [
    {
      "cell_type": "markdown",
      "metadata": {
        "id": "view-in-github",
        "colab_type": "text"
      },
      "source": [
        "<a href=\"https://colab.research.google.com/github/eaglehkim/python/blob/main/MovingAverageFilter.ipynb\" target=\"_parent\"><img src=\"https://colab.research.google.com/assets/colab-badge.svg\" alt=\"Open In Colab\"/></a>"
      ]
    },
    {
      "cell_type": "code",
      "metadata": {
        "colab": {
          "base_uri": "https://localhost:8080/"
        },
        "id": "tKT7cdV34HQb",
        "outputId": "d21e0159-b994-474a-a811-4d035c6b00a8"
      },
      "source": [
        "import numpy as np\n",
        "\n",
        "Tesla_stock = [1074, 1079, 1083, 1082, 1077, 1085, 1082, 1079, 1073, 1083, 1089, 1093, 1094, 1100, 1111]\n",
        "\n",
        "def MAF(array):\n",
        "  # length of a list\n",
        "  # for, average of 3\n",
        "  # return new list\n",
        "  length = len(array)\n",
        "  MAF_array_3 = []\n",
        "  for i in range(0, length - 2):\n",
        "    tmp1 = array[i]\n",
        "    tmp2 = array[i + 1]\n",
        "    tmp3 = array[i + 2]\n",
        "    avg = (tmp1 + tmp2 + tmp3) / 3\n",
        "    avg = np.round(avg, 2)\n",
        "    MAF_array_3.append(avg)\n",
        "  return MAF_array_3\n",
        "\n",
        "\n",
        "a = MAF(Tesla_stock)\n",
        "a, len(a), len(Tesla_stock)"
      ],
      "execution_count": null,
      "outputs": [
        {
          "output_type": "execute_result",
          "data": {
            "text/plain": [
              "([1078.67,\n",
              "  1081.33,\n",
              "  1080.67,\n",
              "  1081.33,\n",
              "  1081.33,\n",
              "  1082.0,\n",
              "  1078.0,\n",
              "  1078.33,\n",
              "  1081.67,\n",
              "  1088.33,\n",
              "  1092.0,\n",
              "  1095.67,\n",
              "  1101.67],\n",
              " 13,\n",
              " 15)"
            ]
          },
          "metadata": {},
          "execution_count": 14
        }
      ]
    },
    {
      "cell_type": "code",
      "metadata": {
        "id": "Dj3hx8Tc5-fM",
        "colab": {
          "base_uri": "https://localhost:8080/"
        },
        "outputId": "4dc23d8a-97ee-457b-b798-cdd20b6249a7"
      },
      "source": [
        "import numpy as np\n",
        "\n",
        "Tesla_stock = [1074, 1079, 1083, 1082, 1077, 1085, 1082, 1079, 1073, 1083, 1089, 1093, 1094, 1100, 1111]\n",
        "\n",
        "def MAF_n(array,n):\n",
        "  length = len(array)\n",
        "  MAF_array_n = []\n",
        "  for i in range(0, length - n + 1):\n",
        "    tmp = 0\n",
        "    for j in range(n):\n",
        "      tmp += array[j + i]\n",
        "    avg = tmp / n\n",
        "    avg = np.round(avg, 2)\n",
        "    MAF_array_n.append(avg)\n",
        "  return MAF_array_n\n",
        "\n",
        "number = int(input())\n",
        "\n",
        "a = MAF_n(Tesla_stock, number)\n",
        "a, len(a), len(Tesla_stock)"
      ],
      "execution_count": 17,
      "outputs": [
        {
          "name": "stdout",
          "output_type": "stream",
          "text": [
            "4\n"
          ]
        },
        {
          "output_type": "execute_result",
          "data": {
            "text/plain": [
              "([1079.5,\n",
              "  1080.25,\n",
              "  1081.75,\n",
              "  1081.5,\n",
              "  1080.75,\n",
              "  1079.75,\n",
              "  1079.25,\n",
              "  1081.0,\n",
              "  1084.5,\n",
              "  1089.75,\n",
              "  1094.0,\n",
              "  1099.5],\n",
              " 12,\n",
              " 15)"
            ]
          },
          "metadata": {},
          "execution_count": 17
        }
      ]
    },
    {
      "cell_type": "code",
      "metadata": {
        "id": "cOSRhx6bXEka"
      },
      "source": [
        ""
      ],
      "execution_count": null,
      "outputs": []
    }
  ]
}