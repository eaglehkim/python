{
  "nbformat": 4,
  "nbformat_minor": 0,
  "metadata": {
    "colab": {
      "name": "prac.ipynb의 사본",
      "provenance": [],
      "collapsed_sections": [],
      "authorship_tag": "ABX9TyNa9sKogMf49E9Cw43QMmvq",
      "include_colab_link": true
    },
    "kernelspec": {
      "name": "python3",
      "display_name": "Python 3"
    },
    "language_info": {
      "name": "python"
    }
  },
  "cells": [
    {
      "cell_type": "markdown",
      "metadata": {
        "id": "view-in-github",
        "colab_type": "text"
      },
      "source": [
        "<a href=\"https://colab.research.google.com/github/eaglehkim/python/blob/main/prac_ipynb%EC%9D%98_%EC%82%AC%EB%B3%B8.ipynb\" target=\"_parent\"><img src=\"https://colab.research.google.com/assets/colab-badge.svg\" alt=\"Open In Colab\"/></a>"
      ]
    },
    {
      "cell_type": "markdown",
      "metadata": {
        "id": "1cDP9UGBmpfW"
      },
      "source": [
        "/content/testttt.txt\n",
        "/content/teststs.csv"
      ]
    },
    {
      "cell_type": "markdown",
      "metadata": {
        "id": "6_qZiPnLNen9"
      },
      "source": [
        "**2021 - 11 - 11**"
      ]
    },
    {
      "cell_type": "markdown",
      "metadata": {
        "id": "POSlReGuqQci"
      },
      "source": [
        "눈 앞에 여러 물건이 있다. 무엇을 집겠는가? 1과일 2떡 3수정구슬\n",
        "1 - 과일을 선택 당신은 생각이 많고 진지해보이는 연상에게 반하는 타입\n",
        "2 - 떡을 선택 당신은 무드에 약해 화술과 매너가 좋은 사람에게 끌리는 타입\n",
        "3 - 수정구슬을 선택 당신은 정열적이고 열중하는 타입의 이성에게 끌리는 타입"
      ]
    },
    {
      "cell_type": "code",
      "metadata": {
        "colab": {
          "base_uri": "https://localhost:8080/"
        },
        "id": "cae5N3iydljD",
        "outputId": "fe3a870c-908a-4b50-be28-263220c23958"
      },
      "source": [
        "print(\"======================================================================================\")\n",
        "print(\"======                눈 앞에 여러 물건이 있다. 무엇을 집겠는가?                ======\")\n",
        "print(\"======================================================================================\")\n",
        "print(\"======                                  1:과일                                  ======\")\n",
        "print(\"======                                  2:떡                                    ======\")\n",
        "print(\"======                                  3:수정구슬                              ======\")\n",
        "choice = int(input(\"======                     선택번호 --> \"))\n",
        "\n",
        "if choice == 1:\n",
        "  print(\"======     과일을 선택 당신은 생각이 많고 진지해보이는 연상에게 반하는 타입     ======\")\n",
        "elif choice == 2:\n",
        "  print(\"======   떡을 선택 당신은 무드에 약해 화술과 매너가 좋은 사람에게 끌리는 타입   ======\")\n",
        "elif choice == 3:\n",
        "  print(\"======  수정구슬을 선택 당신은 정열적이고 열중하는 타입의 이성에게 끌리는 타입  ======\")\n",
        "else:\n",
        "  print(\"======                         1~3번중에 다시 고르시오                          ======\")"
      ],
      "execution_count": null,
      "outputs": [
        {
          "output_type": "stream",
          "name": "stdout",
          "text": [
            "======================================================================================\n",
            "======                눈 앞에 여러 물건이 있다. 무엇을 집겠는가?                ======\n",
            "======================================================================================\n",
            "======                                  1:과일                                  ======\n",
            "======                                  2:떡                                    ======\n",
            "======                                  3:수정구슬                              ======\n",
            "======                     선택번호 --> 5\n",
            "======                         1~3번중에 다시 고르시오                          ======\n"
          ]
        }
      ]
    },
    {
      "cell_type": "markdown",
      "metadata": {
        "id": "iS2ZGUqytbCq"
      },
      "source": [
        "번호판이 무엇입니까?\n",
        "a = 377모4726\n",
        "b = 38육4104\n",
        "c = 66무3333"
      ]
    },
    {
      "cell_type": "code",
      "metadata": {
        "colab": {
          "base_uri": "https://localhost:8080/"
        },
        "id": "rTzUEFT7tpAB",
        "outputId": "d37fd5cc-d9f0-4f38-f9d5-529e1c563525"
      },
      "source": [
        "string = input('번호판 스캔 중 --> ')\n",
        "\n",
        "if string == '377모4726':\n",
        "  print('☆★☆★내부인, 통과☆★☆★')\n",
        "elif string == '38육4104':\n",
        "  print('☆★☆★내부인, 통과☆★☆★')\n",
        "elif string == '66무3333':\n",
        "  print('☆★☆★내부인, 통과☆★☆★')\n",
        "else:\n",
        "  print('※※※※외부인,통과불가※※※※')"
      ],
      "execution_count": null,
      "outputs": [
        {
          "output_type": "stream",
          "name": "stdout",
          "text": [
            "번호판 스캔 중 --> 23r2e4fwe\n",
            "※※※※외부인,통과불가※※※※\n"
          ]
        }
      ]
    },
    {
      "cell_type": "markdown",
      "metadata": {
        "id": "cdgyoMItwa2x"
      },
      "source": [
        "임의의 정수 3개를 받아서 최대값을 구해라"
      ]
    },
    {
      "cell_type": "code",
      "metadata": {
        "colab": {
          "base_uri": "https://localhost:8080/"
        },
        "id": "CGZ3euu5xMmq",
        "outputId": "8d9402bb-e233-43b1-f63b-5ee3d9341a60"
      },
      "source": [
        "a, b, c = map(int, input().split())\n",
        "\n",
        "nMax = a\n",
        "\n",
        "if b > nMax:\n",
        "  nMax = b\n",
        "\n",
        "if c > nMax:\n",
        "  nMax = c\n",
        "\n",
        "print(nMax)"
      ],
      "execution_count": null,
      "outputs": [
        {
          "output_type": "stream",
          "name": "stdout",
          "text": [
            "3 1 2\n",
            "3\n"
          ]
        }
      ]
    },
    {
      "cell_type": "code",
      "metadata": {
        "colab": {
          "base_uri": "https://localhost:8080/"
        },
        "id": "3TPaPqK-29Ox",
        "outputId": "20f68a95-ffe6-4a87-cde3-d8a07f57c5aa"
      },
      "source": [
        "# a, 1 1학년 2 2학년 3 3학년\n",
        "# b, 90 A 80 B C 70 else D\n",
        "print(\"학년과 점수를 공백으로 입력하시오:\", end='')\n",
        "grade, score = map(int, input().split())\n",
        "\n",
        "if 0 <= score <=100 and 1 <= grade <= 3:\n",
        "  if 90 <= score <= 100:\n",
        "    score = 'A'\n",
        "  elif 80 <= score < 90:\n",
        "    score = 'B'\n",
        "  elif 70 <= score < 80:\n",
        "    score = 'C'\n",
        "  else:\n",
        "    score = 'D'\n",
        "  print(\"학년:{0}, 학점:{1}\".format(grade, score))\n",
        "\n",
        "else:\n",
        "  print('잘못 입력하셨습니다.')\n",
        "\n",
        "\n"
      ],
      "execution_count": null,
      "outputs": [
        {
          "output_type": "stream",
          "name": "stdout",
          "text": [
            "학년과 점수를 공백으로 입력하시오:3 45\n",
            "학년:3, 학점:D\n"
          ]
        }
      ]
    },
    {
      "cell_type": "markdown",
      "metadata": {
        "id": "H3VA5FsmMte2"
      },
      "source": [
        "**2021 - 11 - 16**"
      ]
    },
    {
      "cell_type": "code",
      "metadata": {
        "id": "6RD426Wc3q2y",
        "colab": {
          "base_uri": "https://localhost:8080/"
        },
        "outputId": "3add5bd0-5405-419a-db20-1b682a49b0c9"
      },
      "source": [
        "num = input('number? ')\n",
        "\n",
        "if num.isnumeric():\n",
        "  num = int(num)\n",
        "  if num > 0:\n",
        "    print('pos')\n",
        "  elif num == 0:\n",
        "    print('zero')\n",
        "  else:\n",
        "    print('neg')\n",
        "else:\n",
        "  print('must be number')"
      ],
      "execution_count": null,
      "outputs": [
        {
          "output_type": "stream",
          "name": "stdout",
          "text": [
            "number? 546\n",
            "pos\n"
          ]
        }
      ]
    },
    {
      "cell_type": "code",
      "metadata": {
        "colab": {
          "base_uri": "https://localhost:8080/"
        },
        "id": "dDVYYlEmSU6_",
        "outputId": "ae89e12b-a932-42ec-8b6b-c620528a91a5"
      },
      "source": [
        "myList = [1, 2, 3, 'a']\n",
        "print(myList)"
      ],
      "execution_count": null,
      "outputs": [
        {
          "output_type": "stream",
          "name": "stdout",
          "text": [
            "[1, 2, 3, 'a']\n"
          ]
        }
      ]
    },
    {
      "cell_type": "code",
      "metadata": {
        "colab": {
          "base_uri": "https://localhost:8080/"
        },
        "id": "B1QVxCWUUwrY",
        "outputId": "4009404c-5972-42bb-a7b7-835790a73b9f"
      },
      "source": [
        "myList.append(5)\n",
        "myList"
      ],
      "execution_count": null,
      "outputs": [
        {
          "output_type": "execute_result",
          "data": {
            "text/plain": [
              "[1, 2, 3, 'a', 5]"
            ]
          },
          "metadata": {},
          "execution_count": 19
        }
      ]
    },
    {
      "cell_type": "code",
      "metadata": {
        "colab": {
          "base_uri": "https://localhost:8080/",
          "height": 35
        },
        "id": "avPKUwEsV5un",
        "outputId": "4ab2f336-12cb-41ba-92e2-332d8b8f73f6"
      },
      "source": [
        "myList2 = ['Python', 'AI', 'Bigdata', 23123, 'A']\n",
        "myList2\n",
        "myList2.append(8949)\n",
        "myList2.append(\"C\")\n",
        "myList2"
      ],
      "execution_count": null,
      "outputs": [
        {
          "output_type": "execute_result",
          "data": {
            "application/vnd.google.colaboratory.intrinsic+json": {
              "type": "string"
            },
            "text/plain": [
              "'Python'"
            ]
          },
          "metadata": {},
          "execution_count": 25
        }
      ]
    },
    {
      "cell_type": "code",
      "metadata": {
        "colab": {
          "base_uri": "https://localhost:8080/",
          "height": 35
        },
        "id": "mEvb-LHTWU61",
        "outputId": "b9d54553-cfdb-43e6-8853-edb6b99a6517"
      },
      "source": [
        "myList2[1]"
      ],
      "execution_count": null,
      "outputs": [
        {
          "output_type": "execute_result",
          "data": {
            "application/vnd.google.colaboratory.intrinsic+json": {
              "type": "string"
            },
            "text/plain": [
              "'AI'"
            ]
          },
          "metadata": {},
          "execution_count": 28
        }
      ]
    },
    {
      "cell_type": "code",
      "metadata": {
        "colab": {
          "base_uri": "https://localhost:8080/"
        },
        "id": "tDMzg-OCWajQ",
        "outputId": "191dbc33-ead7-495b-b4f0-f4b819e18ce3"
      },
      "source": [
        "myList3 = [8456,8496456,8484,1,1,1,1,1,1,1,1,1,5498,2,2,2,2,2,2,2,49849,46,549,849,455555,45555,849]\n",
        "myList3.sort()\n",
        "print(myList3)"
      ],
      "execution_count": null,
      "outputs": [
        {
          "output_type": "stream",
          "name": "stdout",
          "text": [
            "[1, 1, 1, 1, 1, 1, 1, 1, 1, 2, 2, 2, 2, 2, 2, 2, 46, 549, 849, 849, 5498, 8456, 8484, 45555, 49849, 455555, 8496456]\n"
          ]
        }
      ]
    },
    {
      "cell_type": "code",
      "metadata": {
        "colab": {
          "base_uri": "https://localhost:8080/"
        },
        "id": "GrG_5R8QWxWk",
        "outputId": "9c525165-02a8-4e36-ac3e-f6cd27195855"
      },
      "source": [
        "myList3.reverse()\n",
        "print(myList3)"
      ],
      "execution_count": null,
      "outputs": [
        {
          "output_type": "stream",
          "name": "stdout",
          "text": [
            "[8496456, 455555, 49849, 45555, 8484, 8456, 5498, 849, 849, 549, 46, 2, 2, 2, 2, 2, 2, 2, 1, 1, 1, 1, 1, 1, 1, 1, 1]\n"
          ]
        }
      ]
    },
    {
      "cell_type": "code",
      "metadata": {
        "colab": {
          "base_uri": "https://localhost:8080/"
        },
        "id": "vfmTy3OtXAZu",
        "outputId": "4437646b-cc78-43ac-c801-675f32847c29"
      },
      "source": [
        "myList3.count(849)"
      ],
      "execution_count": null,
      "outputs": [
        {
          "output_type": "execute_result",
          "data": {
            "text/plain": [
              "2"
            ]
          },
          "metadata": {},
          "execution_count": 37
        }
      ]
    },
    {
      "cell_type": "code",
      "metadata": {
        "colab": {
          "base_uri": "https://localhost:8080/"
        },
        "id": "MK2XFmfuXQYy",
        "outputId": "fac8bcac-47ec-4c1e-fab0-fa4775a256a6"
      },
      "source": [
        "myList4 = ['C', 'Python', 'Java', 'JavaScript', 'C++', 'C', 'Python']\n",
        "myList4.count('Python')\n"
      ],
      "execution_count": null,
      "outputs": [
        {
          "output_type": "execute_result",
          "data": {
            "text/plain": [
              "2"
            ]
          },
          "metadata": {},
          "execution_count": 38
        }
      ]
    },
    {
      "cell_type": "code",
      "metadata": {
        "colab": {
          "base_uri": "https://localhost:8080/"
        },
        "id": "6PDRAwlVXoWr",
        "outputId": "fceb1c54-c669-4b8b-b552-d1a2d70bfc94"
      },
      "source": [
        "a = [1,2,3,4,5,6,7,8,9,10]\n",
        "b = list(range(1,11))\n",
        "print(b)"
      ],
      "execution_count": null,
      "outputs": [
        {
          "output_type": "stream",
          "name": "stdout",
          "text": [
            "[1, 2, 3, 4, 5, 6, 7, 8, 9, 10]\n"
          ]
        }
      ]
    },
    {
      "cell_type": "code",
      "metadata": {
        "colab": {
          "base_uri": "https://localhost:8080/"
        },
        "id": "5iglAvrIaThM",
        "outputId": "8e9b4941-6105-435a-ff1a-73596833293e"
      },
      "source": [
        "c = list(range(1,11,3))\n",
        "print(c)"
      ],
      "execution_count": null,
      "outputs": [
        {
          "output_type": "stream",
          "name": "stdout",
          "text": [
            "[1, 4, 7, 10]\n"
          ]
        }
      ]
    },
    {
      "cell_type": "code",
      "metadata": {
        "colab": {
          "base_uri": "https://localhost:8080/"
        },
        "id": "zUU3J42oawUC",
        "outputId": "aaf8e2c2-8a80-468e-afba-960484161c1f"
      },
      "source": [
        "for i in [1,2,3,4,'a', 'python']:\n",
        "  print(i, end=' ')"
      ],
      "execution_count": null,
      "outputs": [
        {
          "output_type": "stream",
          "name": "stdout",
          "text": [
            "1 2 3 4 a python "
          ]
        }
      ]
    },
    {
      "cell_type": "code",
      "metadata": {
        "colab": {
          "base_uri": "https://localhost:8080/"
        },
        "id": "QOyMBTD7bpUO",
        "outputId": "5f05bc65-8a40-4ec5-97db-d99a598c88c2"
      },
      "source": [
        "for i in range(1, 11):\n",
        "  print(i, end=' ')"
      ],
      "execution_count": null,
      "outputs": [
        {
          "output_type": "stream",
          "name": "stdout",
          "text": [
            "1 2 3 4 5 6 7 8 9 10 "
          ]
        }
      ]
    },
    {
      "cell_type": "code",
      "metadata": {
        "colab": {
          "base_uri": "https://localhost:8080/"
        },
        "id": "w_KuTzCQcLeD",
        "outputId": "5debe686-a47a-47b4-e99c-4dfc8f2a42c0"
      },
      "source": [
        "for i in range(5):\n",
        "  i += 1\n",
        "  print(i, end=' ')"
      ],
      "execution_count": null,
      "outputs": [
        {
          "output_type": "stream",
          "name": "stdout",
          "text": [
            "1 2 3 4 5 "
          ]
        }
      ]
    },
    {
      "cell_type": "code",
      "metadata": {
        "colab": {
          "base_uri": "https://localhost:8080/"
        },
        "id": "GYTdIi4lcklr",
        "outputId": "a3ae4a34-c8e6-438e-9f1c-9c2633bf05d3"
      },
      "source": [
        "for i in range(1,6):\n",
        "  if i % 2 != 0:\n",
        "    print(i, end=' ')"
      ],
      "execution_count": null,
      "outputs": [
        {
          "output_type": "stream",
          "name": "stdout",
          "text": [
            "1 3 5 "
          ]
        }
      ]
    },
    {
      "cell_type": "code",
      "metadata": {
        "colab": {
          "base_uri": "https://localhost:8080/"
        },
        "id": "cJXHqzCWcocF",
        "outputId": "a7912a28-bcf2-499f-d478-547619311c2b"
      },
      "source": [
        "for i in range(1,10):\n",
        "  print(\"3 * {} = {:2}\".format(i, 3*i))"
      ],
      "execution_count": null,
      "outputs": [
        {
          "output_type": "stream",
          "name": "stdout",
          "text": [
            "3 * 1 =  3\n",
            "3 * 2 =  6\n",
            "3 * 3 =  9\n",
            "3 * 4 = 12\n",
            "3 * 5 = 15\n",
            "3 * 6 = 18\n",
            "3 * 7 = 21\n",
            "3 * 8 = 24\n",
            "3 * 9 = 27\n"
          ]
        }
      ]
    },
    {
      "cell_type": "code",
      "metadata": {
        "colab": {
          "base_uri": "https://localhost:8080/"
        },
        "id": "eS_Wis9xe-PB",
        "outputId": "1800cff2-9962-41ff-ffd0-7e5adc2587af"
      },
      "source": [
        "num = int(input())\n",
        "\n",
        "for i in range(1, 10):\n",
        "  print(\"{} * {} = {:2}\".format(num, i, num*i))"
      ],
      "execution_count": null,
      "outputs": [
        {
          "output_type": "stream",
          "name": "stdout",
          "text": [
            "9\n",
            "9 * 1 =  9\n",
            "9 * 2 = 18\n",
            "9 * 3 = 27\n",
            "9 * 4 = 36\n",
            "9 * 5 = 45\n",
            "9 * 6 = 54\n",
            "9 * 7 = 63\n",
            "9 * 8 = 72\n",
            "9 * 9 = 81\n"
          ]
        }
      ]
    },
    {
      "cell_type": "code",
      "metadata": {
        "colab": {
          "base_uri": "https://localhost:8080/"
        },
        "id": "7cHLWBhHffOS",
        "outputId": "2bfe92f6-e2ae-49fd-aab6-2b92972cdf23"
      },
      "source": [
        "for i in range(5, 0, -1):\n",
        "  print(i, end=' ')"
      ],
      "execution_count": null,
      "outputs": [
        {
          "output_type": "stream",
          "name": "stdout",
          "text": [
            "5 4 3 2 1 "
          ]
        }
      ]
    },
    {
      "cell_type": "code",
      "metadata": {
        "colab": {
          "base_uri": "https://localhost:8080/"
        },
        "id": "RUCsyEPPhUGL",
        "outputId": "b2bdd77f-f4ae-4d2f-9172-79db79beb4dc"
      },
      "source": [
        "num = int(input())\n",
        "nSum = 0\n",
        "for i in range(1, num + 1):\n",
        "  nSum += i\n",
        "print(nSum)"
      ],
      "execution_count": null,
      "outputs": [
        {
          "output_type": "stream",
          "name": "stdout",
          "text": [
            "10\n",
            "55\n"
          ]
        }
      ]
    },
    {
      "cell_type": "code",
      "metadata": {
        "colab": {
          "base_uri": "https://localhost:8080/"
        },
        "id": "cI_5WIl4hfGP",
        "outputId": "c613b8f1-1df4-45c7-f47f-7cee3934bf0e"
      },
      "source": [
        "run = True\n",
        "i = 0\n",
        "while run:\n",
        "  number = int(input('(To exit, input 0) --> '))\n",
        "  print(number)\n",
        "  if number == 0:\n",
        "    run = False # kill-code\n",
        "    print(\"exit\")"
      ],
      "execution_count": null,
      "outputs": [
        {
          "output_type": "stream",
          "name": "stdout",
          "text": [
            "(To stop input 0) --> 8\n",
            "8\n",
            "(To stop input 0) --> 20\n",
            "20\n",
            "(To stop input 0) --> 4594\n",
            "4594\n",
            "(To stop input 0) --> 0\n",
            "0\n",
            "exit\n"
          ]
        }
      ]
    },
    {
      "cell_type": "code",
      "metadata": {
        "colab": {
          "base_uri": "https://localhost:8080/"
        },
        "id": "FdiyeyD9ntqT",
        "outputId": "abf9a2bd-aa50-49ed-bddc-92cddbf9e76e"
      },
      "source": [
        "run = True\n",
        "while run:\n",
        "  ans = input('capital city of S.K --> ')\n",
        "  if ans == '서울' or ans == 'SEOUL' or ans == 'seoul':\n",
        "    run = False\n",
        "    print('correct')\n",
        "  else:\n",
        "    print('wrong, again')\n"
      ],
      "execution_count": null,
      "outputs": [
        {
          "output_type": "stream",
          "name": "stdout",
          "text": [
            "capital city of S.K --> 베를린\n",
            "wrong, again\n",
            "capital city of S.K --> 뉴욕\n",
            "wrong, again\n",
            "capital city of S.K --> 워싱턴\n",
            "wrong, again\n",
            "capital city of S.K --> 브라질리아\n",
            "wrong, again\n",
            "capital city of S.K --> seoul\n",
            "correct\n"
          ]
        }
      ]
    },
    {
      "cell_type": "markdown",
      "metadata": {
        "id": "T4UuKaKQeRbE"
      },
      "source": [
        "**2021 - 11 - 18**"
      ]
    },
    {
      "cell_type": "code",
      "metadata": {
        "id": "NgPXTiGMrkQ_",
        "colab": {
          "base_uri": "https://localhost:8080/",
          "height": 265
        },
        "outputId": "29293d2c-81cd-4727-f6a4-d66612679ca6"
      },
      "source": [
        "appearance_good = [9, 10, 8, 9, 7, 9, 8, 9, 6, 5, 6, 9, 8]\n",
        "personality_good = [10, 6, 1, 1, 2, 2, 2, 3, 3, 2, 1, 7, 5]\n",
        "appearance_bad = [4, 3, 5, 7, 5, 3]\n",
        "personality_bad = [4, 3, 6, 5, 3, 2]\n",
        "\n",
        "import matplotlib.pyplot as plt\n",
        "\n",
        "plt.scatter(appearance_good, personality_good)\n",
        "plt.scatter(appearance_bad, personality_bad)\n",
        "plt.show()"
      ],
      "execution_count": null,
      "outputs": [
        {
          "output_type": "display_data",
          "data": {
            "image/png": "[encoded data removed]",
            "text/plain": [
              "<Figure size 432x288 with 1 Axes>"
            ]
          },
          "metadata": {
            "needs_background": "light"
          }
        }
      ]
    },
    {
      "cell_type": "code",
      "metadata": {
        "id": "8C80DkNTtBqX",
        "colab": {
          "base_uri": "https://localhost:8080/"
        },
        "outputId": "3c6e6a51-63f3-4198-e687-8ee370e6d7da"
      },
      "source": [
        "b = [1,2,3,4]\n",
        "len(b)"
      ],
      "execution_count": null,
      "outputs": [
        {
          "output_type": "execute_result",
          "data": {
            "text/plain": [
              "4"
            ]
          },
          "metadata": {},
          "execution_count": 41
        }
      ]
    },
    {
      "cell_type": "markdown",
      "metadata": {
        "id": "k1iN9GmRntgw"
      },
      "source": [
        "**2021 - 11 - 19**"
      ]
    },
    {
      "cell_type": "code",
      "metadata": {
        "id": "nDk90GBI89mF",
        "colab": {
          "base_uri": "https://localhost:8080/"
        },
        "outputId": "d1b4fb1b-c0e4-4d89-83d4-486f386eab23"
      },
      "source": [
        "def BMI(s, weight, height):\n",
        "  if s == 1:\n",
        "    return weight / height ** 2 * 0.9\n",
        "  if s == 2:\n",
        "    return weight / height ** 2 * 0.8\n",
        "\n",
        "run = True\n",
        "\n",
        "while run:  \n",
        "  print(\"## To exit, input 0 ##\")\n",
        "  print(\"## male 1, female 2 ##\")\n",
        "  print(\"##   (kg, m 단위)   ##\")\n",
        "  s = int(input(\"s : \"))\n",
        "\n",
        "  if s == 0:\n",
        "    print(\"exit\")\n",
        "    break\n",
        "  w = float(input(\"weight: \"))\n",
        "  h = float(input(\"height: \"))  \n",
        "\n",
        "  bmi = BMI(s, w, h)\n",
        "  print(\"{:.2f}\".format(bmi))\n",
        "\n",
        "  if bmi < 18.5:\n",
        "    print(\"저체중\")\n",
        "  elif bmi < 23:\n",
        "    print(\"정상\")\n",
        "  elif bmi < 25:\n",
        "    print(\"과체중\")\n",
        "  else:\n",
        "    print(\"비만\")"
      ],
      "execution_count": null,
      "outputs": [
        {
          "output_type": "stream",
          "name": "stdout",
          "text": [
            "## To exit, input 0 ##\n",
            "## male 1, female 2 ##\n",
            "##   (kg, m 단위)   ##\n",
            "s : 1\n",
            "weight: 73\n",
            "height: 1.83\n",
            "19.62\n",
            "정상\n",
            "## To exit, input 0 ##\n",
            "## male 1, female 2 ##\n",
            "##   (kg, m 단위)   ##\n",
            "s : 1\n",
            "weight: 70\n",
            "height: 1.83\n",
            "18.81\n",
            "정상\n",
            "## To exit, input 0 ##\n",
            "## male 1, female 2 ##\n",
            "##   (kg, m 단위)   ##\n",
            "s : 2\n",
            "weight: 49\n",
            "height: 1.63\n",
            "14.75\n",
            "저체중\n",
            "## To exit, input 0 ##\n",
            "## male 1, female 2 ##\n",
            "##   (kg, m 단위)   ##\n",
            "s : 0\n",
            "exit\n"
          ]
        }
      ]
    },
    {
      "cell_type": "code",
      "metadata": {
        "colab": {
          "base_uri": "https://localhost:8080/"
        },
        "id": "vqLrqil7vNNn",
        "outputId": "051a9399-a596-45db-a41c-2961c216b7cf"
      },
      "source": [
        "run = True\n",
        "\n",
        "while run:\n",
        "  number = int(input(\"--> \"))\n",
        "\n",
        "  if number >= 100:\n",
        "    first = number % 10\n",
        "    number = int(number / 10)\n",
        "    second = number % 10\n",
        "    number = int(number / 10)\n",
        "    third = number % 10\n",
        "    print(\"백의 자리 {}, 십의 자리 {}, 일의 자리 {}\".format(third, second, first))\n",
        "  elif number >= 10:\n",
        "    first = number % 10\n",
        "    number = int(number / 10)\n",
        "    second = number % 10\n",
        "    print(\"십의 자리 {}, 일의 자리 {}\".format(second, first))\n",
        "  elif number >= 0:\n",
        "    first = number % 10\n",
        "    print(\"일의 자리 {}\".format(first))\n",
        "\n",
        "  if number == 0:\n",
        "    run = False"
      ],
      "execution_count": null,
      "outputs": [
        {
          "output_type": "stream",
          "name": "stdout",
          "text": [
            "--> 0\n",
            "일의 자리 0\n"
          ]
        }
      ]
    },
    {
      "cell_type": "code",
      "metadata": {
        "colab": {
          "base_uri": "https://localhost:8080/"
        },
        "id": "x89f_L_S67xL",
        "outputId": "777fd73d-031e-4085-c5c5-63a2dd66f392"
      },
      "source": [
        "def introduce(name, age, gender, place):\n",
        "  print(\"내 이름은 {}이고, 나이는 {}이고, 성별은 {}이고, {}에 삽니다.\".format(name, age, gender, place))\n",
        "\n",
        "introduce(\"김하람\", 31, \"남자\", \"남산동\")"
      ],
      "execution_count": null,
      "outputs": [
        {
          "output_type": "stream",
          "name": "stdout",
          "text": [
            "내 이름은 김하람이고, 나이는 31이고, 성별은 남자이고, 남산동에 삽니다.\n"
          ]
        }
      ]
    },
    {
      "cell_type": "code",
      "metadata": {
        "colab": {
          "base_uri": "https://localhost:8080/"
        },
        "id": "25DCApVPFSpw",
        "outputId": "6a8dc706-6e04-4c99-be35-8967f0754925"
      },
      "source": [
        "def sum(*args): # *가 핵심\n",
        "  sum = 0\n",
        "  for i in args:\n",
        "    sum += i\n",
        "  return sum\n",
        "\n",
        "sum(1,2,3,4,5,6,7,8,9,10)"
      ],
      "execution_count": null,
      "outputs": [
        {
          "output_type": "execute_result",
          "data": {
            "text/plain": [
              "55"
            ]
          },
          "metadata": {},
          "execution_count": 75
        }
      ]
    },
    {
      "cell_type": "code",
      "metadata": {
        "colab": {
          "base_uri": "https://localhost:8080/"
        },
        "id": "IvkdvWplKyjN",
        "outputId": "6f4aaa3f-00c2-48e1-84b0-67003bcd0798"
      },
      "source": [
        "def show(*args):\n",
        "  for i in args:\n",
        "    print(i, end=' ')\n",
        "  \n",
        "show(2,3,4,5,3,'print',\"A\",2,31,2,3)"
      ],
      "execution_count": null,
      "outputs": [
        {
          "output_type": "stream",
          "name": "stdout",
          "text": [
            "2 3 4 5 3 print A 2 31 2 3 "
          ]
        }
      ]
    },
    {
      "cell_type": "markdown",
      "metadata": {
        "id": "HucwnaevOmo4"
      },
      "source": [
        "**2021 - 11 -23**"
      ]
    },
    {
      "cell_type": "markdown",
      "metadata": {
        "id": "xxPPDLhIZP1n"
      },
      "source": [
        "모듈: 독립적으로 알아서 기능 (함수 여럿 모인 것)\n",
        "  - 업데이트, 디버깅, 인수인계 쉬움"
      ]
    },
    {
      "cell_type": "code",
      "metadata": {
        "id": "HtBoFCJ7Lph_",
        "colab": {
          "base_uri": "https://localhost:8080/"
        },
        "outputId": "0b1a8162-9081-4d91-9d98-389a975d393e"
      },
      "source": [
        "print(\"환율\")\n",
        "\n",
        "from exchange import dollar_to_won as DtW\n",
        "from exchange import yen_to_won as YtW\n",
        "\n",
        "YtW(100)"
      ],
      "execution_count": null,
      "outputs": [
        {
          "output_type": "stream",
          "name": "stdout",
          "text": [
            "환율\n"
          ]
        },
        {
          "output_type": "execute_result",
          "data": {
            "text/plain": [
              "1000"
            ]
          },
          "metadata": {},
          "execution_count": 35
        }
      ]
    },
    {
      "cell_type": "code",
      "metadata": {
        "id": "nfGqLwCKRD-1",
        "colab": {
          "base_uri": "https://localhost:8080/"
        },
        "outputId": "ea0f660a-8e20-4280-8cd8-a81081b3c5d3"
      },
      "source": [
        "run = True\n",
        "\n",
        "while run:\n",
        "  print(\"#### Dollar to Won : 1 ####\")\n",
        "  print(\"####  Yen to Won : 2   ####\")\n",
        "  number = int(input(\"Number --> \"))\n",
        "  money = int(input(\"Amount? -->\"))\n",
        "\n",
        "  if number == 1:\n",
        "    print(\"${} is \\{}\".format(money, DtW(money)))\n",
        "  elif number == 2:\n",
        "    print(\"￥{} is \\{}\".format(money, YtW(money)))\n",
        "\n",
        "  print(\"#### continue : c ####\")\n",
        "  print(\"####   exit : x   ####\")\n",
        "  s = input(\"continue or exit? -- >\")\n",
        "  if s == \"c\":\n",
        "    continue\n",
        "  elif s == \"x\":\n",
        "    break\n"
      ],
      "execution_count": null,
      "outputs": [
        {
          "name": "stdout",
          "output_type": "stream",
          "text": [
            "#### Dollar to Won : 1 ####\n",
            "####  Yen to Won : 2   ####\n",
            "Number --> 1\n",
            "Amount? -->100\n",
            "$100 is \\100000\n",
            "#### continue : c ####\n",
            "####   exit : x   ####\n",
            "continue or exit? -- >x\n"
          ]
        }
      ]
    },
    {
      "cell_type": "markdown",
      "metadata": {
        "id": "MATukdibsiGD"
      },
      "source": [
        "List  = 데이터 나열           *수정가능*\n",
        "Tuple = List                  *수정불가*\n",
        "Set   = 데이터 나열, 중복x\n",
        "Dict  = key, value"
      ]
    },
    {
      "cell_type": "code",
      "metadata": {
        "colab": {
          "base_uri": "https://localhost:8080/"
        },
        "id": "PXFhur_Wi3OG",
        "outputId": "2d2ff18e-c5cc-4483-a6d8-84fa1dfa826d"
      },
      "source": [
        "myList = [1,2,3,1,'python']       # List = 데이터 나열, 중복o, 인덱싱o\n",
        "mySet = {1,2,3,1,2,3,'python'}    # Set  = 데이터 나열, 중복x, 인덱싱x\n",
        "myTuple = (1,2,3,1,'python')      # Tuple = List 수정불가, 중복o, 인덱싱o\n",
        "myDict = {'one':'1'}              # Dict = key, value, key 중복x\n"
      ],
      "execution_count": null,
      "outputs": [
        {
          "output_type": "stream",
          "name": "stdout",
          "text": [
            "{'two': '2'}\n"
          ]
        }
      ]
    },
    {
      "cell_type": "markdown",
      "metadata": {
        "id": "Xk2R8ngghfUD"
      },
      "source": [
        "**2021 - 11 - 25**"
      ]
    },
    {
      "cell_type": "code",
      "metadata": {
        "colab": {
          "base_uri": "https://localhost:8080/"
        },
        "id": "23AnmuZulGEx",
        "outputId": "dc60b85d-1f0b-4a41-afac-10937ab00434"
      },
      "source": [
        "myset = set()\n",
        "\n",
        "for i in range(1, 21):\n",
        "  myset.add(i)\n",
        "\n",
        "myset2 = set()\n",
        "\n",
        "for i in range(2, 21, 2):\n",
        "  myset2.add(i)\n",
        "\n",
        "myset2"
      ],
      "execution_count": null,
      "outputs": [
        {
          "output_type": "execute_result",
          "data": {
            "text/plain": [
              "{2, 4, 6, 8, 10, 12, 14, 16, 18, 20}"
            ]
          },
          "metadata": {},
          "execution_count": 120
        }
      ]
    },
    {
      "cell_type": "code",
      "metadata": {
        "id": "2D1CbKK0tf9x",
        "colab": {
          "base_uri": "https://localhost:8080/"
        },
        "outputId": "97814089-8105-4408-c931-e42ccb23baea"
      },
      "source": [
        "number = int(input())\n",
        "k = 0\n",
        "myll = []\n",
        "while k < 8:\n",
        "  myll.append(number)\n",
        "  k += 1\n",
        "  number = int(input())\n",
        "c = myll.index(max(myll)) + 1\n",
        "print(max(myll))\n",
        "print(c)"
      ],
      "execution_count": null,
      "outputs": [
        {
          "output_type": "stream",
          "name": "stdout",
          "text": [
            "3\n",
            "29\n",
            "38\n",
            "12\n",
            "57\n",
            "74\n",
            "40\n",
            "85\n",
            "61\n",
            "85\n",
            "8\n"
          ]
        }
      ]
    },
    {
      "cell_type": "markdown",
      "metadata": {
        "id": "RVdDpwAER42a"
      },
      "source": [
        "**2021 - 11 - 30**"
      ]
    },
    {
      "cell_type": "code",
      "metadata": {
        "colab": {
          "base_uri": "https://localhost:8080/",
          "height": 265
        },
        "id": "uS_gIxiKUIzL",
        "outputId": "9a2a9d15-c8b7-465e-8236-519b18e7d8b5"
      },
      "source": [
        "# 평균(mean, average)은 산술평균과 가중평균\n",
        "# 산술평균은 자료 전체의 합계를 자료의 총 개수로 나눈 값\n",
        "# 가중평균은 자료의 중요성이 다른경우, 각 자료에 가중치를 곱하고 난 다음에 \n",
        "# 이들 모두를 합한 값을 가중치의 합계로 나눈 것\n",
        "\n",
        "# 분산(variance)과 표준편차는 자료가 얼마나 흩어져 있는지 알아보는 것\n",
        "# 각 자료와 평균과의 차이를 편차(deviation), 표준편차(standard deviation)\n",
        "# 분산은 편차의 제곱들을 합한 다음 전체 자료 수로 나눈다\n",
        "\n",
        "# 공분산(covariance), COV, x-y 그래프에 나타낸 분산\n",
        "# COV = (x - x1)(y - y1) / n\n",
        "# V = (x - m)(x - m) / n\n",
        "\n",
        "# 표준화(normalization) - 최소를 0, 최대를 1. -1 ~ 1 사이에서 보여주는 것\n",
        "\n",
        "# 공분산 값이 큰지 작은지 알 수 없다 -> 표준화(normalization)\n",
        "# covariance coefficient(상관계수) - cov / x표준편차, y표준편차 -> -1 < ? < 1 로 정리됨\n",
        "\n",
        "#### 상관관계가 인과가 아니다 ####\n",
        "#### 통계에서는 상관관계가 높다고 표현하는 것이 좋다. 인과를 나타내기엔 통계만으로는 부족하다 ####\n",
        "\n",
        "# 상관관계가 높을 때, 어떨 때 인과관계라고 할 수 있는가?\n",
        "# 주의할 경우\n",
        "# 1) 우연\n",
        "# 2) 인과가 바뀜 (80%)\n",
        "# 3) 양의 피드백\n",
        "\n",
        "# 회귀(regression) - 세상엔 완벽한게 있고 + 지저분한게 있어서, 완벽한 것을 찾는 것\n",
        "# y = ax + b + e 에서 y = ax + b 를 찾자\n",
        "# COV(X, Y) = COV(x, ax+b+e(오류,입실론))\n",
        "# COV(X, aX+b+e) = COV(X,aX) + COV(X,b) + COV(X, e)\n",
        "#                = a COV(X,X) + COV(X, b) + COV(X, e)\n",
        "#                = a V(x)\n",
        "#              a = COV(X,Y) / V(X)\n",
        "#              Y = aX + b + e\n",
        "#           e(Y) = E(aX) + E(b) + E(e)\n",
        "#                = aE(X) + b\n",
        "#              b = E(Y) - aE(X)\n",
        "#                = E(Y) - ((COV(X,Y)/V(X))*E(X))\n",
        "\n",
        "import numpy\n",
        "import math\n",
        "\n",
        "age = [24,31,22]\n",
        "\n",
        "age2 = numpy.array([24,31,22])\n",
        "age2\n",
        "# array([24, 31, 22])\n",
        "\n",
        "mean2 = numpy.mean(age2)\n",
        "mean2\n",
        "# 25.666666666666668\n",
        "\n",
        "# 분산 - 얼마나 퍼져있나 = Variance, V\n",
        "\n",
        "deri = [age[0] - mean2, age[1] - mean2, age[2] - mean2]\n",
        "deri\n",
        "# [-1.6666666666666679, 5.333333333333332, -3.666666666666668]\n",
        "\n",
        "vari = (deri[0]**2 + deri[1]**2 + deri[2]**2) / len(age)\n",
        "vari\n",
        "# 14.888888888888891\n",
        "\n",
        "vari2 = numpy.var(age2)\n",
        "vari2\n",
        "# 14.888888888888891\n",
        "\n",
        "# 표준편차 (standard deviation, STD)\n",
        "# sqrt(V)\n",
        "\n",
        "STD = math.sqrt(vari)\n",
        "STD\n",
        "# 3.8586123009300755\n",
        "\n",
        "STD2 = numpy.std(age)\n",
        "STD2\n",
        "# 3.8586123009300755\n",
        "\n",
        "age = [24, 31, 22]\n",
        "happy = [8, 7, 0]\n",
        "\n",
        "mean_age = numpy.mean(age)\n",
        "mean_age\n",
        "# 25.666666666666668\n",
        "mean_happy = numpy.mean(happy)\n",
        "mean_happy\n",
        "# 5.0\n",
        "\n",
        "covari = ((age[0]-mean_age)*(happy[0]-mean_happy) + (age[1]-mean_age)*(happy[1]-mean_happy) + (age[2]-mean_age)*(happy[2]-mean_happy)) / 3\n",
        "covari \n",
        "# 8.0\n",
        "\n",
        "covari2 = numpy.cov(age,happy)\n",
        "covari2\n",
        "# array([[22.33333333, 12.        ],\n",
        "#       [12.        , 19.        ]])\n",
        "\n",
        "std_age = numpy.std(age)\n",
        "std_happy = numpy.std(happy)\n",
        "std_age, std_happy\n",
        "# (3.8586123009300755, 3.559026084010437)\n",
        "\n",
        "r = ((age[0]-mean_age)/std_age*(happy[0]-mean_happy)/std_happy + (age[1]-mean_age)/std_age*(happy[1]-mean_happy)/std_happy + (age[2]-mean_age)/std_age*(happy[2]-mean_happy)/std_happy) / 3\n",
        "r\n",
        "# 0.5825425755405012\n",
        "\n",
        "coef = numpy.corrcoef(age, happy)\n",
        "coef\n",
        "# array([[1.        , 0.58254258],\n",
        "#       [0.58254258, 1.        ]])\n",
        "\n",
        "import matplotlib.pyplot as plt\n",
        "plt.scatter(age, happy)\n",
        "plt.show()\n"
      ],
      "execution_count": null,
      "outputs": [
        {
          "output_type": "display_data",
          "data": {
            "image/png": "[encoded data removed]",
            "text/plain": [
              "<Figure size 432x288 with 1 Axes>"
            ]
          },
          "metadata": {
            "needs_background": "light"
          }
        }
      ]
    },
    {
      "cell_type": "code",
      "metadata": {
        "colab": {
          "base_uri": "https://localhost:8080/",
          "height": 265
        },
        "id": "oQt52mxZzSp_",
        "outputId": "0635c1ec-adaa-4e5a-9ddc-5a7da16b34e6"
      },
      "source": [
        "# y = ax + b, a = cov(x,y)/v, b = mean_y = a*mean_x\n",
        "a = covari/numpy.var(age)\n",
        "b = numpy.mean(happy) - a*numpy.mean(age)\n",
        "\n",
        "x = numpy.linspace(22, 31)\n",
        "y = a*x + b\n",
        "\n",
        "plt.plot(x,y,'r')\n",
        "plt.scatter(age, happy)\n",
        "plt.show()"
      ],
      "execution_count": null,
      "outputs": [
        {
          "output_type": "display_data",
          "data": {
            "image/png": "[encoded data removed]",
            "text/plain": [
              "<Figure size 432x288 with 1 Axes>"
            ]
          },
          "metadata": {
            "needs_background": "light"
          }
        }
      ]
    },
    {
      "cell_type": "code",
      "metadata": {
        "colab": {
          "base_uri": "https://localhost:8080/"
        },
        "id": "MqGzjsiO0d6X",
        "outputId": "8afa4d73-7b8c-49b1-b80b-a5dbfc7a3346"
      },
      "source": [
        "reg = numpy.polyfit(age, happy, 1)\n",
        "reg\n",
        "# array([ 0.53731343, -8.79104478]) -> y = 0.537x - 8.791"
      ],
      "execution_count": null,
      "outputs": [
        {
          "output_type": "execute_result",
          "data": {
            "text/plain": [
              "array([ 0.53731343, -8.79104478])"
            ]
          },
          "metadata": {},
          "execution_count": 94
        }
      ]
    },
    {
      "cell_type": "code",
      "metadata": {
        "id": "5wTfO-ylAbIk",
        "colab": {
          "base_uri": "https://localhost:8080/"
        },
        "outputId": "62159ca7-d76a-4b83-cbec-7e94046c033b"
      },
      "source": [
        "ad = [50,40,90,120]\n",
        "sale = [40,70,90,160]\n",
        "\n",
        "reg = numpy.polyfit(ad,sale,1)               #########################\n",
        "reg                                          #########################\n",
        "# array([ 1.24390244, -3.29268293]) -> y = 1.243ad - 3.292\n",
        "\n",
        "mean_ad = numpy.mean(ad)\n",
        "mean_ad\n",
        "# 75.0\n",
        "mean_sale = numpy.mean(sale)\n",
        "mean_sale\n",
        "# 90.0\n",
        "\n",
        "var_ad = numpy.var(ad)\n",
        "var_ad\n",
        "# 1025.0\n",
        "var_sale = numpy.var(sale)\n",
        "var_sale\n",
        "# 1950.0\n",
        "\n",
        "cov = numpy.cov(ad, sale)\n",
        "cov\n",
        "# array([[1366.66666667, 1700.        ],\n",
        "#       [1700.        , 2600.        ]])\n",
        "\n",
        "coeff = numpy.corrcoef(ad, sale)             ##########################\n",
        "coeff                                        ##########################\n",
        "\n",
        "# array([[1.        , 0.90184302],\n",
        "#       [0.90184302, 1.        ]])\n",
        "\n",
        "# 다항 회귀\n",
        "# reg = numpy.polyfit(x, y, t) t = 2, 3 다항회귀"
      ],
      "execution_count": null,
      "outputs": [
        {
          "output_type": "execute_result",
          "data": {
            "text/plain": [
              "array([[1.        , 0.90184302],\n",
              "       [0.90184302, 1.        ]])"
            ]
          },
          "metadata": {},
          "execution_count": 102
        }
      ]
    },
    {
      "cell_type": "markdown",
      "metadata": {
        "id": "TLh9KZuMj9PJ"
      },
      "source": [
        "**2021 - 12 - 02**"
      ]
    },
    {
      "cell_type": "code",
      "metadata": {
        "id": "vdwI9G1nh8xC"
      },
      "source": [
        ""
      ],
      "execution_count": null,
      "outputs": []
    }
  ]
}