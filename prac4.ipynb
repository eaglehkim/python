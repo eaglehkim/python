{
  "nbformat": 4,
  "nbformat_minor": 0,
  "metadata": {
    "colab": {
      "name": "prac4.ipynb",
      "provenance": [],
      "authorship_tag": "ABX9TyNqOemoEoj04Tdg4ZwppBt2",
      "include_colab_link": true
    },
    "kernelspec": {
      "name": "python3",
      "display_name": "Python 3"
    },
    "language_info": {
      "name": "python"
    }
  },
  "cells": [
    {
      "cell_type": "markdown",
      "metadata": {
        "id": "view-in-github",
        "colab_type": "text"
      },
      "source": [
        "<a href=\"https://colab.research.google.com/github/eaglehkim/python/blob/main/prac4.ipynb\" target=\"_parent\"><img src=\"https://colab.research.google.com/assets/colab-badge.svg\" alt=\"Open In Colab\"/></a>"
      ]
    },
    {
      "cell_type": "code",
      "execution_count": null,
      "metadata": {
        "id": "CmvPXg1SysGG"
      },
      "outputs": [],
      "source": [
        "# SVM : Support Vector Machine\n",
        "#    - 가장 인공지능스러운 기법\n",
        "#    - 현재는 입지가 좀 애매, 딥러닝이 휩쓸고 다녀서\n",
        "#    - 그러나 직관적이고 계산이 빠른 측면이 존재\n",
        "#    - ex) 앱에서 간단하게 돌아가는 것? SVM이 유리\n",
        "\n",
        "# SVM - SVC : Support Vector Classifier\n",
        "#     - SVR : Support Vector Regressor\n",
        "#        - 거의 SVC를 쓴다, SVC가 정확도도 더 좋은듯?\n",
        "\n",
        "# 가장 근접한 두 점 사이에 마진(여유분)이 가장 큰 벡터 = 서포트 벡터\n",
        "\n",
        "# 얼마나 버릴 것이냐? Cost : 값\n",
        "# - 얼마나 많은 데이터 샘플이 다른 클래스에 놓이는 것을 허용하는지 결정"
      ]
    },
    {
      "cell_type": "code",
      "source": [
        "import pandas as pd\n",
        "import numpy as np\n",
        "import matplotlib.pyplot as plt"
      ],
      "metadata": {
        "id": "Yp1iZRPD7F7d"
      },
      "execution_count": 1,
      "outputs": []
    },
    {
      "cell_type": "code",
      "source": [
        "df = pd.read_csv(\"/content/work.csv\")\n",
        "\n",
        "ap = np.array(df['app'])\n",
        "pe = np.array(df['per'])\n",
        "target = np.array(df['fav'])\n",
        "\n",
        "\n",
        "plt.scatter(ap, pe, c=target);"
      ],
      "metadata": {
        "colab": {
          "base_uri": "https://localhost:8080/",
          "height": 265
        },
        "id": "zZaKFPZh7swN",
        "outputId": "00333a87-1c8f-442d-ae69-85a5c90f0909"
      },
      "execution_count": 14,
      "outputs": [
        {
          "output_type": "display_data",
          "data": {
            "image/png": "[encoded data removed]",
            "text/plain": [
              "<Figure size 432x288 with 1 Axes>"
            ]
          },
          "metadata": {
            "needs_background": "light"
          }
        }
      ]
    },
    {
      "cell_type": "code",
      "source": [
        "data = np.column_stack((ap, pe))\n",
        "data"
      ],
      "metadata": {
        "colab": {
          "base_uri": "https://localhost:8080/"
        },
        "id": "llKor_P88mIU",
        "outputId": "c6bbe6b1-09c1-40d1-e74b-a77bb20fec8c"
      },
      "execution_count": 11,
      "outputs": [
        {
          "output_type": "execute_result",
          "data": {
            "text/plain": [
              "array([[8, 9],\n",
              "       [7, 5],\n",
              "       [2, 3],\n",
              "       [4, 2],\n",
              "       [5, 9],\n",
              "       [9, 3],\n",
              "       [7, 3],\n",
              "       [6, 5],\n",
              "       [7, 2],\n",
              "       [5, 6],\n",
              "       [4, 9],\n",
              "       [9, 5],\n",
              "       [5, 3],\n",
              "       [2, 3],\n",
              "       [7, 3],\n",
              "       [8, 2],\n",
              "       [2, 8],\n",
              "       [3, 7],\n",
              "       [2, 5],\n",
              "       [7, 7],\n",
              "       [6, 9],\n",
              "       [9, 4],\n",
              "       [8, 2],\n",
              "       [6, 5],\n",
              "       [8, 8],\n",
              "       [2, 4],\n",
              "       [8, 4],\n",
              "       [6, 2],\n",
              "       [4, 9]])"
            ]
          },
          "metadata": {},
          "execution_count": 11
        }
      ]
    },
    {
      "cell_type": "code",
      "source": [
        "from sklearn.model_selection import train_test_split\n",
        "\n",
        "input_train, input_test, output_train, output_test = train_test_split(data, target, \n",
        "                                                                      random_state=123)"
      ],
      "metadata": {
        "id": "MgNsIN1S7yVF"
      },
      "execution_count": 18,
      "outputs": []
    },
    {
      "cell_type": "code",
      "source": [
        "from sklearn.svm import SVC\n",
        "\n",
        "# kernel = 어떤 커널을 통해서 값을 도출할 것이냐? \n",
        "#          linear(선형)? polynomial(다항,곡선)? RBF(기본값, radius bias function, 가우시안 커널)?\n",
        "#          RBF - 함수의 형태가 아니라 확률의 형태로 만든다, 조금 더 높은 확률을 고른다.\n",
        "#                많이 겹쳐있는 애매한 곳은 나누기가 어려워서 확률적으로 고름\n",
        "#              - gamma 매개변수 : 하나의 데이터 샘플이 영향력을 행사하는 거리\n",
        "#                               : 감마가 클수록 한 데이터 포인터들이 영향력을 행사하는 거리가 짧아지고\n",
        "#                                 감마가 낮을수록 커진다\n",
        "\n",
        "# C = 커질수록 실수를 용납하지 않는다. 과적합 가능성이 높아진다. 0.01, 0.05 등 다양\n",
        "\n",
        "model = SVC(kernel='linear', C=0.1)     # 장점 - 수치가 나온다\n",
        "model.fit(input_train, output_train)\n",
        "\n",
        "model2 = SVC(kernel='poly', C=0.1)\n",
        "model2.fit(input_train, output_train)\n",
        "\n",
        "model3 = SVC(kernel='rbf', C=0.1)\n",
        "model3.fit(input_train, output_train)\n",
        "\n",
        "print(\"Linear 학습 점수 : {}\".format(model.score(input_train, output_train)))\n",
        "print(\"Linear 평가 점수 : {}\".format(model.score(input_test, output_test)))\n",
        "print()\n",
        "\n",
        "print(\"Poly 학습 점수 : {}\".format(model2.score(input_train, output_train)))\n",
        "print(\"Poly 평가 점수 : {}\".format(model2.score(input_test, output_test)))\n",
        "print()\n",
        "\n",
        "print(\"RBF 학습 점수 : {}\".format(model3.score(input_train, output_train)))\n",
        "print(\"RBF 평가 점수 : {}\".format(model3.score(input_test, output_test)))"
      ],
      "metadata": {
        "colab": {
          "base_uri": "https://localhost:8080/"
        },
        "id": "pl-UYnvi9qWg",
        "outputId": "a0061c9f-ce06-4797-b688-443ff477c97c"
      },
      "execution_count": 36,
      "outputs": [
        {
          "output_type": "stream",
          "name": "stdout",
          "text": [
            "Linear 학습 점수 : 0.8571428571428571\n",
            "Linear 평가 점수 : 0.875\n",
            "\n",
            "Poly 학습 점수 : 0.8571428571428571\n",
            "Poly 평가 점수 : 0.875\n",
            "\n",
            "RBF 학습 점수 : 0.6190476190476191\n",
            "RBF 평가 점수 : 0.5\n"
          ]
        }
      ]
    },
    {
      "cell_type": "code",
      "source": [
        "# 선형 svc의 상관계수\n",
        "coef = model.coef_\n",
        "coef\n",
        "# [a1, a2]"
      ],
      "metadata": {
        "colab": {
          "base_uri": "https://localhost:8080/"
        },
        "id": "JfwRK3G3-B_5",
        "outputId": "0d445a32-5f0c-40ee-bde5-342505b82d86"
      },
      "execution_count": 37,
      "outputs": [
        {
          "output_type": "execute_result",
          "data": {
            "text/plain": [
              "array([[0.30882353, 0.51470588]])"
            ]
          },
          "metadata": {},
          "execution_count": 37
        }
      ]
    },
    {
      "cell_type": "code",
      "source": [
        "intercept = model.intercept_\n",
        "intercept"
      ],
      "metadata": {
        "colab": {
          "base_uri": "https://localhost:8080/"
        },
        "id": "7y6cBatyDa89",
        "outputId": "6e14a4ee-de2a-49a9-d3a6-cdd341d6cf75"
      },
      "execution_count": 38,
      "outputs": [
        {
          "output_type": "execute_result",
          "data": {
            "text/plain": [
              "array([-3.73529412])"
            ]
          },
          "metadata": {},
          "execution_count": 38
        }
      ]
    },
    {
      "cell_type": "code",
      "source": [
        "a1 = coef[0][0]\n",
        "a2 = coef[0][1]"
      ],
      "metadata": {
        "id": "MhBEhY3_D16-"
      },
      "execution_count": 39,
      "outputs": []
    },
    {
      "cell_type": "code",
      "source": [
        "# y = ax + b\n",
        "a = -(a1/a2)\n",
        "b = -(intercept[0]/a2)"
      ],
      "metadata": {
        "id": "JyMPYuJPETVM"
      },
      "execution_count": 40,
      "outputs": []
    },
    {
      "cell_type": "code",
      "source": [
        "x = np.arange(0, 10)\n",
        "plt.scatter(ap, pe, c=target)\n",
        "plt.plot(x, a*x + b, 'r');"
      ],
      "metadata": {
        "colab": {
          "base_uri": "https://localhost:8080/",
          "height": 265
        },
        "id": "3FXExmOKEZPd",
        "outputId": "4b890f44-26d5-44b3-f361-8cd260b2d96b"
      },
      "execution_count": 41,
      "outputs": [
        {
          "output_type": "display_data",
          "data": {
            "image/png": "[encoded data removed]",
            "text/plain": [
              "<Figure size 432x288 with 1 Axes>"
            ]
          },
          "metadata": {
            "needs_background": "light"
          }
        }
      ]
    },
    {
      "cell_type": "code",
      "source": [
        "# 릿지 : 변수가 중요, 가중치의 제곱들을 더하는 방식이라 급변한다.\n",
        "# 랏쏘 : 변수보단 조합이 중요하다. 가중치의 절대값들을 더한다\n",
        "\n",
        "data = pd.read_csv(\"https://bit.ly/perch_csv\")\n",
        "data.head()"
      ],
      "metadata": {
        "colab": {
          "base_uri": "https://localhost:8080/",
          "height": 206
        },
        "id": "utgX065BEt3w",
        "outputId": "0c55420e-033f-485d-aa7f-45526ed1d9db"
      },
      "execution_count": 47,
      "outputs": [
        {
          "output_type": "execute_result",
          "data": {
            "text/html": [
              "\n",
              "  <div id=\"df-98db5d7b-ea4d-44bc-8bfa-840ae1b626b7\">\n",
              "    <div class=\"colab-df-container\">\n",
              "      <div>\n",
              "<style scoped>\n",
              "    .dataframe tbody tr th:only-of-type {\n",
              "        vertical-align: middle;\n",
              "    }\n",
              "\n",
              "    .dataframe tbody tr th {\n",
              "        vertical-align: top;\n",
              "    }\n",
              "\n",
              "    .dataframe thead th {\n",
              "        text-align: right;\n",
              "    }\n",
              "</style>\n",
              "<table border=\"1\" class=\"dataframe\">\n",
              "  <thead>\n",
              "    <tr style=\"text-align: right;\">\n",
              "      <th></th>\n",
              "      <th>length</th>\n",
              "      <th>height</th>\n",
              "      <th>width</th>\n",
              "    </tr>\n",
              "  </thead>\n",
              "  <tbody>\n",
              "    <tr>\n",
              "      <th>0</th>\n",
              "      <td>8.4</td>\n",
              "      <td>2.11</td>\n",
              "      <td>1.41</td>\n",
              "    </tr>\n",
              "    <tr>\n",
              "      <th>1</th>\n",
              "      <td>13.7</td>\n",
              "      <td>3.53</td>\n",
              "      <td>2.00</td>\n",
              "    </tr>\n",
              "    <tr>\n",
              "      <th>2</th>\n",
              "      <td>15.0</td>\n",
              "      <td>3.82</td>\n",
              "      <td>2.43</td>\n",
              "    </tr>\n",
              "    <tr>\n",
              "      <th>3</th>\n",
              "      <td>16.2</td>\n",
              "      <td>4.59</td>\n",
              "      <td>2.63</td>\n",
              "    </tr>\n",
              "    <tr>\n",
              "      <th>4</th>\n",
              "      <td>17.4</td>\n",
              "      <td>4.59</td>\n",
              "      <td>2.94</td>\n",
              "    </tr>\n",
              "  </tbody>\n",
              "</table>\n",
              "</div>\n",
              "      <button class=\"colab-df-convert\" onclick=\"convertToInteractive('df-98db5d7b-ea4d-44bc-8bfa-840ae1b626b7')\"\n",
              "              title=\"Convert this dataframe to an interactive table.\"\n",
              "              style=\"display:none;\">\n",
              "        \n",
              "  <svg xmlns=\"http://www.w3.org/2000/svg\" height=\"24px\"viewBox=\"0 0 24 24\"\n",
              "       width=\"24px\">\n",
              "    <path d=\"M0 0h24v24H0V0z\" fill=\"none\"/>\n",
              "    <path d=\"M18.56 5.44l.94 2.06.94-2.06 2.06-.94-2.06-.94-.94-2.06-.94 2.06-2.06.94zm-11 1L8.5 8.5l.94-2.06 2.06-.94-2.06-.94L8.5 2.5l-.94 2.06-2.06.94zm10 10l.94 2.06.94-2.06 2.06-.94-2.06-.94-.94-2.06-.94 2.06-2.06.94z\"/><path d=\"M17.41 7.96l-1.37-1.37c-.4-.4-.92-.59-1.43-.59-.52 0-1.04.2-1.43.59L10.3 9.45l-7.72 7.72c-.78.78-.78 2.05 0 2.83L4 21.41c.39.39.9.59 1.41.59.51 0 1.02-.2 1.41-.59l7.78-7.78 2.81-2.81c.8-.78.8-2.07 0-2.86zM5.41 20L4 18.59l7.72-7.72 1.47 1.35L5.41 20z\"/>\n",
              "  </svg>\n",
              "      </button>\n",
              "      \n",
              "  <style>\n",
              "    .colab-df-container {\n",
              "      display:flex;\n",
              "      flex-wrap:wrap;\n",
              "      gap: 12px;\n",
              "    }\n",
              "\n",
              "    .colab-df-convert {\n",
              "      background-color: #E8F0FE;\n",
              "      border: none;\n",
              "      border-radius: 50%;\n",
              "      cursor: pointer;\n",
              "      display: none;\n",
              "      fill: #1967D2;\n",
              "      height: 32px;\n",
              "      padding: 0 0 0 0;\n",
              "      width: 32px;\n",
              "    }\n",
              "\n",
              "    .colab-df-convert:hover {\n",
              "      background-color: #E2EBFA;\n",
              "      box-shadow: 0px 1px 2px rgba(60, 64, 67, 0.3), 0px 1px 3px 1px rgba(60, 64, 67, 0.15);\n",
              "      fill: #174EA6;\n",
              "    }\n",
              "\n",
              "    [theme=dark] .colab-df-convert {\n",
              "      background-color: #3B4455;\n",
              "      fill: #D2E3FC;\n",
              "    }\n",
              "\n",
              "    [theme=dark] .colab-df-convert:hover {\n",
              "      background-color: #434B5C;\n",
              "      box-shadow: 0px 1px 3px 1px rgba(0, 0, 0, 0.15);\n",
              "      filter: drop-shadow(0px 1px 2px rgba(0, 0, 0, 0.3));\n",
              "      fill: #FFFFFF;\n",
              "    }\n",
              "  </style>\n",
              "\n",
              "      <script>\n",
              "        const buttonEl =\n",
              "          document.querySelector('#df-98db5d7b-ea4d-44bc-8bfa-840ae1b626b7 button.colab-df-convert');\n",
              "        buttonEl.style.display =\n",
              "          google.colab.kernel.accessAllowed ? 'block' : 'none';\n",
              "\n",
              "        async function convertToInteractive(key) {\n",
              "          const element = document.querySelector('#df-98db5d7b-ea4d-44bc-8bfa-840ae1b626b7');\n",
              "          const dataTable =\n",
              "            await google.colab.kernel.invokeFunction('convertToInteractive',\n",
              "                                                     [key], {});\n",
              "          if (!dataTable) return;\n",
              "\n",
              "          const docLinkHtml = 'Like what you see? Visit the ' +\n",
              "            '<a target=\"_blank\" href=https://colab.research.google.com/notebooks/data_table.ipynb>data table notebook</a>'\n",
              "            + ' to learn more about interactive tables.';\n",
              "          element.innerHTML = '';\n",
              "          dataTable['output_type'] = 'display_data';\n",
              "          await google.colab.output.renderOutput(dataTable, element);\n",
              "          const docLink = document.createElement('div');\n",
              "          docLink.innerHTML = docLinkHtml;\n",
              "          element.appendChild(docLink);\n",
              "        }\n",
              "      </script>\n",
              "    </div>\n",
              "  </div>\n",
              "  "
            ],
            "text/plain": [
              "   length   height   width\n",
              "0     8.4     2.11    1.41\n",
              "1    13.7     3.53    2.00\n",
              "2    15.0     3.82    2.43\n",
              "3    16.2     4.59    2.63\n",
              "4    17.4     4.59    2.94"
            ]
          },
          "metadata": {},
          "execution_count": 47
        }
      ]
    },
    {
      "cell_type": "code",
      "source": [
        "data = np.array(data)\n",
        "target = np.array(\n",
        "    [5.9, 32.0, 40.0, 51.5, 70.0, 100.0, 78.0, 80.0, 85.0, 85.0, \n",
        "     110.0, 115.0, 125.0, 130.0, 120.0, 120.0, 130.0, 135.0, 110.0, \n",
        "     130.0, 150.0, 145.0, 150.0, 170.0, 225.0, 145.0, 188.0, 180.0, \n",
        "     197.0, 218.0, 300.0, 260.0, 265.0, 250.0, 250.0, 300.0, 320.0, \n",
        "     514.0, 556.0, 840.0, 685.0, 700.0, 700.0, 690.0, 900.0, 650.0, \n",
        "     820.0, 850.0, 900.0, 1015.0, 820.0, 1100.0, 1000.0, 1100.0, \n",
        "     1000.0, 1000.0]\n",
        "     )"
      ],
      "metadata": {
        "colab": {
          "base_uri": "https://localhost:8080/"
        },
        "id": "5iRmCGENJuqK",
        "outputId": "ee98031b-945d-45e7-e009-03593f837b9b"
      },
      "execution_count": 55,
      "outputs": [
        {
          "output_type": "execute_result",
          "data": {
            "text/plain": [
              "(56, 56)"
            ]
          },
          "metadata": {},
          "execution_count": 55
        }
      ]
    },
    {
      "cell_type": "code",
      "source": [
        "input_train, input_test, output_train, output_test = train_test_split(data, target, \n",
        "                                                                      random_state=123)"
      ],
      "metadata": {
        "id": "xYcY7atMLYk9"
      },
      "execution_count": 61,
      "outputs": []
    },
    {
      "cell_type": "code",
      "source": [
        "from sklearn.linear_model import LinearRegression\n",
        "model = LinearRegression()\n",
        "model.fit(input_train, output_train)"
      ],
      "metadata": {
        "colab": {
          "base_uri": "https://localhost:8080/"
        },
        "id": "O4eu_ebRMv6b",
        "outputId": "dfb6e6d1-c33d-49e6-e621-9769c1db2268"
      },
      "execution_count": 62,
      "outputs": [
        {
          "output_type": "execute_result",
          "data": {
            "text/plain": [
              "LinearRegression()"
            ]
          },
          "metadata": {},
          "execution_count": 62
        }
      ]
    },
    {
      "cell_type": "code",
      "source": [
        "print(\"Linear 학습 점수 : {}\".format(model.score(input_train, output_train)))\n",
        "print(\"Linear 평가 점수 : {}\".format(model.score(input_test, output_test)))"
      ],
      "metadata": {
        "colab": {
          "base_uri": "https://localhost:8080/"
        },
        "id": "BvzR_LLJMpxo",
        "outputId": "e5ed7643-7cf8-49bb-d1e0-1c1ef226f90d"
      },
      "execution_count": 63,
      "outputs": [
        {
          "output_type": "stream",
          "name": "stdout",
          "text": [
            "Linear 학습 점수 : 0.951804711093903\n",
            "Linear 평가 점수 : 0.9118165004899212\n"
          ]
        }
      ]
    },
    {
      "cell_type": "code",
      "source": [
        "from sklearn.preprocessing import PolynomialFeatures\n",
        "\n",
        "model = PolynomialFeatures(degree=1)\n",
        "train_poly = model.fit_transform(input_train)\n",
        "test_poly = model.fit_transform(input_test)"
      ],
      "metadata": {
        "id": "hB8Ybuh1NbTu"
      },
      "execution_count": 93,
      "outputs": []
    },
    {
      "cell_type": "code",
      "source": [
        "from sklearn.linear_model import Ridge\n",
        "model = Ridge(alpha=0.1)\n",
        "model.fit(train_poly, output_train)"
      ],
      "metadata": {
        "colab": {
          "base_uri": "https://localhost:8080/"
        },
        "id": "wI_tPspKTsap",
        "outputId": "e949d0f2-3ab1-41b8-f132-c2d7be3e1e15"
      },
      "execution_count": 94,
      "outputs": [
        {
          "output_type": "execute_result",
          "data": {
            "text/plain": [
              "Ridge(alpha=0.1)"
            ]
          },
          "metadata": {},
          "execution_count": 94
        }
      ]
    },
    {
      "cell_type": "code",
      "source": [
        "model.score(test_poly, output_test)"
      ],
      "metadata": {
        "colab": {
          "base_uri": "https://localhost:8080/"
        },
        "id": "hxYC4ds8UCVB",
        "outputId": "8b9285dd-4792-4ed8-f5fc-02c548e8f551"
      },
      "execution_count": 95,
      "outputs": [
        {
          "output_type": "execute_result",
          "data": {
            "text/plain": [
              "0.9116868896642765"
            ]
          },
          "metadata": {},
          "execution_count": 95
        }
      ]
    },
    {
      "cell_type": "code",
      "source": [
        "from sklearn.linear_model import Lasso\n",
        "model = Lasso(alpha=0.1)\n",
        "model.fit(train_poly, output_train)"
      ],
      "metadata": {
        "colab": {
          "base_uri": "https://localhost:8080/"
        },
        "id": "sJcpV3HcURoB",
        "outputId": "9faffdc2-00ca-4d76-ca8b-30e189f8fc4f"
      },
      "execution_count": 91,
      "outputs": [
        {
          "output_type": "execute_result",
          "data": {
            "text/plain": [
              "Lasso(alpha=0.1)"
            ]
          },
          "metadata": {},
          "execution_count": 91
        }
      ]
    },
    {
      "cell_type": "code",
      "source": [
        "model.score(test_poly, output_test)"
      ],
      "metadata": {
        "colab": {
          "base_uri": "https://localhost:8080/"
        },
        "id": "BrzGQ7p7UWCp",
        "outputId": "56ae7b70-0fbe-4d25-b0c1-08466ac121df"
      },
      "execution_count": 99,
      "outputs": [
        {
          "output_type": "execute_result",
          "data": {
            "text/plain": [
              "0.9116868896642765"
            ]
          },
          "metadata": {},
          "execution_count": 99
        }
      ]
    }
  ]
}