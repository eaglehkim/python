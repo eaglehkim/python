{
  "nbformat": 4,
  "nbformat_minor": 0,
  "metadata": {
    "colab": {
      "name": "prac5.ipynb",
      "provenance": [],
      "collapsed_sections": [],
      "authorship_tag": "ABX9TyOOAnCkEbZLBoWfUgGj0Rly",
      "include_colab_link": true
    },
    "kernelspec": {
      "name": "python3",
      "display_name": "Python 3"
    },
    "language_info": {
      "name": "python"
    }
  },
  "cells": [
    {
      "cell_type": "markdown",
      "metadata": {
        "id": "view-in-github",
        "colab_type": "text"
      },
      "source": [
        "<a href=\"https://colab.research.google.com/github/eaglehkim/python/blob/main/prac5.ipynb\" target=\"_parent\"><img src=\"https://colab.research.google.com/assets/colab-badge.svg\" alt=\"Open In Colab\"/></a>"
      ]
    },
    {
      "cell_type": "code",
      "execution_count": null,
      "metadata": {
        "id": "YjGVeD1jBO1D"
      },
      "outputs": [],
      "source": [
        "import numpy as np\n",
        "import pandas as pd\n",
        "import matplotlib.pyplot as plt\n",
        "from sklearn.datasets import load_diabetes"
      ]
    },
    {
      "cell_type": "code",
      "source": [
        "diabetes = load_diabetes()\n",
        "df = pd.DataFrame(diabetes.data, columns=diabetes.feature_names)\n",
        "df['target'] = diabetes.target\n",
        "df.head()"
      ],
      "metadata": {
        "colab": {
          "base_uri": "https://localhost:8080/",
          "height": 206
        },
        "id": "U9MYDMyKEBmI",
        "outputId": "a81aba0b-4d40-41ae-e788-7d3db3bfb8d1"
      },
      "execution_count": null,
      "outputs": [
        {
          "output_type": "execute_result",
          "data": {
            "text/plain": [
              "        age       sex       bmi        bp        s1        s2        s3  \\\n",
              "0  0.038076  0.050680  0.061696  0.021872 -0.044223 -0.034821 -0.043401   \n",
              "1 -0.001882 -0.044642 -0.051474 -0.026328 -0.008449 -0.019163  0.074412   \n",
              "2  0.085299  0.050680  0.044451 -0.005671 -0.045599 -0.034194 -0.032356   \n",
              "3 -0.089063 -0.044642 -0.011595 -0.036656  0.012191  0.024991 -0.036038   \n",
              "4  0.005383 -0.044642 -0.036385  0.021872  0.003935  0.015596  0.008142   \n",
              "\n",
              "         s4        s5        s6  target  \n",
              "0 -0.002592  0.019908 -0.017646   151.0  \n",
              "1 -0.039493 -0.068330 -0.092204    75.0  \n",
              "2 -0.002592  0.002864 -0.025930   141.0  \n",
              "3  0.034309  0.022692 -0.009362   206.0  \n",
              "4 -0.002592 -0.031991 -0.046641   135.0  "
            ],
            "text/html": [
              "\n",
              "  <div id=\"df-9b9db4ca-197c-4cc4-93f5-569e4ed487c9\">\n",
              "    <div class=\"colab-df-container\">\n",
              "      <div>\n",
              "<style scoped>\n",
              "    .dataframe tbody tr th:only-of-type {\n",
              "        vertical-align: middle;\n",
              "    }\n",
              "\n",
              "    .dataframe tbody tr th {\n",
              "        vertical-align: top;\n",
              "    }\n",
              "\n",
              "    .dataframe thead th {\n",
              "        text-align: right;\n",
              "    }\n",
              "</style>\n",
              "<table border=\"1\" class=\"dataframe\">\n",
              "  <thead>\n",
              "    <tr style=\"text-align: right;\">\n",
              "      <th></th>\n",
              "      <th>age</th>\n",
              "      <th>sex</th>\n",
              "      <th>bmi</th>\n",
              "      <th>bp</th>\n",
              "      <th>s1</th>\n",
              "      <th>s2</th>\n",
              "      <th>s3</th>\n",
              "      <th>s4</th>\n",
              "      <th>s5</th>\n",
              "      <th>s6</th>\n",
              "      <th>target</th>\n",
              "    </tr>\n",
              "  </thead>\n",
              "  <tbody>\n",
              "    <tr>\n",
              "      <th>0</th>\n",
              "      <td>0.038076</td>\n",
              "      <td>0.050680</td>\n",
              "      <td>0.061696</td>\n",
              "      <td>0.021872</td>\n",
              "      <td>-0.044223</td>\n",
              "      <td>-0.034821</td>\n",
              "      <td>-0.043401</td>\n",
              "      <td>-0.002592</td>\n",
              "      <td>0.019908</td>\n",
              "      <td>-0.017646</td>\n",
              "      <td>151.0</td>\n",
              "    </tr>\n",
              "    <tr>\n",
              "      <th>1</th>\n",
              "      <td>-0.001882</td>\n",
              "      <td>-0.044642</td>\n",
              "      <td>-0.051474</td>\n",
              "      <td>-0.026328</td>\n",
              "      <td>-0.008449</td>\n",
              "      <td>-0.019163</td>\n",
              "      <td>0.074412</td>\n",
              "      <td>-0.039493</td>\n",
              "      <td>-0.068330</td>\n",
              "      <td>-0.092204</td>\n",
              "      <td>75.0</td>\n",
              "    </tr>\n",
              "    <tr>\n",
              "      <th>2</th>\n",
              "      <td>0.085299</td>\n",
              "      <td>0.050680</td>\n",
              "      <td>0.044451</td>\n",
              "      <td>-0.005671</td>\n",
              "      <td>-0.045599</td>\n",
              "      <td>-0.034194</td>\n",
              "      <td>-0.032356</td>\n",
              "      <td>-0.002592</td>\n",
              "      <td>0.002864</td>\n",
              "      <td>-0.025930</td>\n",
              "      <td>141.0</td>\n",
              "    </tr>\n",
              "    <tr>\n",
              "      <th>3</th>\n",
              "      <td>-0.089063</td>\n",
              "      <td>-0.044642</td>\n",
              "      <td>-0.011595</td>\n",
              "      <td>-0.036656</td>\n",
              "      <td>0.012191</td>\n",
              "      <td>0.024991</td>\n",
              "      <td>-0.036038</td>\n",
              "      <td>0.034309</td>\n",
              "      <td>0.022692</td>\n",
              "      <td>-0.009362</td>\n",
              "      <td>206.0</td>\n",
              "    </tr>\n",
              "    <tr>\n",
              "      <th>4</th>\n",
              "      <td>0.005383</td>\n",
              "      <td>-0.044642</td>\n",
              "      <td>-0.036385</td>\n",
              "      <td>0.021872</td>\n",
              "      <td>0.003935</td>\n",
              "      <td>0.015596</td>\n",
              "      <td>0.008142</td>\n",
              "      <td>-0.002592</td>\n",
              "      <td>-0.031991</td>\n",
              "      <td>-0.046641</td>\n",
              "      <td>135.0</td>\n",
              "    </tr>\n",
              "  </tbody>\n",
              "</table>\n",
              "</div>\n",
              "      <button class=\"colab-df-convert\" onclick=\"convertToInteractive('df-9b9db4ca-197c-4cc4-93f5-569e4ed487c9')\"\n",
              "              title=\"Convert this dataframe to an interactive table.\"\n",
              "              style=\"display:none;\">\n",
              "        \n",
              "  <svg xmlns=\"http://www.w3.org/2000/svg\" height=\"24px\"viewBox=\"0 0 24 24\"\n",
              "       width=\"24px\">\n",
              "    <path d=\"M0 0h24v24H0V0z\" fill=\"none\"/>\n",
              "    <path d=\"M18.56 5.44l.94 2.06.94-2.06 2.06-.94-2.06-.94-.94-2.06-.94 2.06-2.06.94zm-11 1L8.5 8.5l.94-2.06 2.06-.94-2.06-.94L8.5 2.5l-.94 2.06-2.06.94zm10 10l.94 2.06.94-2.06 2.06-.94-2.06-.94-.94-2.06-.94 2.06-2.06.94z\"/><path d=\"M17.41 7.96l-1.37-1.37c-.4-.4-.92-.59-1.43-.59-.52 0-1.04.2-1.43.59L10.3 9.45l-7.72 7.72c-.78.78-.78 2.05 0 2.83L4 21.41c.39.39.9.59 1.41.59.51 0 1.02-.2 1.41-.59l7.78-7.78 2.81-2.81c.8-.78.8-2.07 0-2.86zM5.41 20L4 18.59l7.72-7.72 1.47 1.35L5.41 20z\"/>\n",
              "  </svg>\n",
              "      </button>\n",
              "      \n",
              "  <style>\n",
              "    .colab-df-container {\n",
              "      display:flex;\n",
              "      flex-wrap:wrap;\n",
              "      gap: 12px;\n",
              "    }\n",
              "\n",
              "    .colab-df-convert {\n",
              "      background-color: #E8F0FE;\n",
              "      border: none;\n",
              "      border-radius: 50%;\n",
              "      cursor: pointer;\n",
              "      display: none;\n",
              "      fill: #1967D2;\n",
              "      height: 32px;\n",
              "      padding: 0 0 0 0;\n",
              "      width: 32px;\n",
              "    }\n",
              "\n",
              "    .colab-df-convert:hover {\n",
              "      background-color: #E2EBFA;\n",
              "      box-shadow: 0px 1px 2px rgba(60, 64, 67, 0.3), 0px 1px 3px 1px rgba(60, 64, 67, 0.15);\n",
              "      fill: #174EA6;\n",
              "    }\n",
              "\n",
              "    [theme=dark] .colab-df-convert {\n",
              "      background-color: #3B4455;\n",
              "      fill: #D2E3FC;\n",
              "    }\n",
              "\n",
              "    [theme=dark] .colab-df-convert:hover {\n",
              "      background-color: #434B5C;\n",
              "      box-shadow: 0px 1px 3px 1px rgba(0, 0, 0, 0.15);\n",
              "      filter: drop-shadow(0px 1px 2px rgba(0, 0, 0, 0.3));\n",
              "      fill: #FFFFFF;\n",
              "    }\n",
              "  </style>\n",
              "\n",
              "      <script>\n",
              "        const buttonEl =\n",
              "          document.querySelector('#df-9b9db4ca-197c-4cc4-93f5-569e4ed487c9 button.colab-df-convert');\n",
              "        buttonEl.style.display =\n",
              "          google.colab.kernel.accessAllowed ? 'block' : 'none';\n",
              "\n",
              "        async function convertToInteractive(key) {\n",
              "          const element = document.querySelector('#df-9b9db4ca-197c-4cc4-93f5-569e4ed487c9');\n",
              "          const dataTable =\n",
              "            await google.colab.kernel.invokeFunction('convertToInteractive',\n",
              "                                                     [key], {});\n",
              "          if (!dataTable) return;\n",
              "\n",
              "          const docLinkHtml = 'Like what you see? Visit the ' +\n",
              "            '<a target=\"_blank\" href=https://colab.research.google.com/notebooks/data_table.ipynb>data table notebook</a>'\n",
              "            + ' to learn more about interactive tables.';\n",
              "          element.innerHTML = '';\n",
              "          dataTable['output_type'] = 'display_data';\n",
              "          await google.colab.output.renderOutput(dataTable, element);\n",
              "          const docLink = document.createElement('div');\n",
              "          docLink.innerHTML = docLinkHtml;\n",
              "          element.appendChild(docLink);\n",
              "        }\n",
              "      </script>\n",
              "    </div>\n",
              "  </div>\n",
              "  "
            ]
          },
          "metadata": {},
          "execution_count": 3
        }
      ]
    },
    {
      "cell_type": "code",
      "source": [
        "X = diabetes.data\n",
        "y = diabetes.target"
      ],
      "metadata": {
        "id": "wKYjqhCiE2P2"
      },
      "execution_count": null,
      "outputs": []
    },
    {
      "cell_type": "code",
      "source": [
        "from sklearn.model_selection import train_test_split\n",
        "X_train, X_test, y_train, y_test = train_test_split(X, y)"
      ],
      "metadata": {
        "id": "MnrP6dixFuqO"
      },
      "execution_count": null,
      "outputs": []
    },
    {
      "cell_type": "code",
      "source": [
        "from sklearn.linear_model import Ridge"
      ],
      "metadata": {
        "id": "ZsvWqCUbGPDt"
      },
      "execution_count": null,
      "outputs": []
    },
    {
      "cell_type": "code",
      "source": [
        "rg = Ridge(alpha=0.12) # alpha가 커질수록 규제값이 작아진다\n",
        "rg.fit(X_train, y_train)"
      ],
      "metadata": {
        "colab": {
          "base_uri": "https://localhost:8080/"
        },
        "id": "7dM5RpIdGZdV",
        "outputId": "9ed0ddb8-b716-443b-abdf-7bf0a6db5f40"
      },
      "execution_count": null,
      "outputs": [
        {
          "output_type": "execute_result",
          "data": {
            "text/plain": [
              "Ridge(alpha=0.12)"
            ]
          },
          "metadata": {},
          "execution_count": 12
        }
      ]
    },
    {
      "cell_type": "code",
      "source": [
        "rg.score(X_test, y_test) # 회귀는 score를 쓰면 안된다"
      ],
      "metadata": {
        "colab": {
          "base_uri": "https://localhost:8080/"
        },
        "id": "OPFyLPGJGwfW",
        "outputId": "10972fd0-114a-4908-88f6-4831b10dc400"
      },
      "execution_count": null,
      "outputs": [
        {
          "output_type": "execute_result",
          "data": {
            "text/plain": [
              "0.4109537743522047"
            ]
          },
          "metadata": {},
          "execution_count": 13
        }
      ]
    },
    {
      "cell_type": "code",
      "source": [
        "# 회귀 -> score을 쓰면 안된다 그렇다면? - 1. 상관계수\n",
        "#                                         2. mean_squared_error\n",
        "\n",
        "# 상관계수로 비교\n",
        "# 실제 결과와 예측 결과를 비교\n",
        "np.corrcoef(y_test, rg.predict(X_test))"
      ],
      "metadata": {
        "colab": {
          "base_uri": "https://localhost:8080/"
        },
        "id": "2x8Ph_S7HAsm",
        "outputId": "8930af1e-123a-4b77-c843-776d05cd2af1"
      },
      "execution_count": null,
      "outputs": [
        {
          "output_type": "execute_result",
          "data": {
            "text/plain": [
              "array([[1.        , 0.64287567],\n",
              "       [0.64287567, 1.        ]])"
            ]
          },
          "metadata": {},
          "execution_count": 15
        }
      ]
    },
    {
      "cell_type": "code",
      "source": [
        "# 왜 상관계수는 주식/돈 등 스케일이 큰 값에 쓰면 안될까?\n",
        "# - 상관계수는 크기가 상관없기 때문\n",
        "# ex) x 1  2  3 \n",
        "#     y 10 20 30     -> 상관계수가 1\n",
        "# ex) x 1    2    3\n",
        "#     y 1000 2000 3000 -> 상관계수가 1\n",
        "# 쓰는 사람이 있긴하지만 한계가 분명하다\n",
        "from sklearn.metrics import mean_squared_error\n",
        "mse = mean_squared_error(y_test, rg.predict(X_test))\n",
        "mse"
      ],
      "metadata": {
        "colab": {
          "base_uri": "https://localhost:8080/"
        },
        "id": "DVtd2moHKmt9",
        "outputId": "c1f2feb8-ec25-46be-8a56-9f12cf998b48"
      },
      "execution_count": null,
      "outputs": [
        {
          "output_type": "execute_result",
          "data": {
            "text/plain": [
              "3831.9160388584683"
            ]
          },
          "metadata": {},
          "execution_count": 17
        }
      ]
    },
    {
      "cell_type": "code",
      "source": [
        "# 뭘 쓰든 정답은 없다.\n",
        "mse/np.max(y_test) # 스케일링 - max normalization mse\n",
        "mse/np.mean(y_test)\n",
        "mse/(np.max(y_test)-np.min(y_test))"
      ],
      "metadata": {
        "id": "tCI1SoNxQSIj"
      },
      "execution_count": null,
      "outputs": []
    },
    {
      "cell_type": "code",
      "source": [
        "diabetes = load_diabetes()\n",
        "df = pd.DataFrame(diabetes.data, columns=diabetes.feature_names)\n",
        "df['target'] = diabetes.target\n",
        "df.head()"
      ],
      "metadata": {
        "colab": {
          "base_uri": "https://localhost:8080/",
          "height": 206
        },
        "outputId": "50707d25-1efe-47ea-dc95-29ad8420d89f",
        "id": "JyfeMbncSHY6"
      },
      "execution_count": null,
      "outputs": [
        {
          "output_type": "execute_result",
          "data": {
            "text/plain": [
              "        age       sex       bmi        bp        s1        s2        s3  \\\n",
              "0  0.038076  0.050680  0.061696  0.021872 -0.044223 -0.034821 -0.043401   \n",
              "1 -0.001882 -0.044642 -0.051474 -0.026328 -0.008449 -0.019163  0.074412   \n",
              "2  0.085299  0.050680  0.044451 -0.005671 -0.045599 -0.034194 -0.032356   \n",
              "3 -0.089063 -0.044642 -0.011595 -0.036656  0.012191  0.024991 -0.036038   \n",
              "4  0.005383 -0.044642 -0.036385  0.021872  0.003935  0.015596  0.008142   \n",
              "\n",
              "         s4        s5        s6  target  \n",
              "0 -0.002592  0.019908 -0.017646   151.0  \n",
              "1 -0.039493 -0.068330 -0.092204    75.0  \n",
              "2 -0.002592  0.002864 -0.025930   141.0  \n",
              "3  0.034309  0.022692 -0.009362   206.0  \n",
              "4 -0.002592 -0.031991 -0.046641   135.0  "
            ],
            "text/html": [
              "\n",
              "  <div id=\"df-70c2cfd5-5317-411c-9ff7-76aca6e0dd10\">\n",
              "    <div class=\"colab-df-container\">\n",
              "      <div>\n",
              "<style scoped>\n",
              "    .dataframe tbody tr th:only-of-type {\n",
              "        vertical-align: middle;\n",
              "    }\n",
              "\n",
              "    .dataframe tbody tr th {\n",
              "        vertical-align: top;\n",
              "    }\n",
              "\n",
              "    .dataframe thead th {\n",
              "        text-align: right;\n",
              "    }\n",
              "</style>\n",
              "<table border=\"1\" class=\"dataframe\">\n",
              "  <thead>\n",
              "    <tr style=\"text-align: right;\">\n",
              "      <th></th>\n",
              "      <th>age</th>\n",
              "      <th>sex</th>\n",
              "      <th>bmi</th>\n",
              "      <th>bp</th>\n",
              "      <th>s1</th>\n",
              "      <th>s2</th>\n",
              "      <th>s3</th>\n",
              "      <th>s4</th>\n",
              "      <th>s5</th>\n",
              "      <th>s6</th>\n",
              "      <th>target</th>\n",
              "    </tr>\n",
              "  </thead>\n",
              "  <tbody>\n",
              "    <tr>\n",
              "      <th>0</th>\n",
              "      <td>0.038076</td>\n",
              "      <td>0.050680</td>\n",
              "      <td>0.061696</td>\n",
              "      <td>0.021872</td>\n",
              "      <td>-0.044223</td>\n",
              "      <td>-0.034821</td>\n",
              "      <td>-0.043401</td>\n",
              "      <td>-0.002592</td>\n",
              "      <td>0.019908</td>\n",
              "      <td>-0.017646</td>\n",
              "      <td>151.0</td>\n",
              "    </tr>\n",
              "    <tr>\n",
              "      <th>1</th>\n",
              "      <td>-0.001882</td>\n",
              "      <td>-0.044642</td>\n",
              "      <td>-0.051474</td>\n",
              "      <td>-0.026328</td>\n",
              "      <td>-0.008449</td>\n",
              "      <td>-0.019163</td>\n",
              "      <td>0.074412</td>\n",
              "      <td>-0.039493</td>\n",
              "      <td>-0.068330</td>\n",
              "      <td>-0.092204</td>\n",
              "      <td>75.0</td>\n",
              "    </tr>\n",
              "    <tr>\n",
              "      <th>2</th>\n",
              "      <td>0.085299</td>\n",
              "      <td>0.050680</td>\n",
              "      <td>0.044451</td>\n",
              "      <td>-0.005671</td>\n",
              "      <td>-0.045599</td>\n",
              "      <td>-0.034194</td>\n",
              "      <td>-0.032356</td>\n",
              "      <td>-0.002592</td>\n",
              "      <td>0.002864</td>\n",
              "      <td>-0.025930</td>\n",
              "      <td>141.0</td>\n",
              "    </tr>\n",
              "    <tr>\n",
              "      <th>3</th>\n",
              "      <td>-0.089063</td>\n",
              "      <td>-0.044642</td>\n",
              "      <td>-0.011595</td>\n",
              "      <td>-0.036656</td>\n",
              "      <td>0.012191</td>\n",
              "      <td>0.024991</td>\n",
              "      <td>-0.036038</td>\n",
              "      <td>0.034309</td>\n",
              "      <td>0.022692</td>\n",
              "      <td>-0.009362</td>\n",
              "      <td>206.0</td>\n",
              "    </tr>\n",
              "    <tr>\n",
              "      <th>4</th>\n",
              "      <td>0.005383</td>\n",
              "      <td>-0.044642</td>\n",
              "      <td>-0.036385</td>\n",
              "      <td>0.021872</td>\n",
              "      <td>0.003935</td>\n",
              "      <td>0.015596</td>\n",
              "      <td>0.008142</td>\n",
              "      <td>-0.002592</td>\n",
              "      <td>-0.031991</td>\n",
              "      <td>-0.046641</td>\n",
              "      <td>135.0</td>\n",
              "    </tr>\n",
              "  </tbody>\n",
              "</table>\n",
              "</div>\n",
              "      <button class=\"colab-df-convert\" onclick=\"convertToInteractive('df-70c2cfd5-5317-411c-9ff7-76aca6e0dd10')\"\n",
              "              title=\"Convert this dataframe to an interactive table.\"\n",
              "              style=\"display:none;\">\n",
              "        \n",
              "  <svg xmlns=\"http://www.w3.org/2000/svg\" height=\"24px\"viewBox=\"0 0 24 24\"\n",
              "       width=\"24px\">\n",
              "    <path d=\"M0 0h24v24H0V0z\" fill=\"none\"/>\n",
              "    <path d=\"M18.56 5.44l.94 2.06.94-2.06 2.06-.94-2.06-.94-.94-2.06-.94 2.06-2.06.94zm-11 1L8.5 8.5l.94-2.06 2.06-.94-2.06-.94L8.5 2.5l-.94 2.06-2.06.94zm10 10l.94 2.06.94-2.06 2.06-.94-2.06-.94-.94-2.06-.94 2.06-2.06.94z\"/><path d=\"M17.41 7.96l-1.37-1.37c-.4-.4-.92-.59-1.43-.59-.52 0-1.04.2-1.43.59L10.3 9.45l-7.72 7.72c-.78.78-.78 2.05 0 2.83L4 21.41c.39.39.9.59 1.41.59.51 0 1.02-.2 1.41-.59l7.78-7.78 2.81-2.81c.8-.78.8-2.07 0-2.86zM5.41 20L4 18.59l7.72-7.72 1.47 1.35L5.41 20z\"/>\n",
              "  </svg>\n",
              "      </button>\n",
              "      \n",
              "  <style>\n",
              "    .colab-df-container {\n",
              "      display:flex;\n",
              "      flex-wrap:wrap;\n",
              "      gap: 12px;\n",
              "    }\n",
              "\n",
              "    .colab-df-convert {\n",
              "      background-color: #E8F0FE;\n",
              "      border: none;\n",
              "      border-radius: 50%;\n",
              "      cursor: pointer;\n",
              "      display: none;\n",
              "      fill: #1967D2;\n",
              "      height: 32px;\n",
              "      padding: 0 0 0 0;\n",
              "      width: 32px;\n",
              "    }\n",
              "\n",
              "    .colab-df-convert:hover {\n",
              "      background-color: #E2EBFA;\n",
              "      box-shadow: 0px 1px 2px rgba(60, 64, 67, 0.3), 0px 1px 3px 1px rgba(60, 64, 67, 0.15);\n",
              "      fill: #174EA6;\n",
              "    }\n",
              "\n",
              "    [theme=dark] .colab-df-convert {\n",
              "      background-color: #3B4455;\n",
              "      fill: #D2E3FC;\n",
              "    }\n",
              "\n",
              "    [theme=dark] .colab-df-convert:hover {\n",
              "      background-color: #434B5C;\n",
              "      box-shadow: 0px 1px 3px 1px rgba(0, 0, 0, 0.15);\n",
              "      filter: drop-shadow(0px 1px 2px rgba(0, 0, 0, 0.3));\n",
              "      fill: #FFFFFF;\n",
              "    }\n",
              "  </style>\n",
              "\n",
              "      <script>\n",
              "        const buttonEl =\n",
              "          document.querySelector('#df-70c2cfd5-5317-411c-9ff7-76aca6e0dd10 button.colab-df-convert');\n",
              "        buttonEl.style.display =\n",
              "          google.colab.kernel.accessAllowed ? 'block' : 'none';\n",
              "\n",
              "        async function convertToInteractive(key) {\n",
              "          const element = document.querySelector('#df-70c2cfd5-5317-411c-9ff7-76aca6e0dd10');\n",
              "          const dataTable =\n",
              "            await google.colab.kernel.invokeFunction('convertToInteractive',\n",
              "                                                     [key], {});\n",
              "          if (!dataTable) return;\n",
              "\n",
              "          const docLinkHtml = 'Like what you see? Visit the ' +\n",
              "            '<a target=\"_blank\" href=https://colab.research.google.com/notebooks/data_table.ipynb>data table notebook</a>'\n",
              "            + ' to learn more about interactive tables.';\n",
              "          element.innerHTML = '';\n",
              "          dataTable['output_type'] = 'display_data';\n",
              "          await google.colab.output.renderOutput(dataTable, element);\n",
              "          const docLink = document.createElement('div');\n",
              "          docLink.innerHTML = docLinkHtml;\n",
              "          element.appendChild(docLink);\n",
              "        }\n",
              "      </script>\n",
              "    </div>\n",
              "  </div>\n",
              "  "
            ]
          },
          "metadata": {},
          "execution_count": 18
        }
      ]
    },
    {
      "cell_type": "code",
      "source": [
        "X = diabetes.data\n",
        "y = diabetes.target"
      ],
      "metadata": {
        "id": "3vpoJxhGSHY9"
      },
      "execution_count": null,
      "outputs": []
    },
    {
      "cell_type": "code",
      "source": [
        "from sklearn.model_selection import train_test_split\n",
        "X_train, X_test, y_train, y_test = train_test_split(X, y)"
      ],
      "metadata": {
        "id": "4cHAamzfSHY-"
      },
      "execution_count": null,
      "outputs": []
    },
    {
      "cell_type": "code",
      "source": [
        "from keras.models import Sequential\n",
        "from keras.layers import Dense"
      ],
      "metadata": {
        "id": "jW3a2DT6SJOv"
      },
      "execution_count": null,
      "outputs": []
    },
    {
      "cell_type": "code",
      "source": [
        "dnn = Sequential()\n",
        "dnn.add(Dense(200, activation='relu'))\n",
        "dnn.add(Dense(150, activation='relu'))\n",
        "dnn.add(Dense(100, activation='relu'))\n",
        "dnn.add(Dense(1))\n",
        "dnn.compile(loss='mean_squared_error',metrics='mean_absolute_error', optimizer='adam') # 회귀때는 mse만 쓴다"
      ],
      "metadata": {
        "id": "SV8D46VyS2lf"
      },
      "execution_count": null,
      "outputs": []
    },
    {
      "cell_type": "code",
      "source": [
        "dnn.fit(X_train, y_train, epochs=20, batch_size=20)"
      ],
      "metadata": {
        "colab": {
          "base_uri": "https://localhost:8080/"
        },
        "id": "z-_xBeg9T3t4",
        "outputId": "17fa378b-37b1-4595-a914-77a1040db98d"
      },
      "execution_count": null,
      "outputs": [
        {
          "output_type": "stream",
          "name": "stdout",
          "text": [
            "Epoch 1/20\n",
            "17/17 [==============================] - 0s 5ms/step - loss: 2999.7747 - mean_absolute_error: 44.6765\n",
            "Epoch 2/20\n",
            "17/17 [==============================] - 0s 5ms/step - loss: 2951.3904 - mean_absolute_error: 44.4067\n",
            "Epoch 3/20\n",
            "17/17 [==============================] - 0s 5ms/step - loss: 2927.9548 - mean_absolute_error: 44.0185\n",
            "Epoch 4/20\n",
            "17/17 [==============================] - 0s 5ms/step - loss: 2911.7678 - mean_absolute_error: 43.9842\n",
            "Epoch 5/20\n",
            "17/17 [==============================] - 0s 5ms/step - loss: 2932.6943 - mean_absolute_error: 43.9500\n",
            "Epoch 6/20\n",
            "17/17 [==============================] - 0s 6ms/step - loss: 2955.0137 - mean_absolute_error: 44.3340\n",
            "Epoch 7/20\n",
            "17/17 [==============================] - 0s 8ms/step - loss: 2922.9932 - mean_absolute_error: 43.8530\n",
            "Epoch 8/20\n",
            "17/17 [==============================] - 0s 5ms/step - loss: 2920.1995 - mean_absolute_error: 43.4413\n",
            "Epoch 9/20\n",
            "17/17 [==============================] - 0s 6ms/step - loss: 2887.2961 - mean_absolute_error: 43.6219\n",
            "Epoch 10/20\n",
            "17/17 [==============================] - 0s 6ms/step - loss: 2893.8018 - mean_absolute_error: 43.2868\n",
            "Epoch 11/20\n",
            "17/17 [==============================] - 0s 5ms/step - loss: 2936.8438 - mean_absolute_error: 44.1002\n",
            "Epoch 12/20\n",
            "17/17 [==============================] - 0s 4ms/step - loss: 2903.5647 - mean_absolute_error: 43.9775\n",
            "Epoch 13/20\n",
            "17/17 [==============================] - 0s 5ms/step - loss: 2919.7097 - mean_absolute_error: 43.3989\n",
            "Epoch 14/20\n",
            "17/17 [==============================] - 0s 4ms/step - loss: 2864.8647 - mean_absolute_error: 43.4775\n",
            "Epoch 15/20\n",
            "17/17 [==============================] - 0s 5ms/step - loss: 2876.9492 - mean_absolute_error: 43.4620\n",
            "Epoch 16/20\n",
            "17/17 [==============================] - 0s 5ms/step - loss: 2849.0042 - mean_absolute_error: 43.1277\n",
            "Epoch 17/20\n",
            "17/17 [==============================] - 0s 5ms/step - loss: 2866.7725 - mean_absolute_error: 43.4292\n",
            "Epoch 18/20\n",
            "17/17 [==============================] - 0s 5ms/step - loss: 2895.2180 - mean_absolute_error: 43.5851\n",
            "Epoch 19/20\n",
            "17/17 [==============================] - 0s 5ms/step - loss: 2866.5671 - mean_absolute_error: 43.3629\n",
            "Epoch 20/20\n",
            "17/17 [==============================] - 0s 5ms/step - loss: 2877.1394 - mean_absolute_error: 43.1066\n"
          ]
        },
        {
          "output_type": "execute_result",
          "data": {
            "text/plain": [
              "<keras.callbacks.History at 0x7f939ebacbd0>"
            ]
          },
          "metadata": {},
          "execution_count": 36
        }
      ]
    },
    {
      "cell_type": "code",
      "source": [
        "dnn.evaluate(X_test, y_test)"
      ],
      "metadata": {
        "colab": {
          "base_uri": "https://localhost:8080/"
        },
        "id": "WaEk_FKuUBnT",
        "outputId": "17f677fe-b1f9-4faa-dcbb-6371f10d786a"
      },
      "execution_count": null,
      "outputs": [
        {
          "output_type": "stream",
          "name": "stdout",
          "text": [
            "4/4 [==============================] - 0s 3ms/step - loss: 2946.0042 - mean_absolute_error: 43.0385\n"
          ]
        },
        {
          "output_type": "execute_result",
          "data": {
            "text/plain": [
              "[2946.004150390625, 43.0384635925293]"
            ]
          },
          "metadata": {},
          "execution_count": 37
        }
      ]
    },
    {
      "cell_type": "code",
      "source": [
        "# 상관계수, mse\n",
        "np.corrcoef(np.array(y_test), dnn.predict(X_test).T) # 각 데이터 셋을 직접 펼쳐보고 어레이를 맞춰줘야 한다"
      ],
      "metadata": {
        "colab": {
          "base_uri": "https://localhost:8080/"
        },
        "id": "fmOdQPHbWT65",
        "outputId": "83377b71-a683-4398-a480-f7dd5810d62c"
      },
      "execution_count": null,
      "outputs": [
        {
          "output_type": "execute_result",
          "data": {
            "text/plain": [
              "array([[1.        , 0.70298525],\n",
              "       [0.70298525, 1.        ]])"
            ]
          },
          "metadata": {},
          "execution_count": 38
        }
      ]
    },
    {
      "cell_type": "code",
      "source": [
        "plt.plot(range(len(X_test)), y_test, 'g--')\n",
        "plt.plot(range(len(X_test)), dnn.predict(X_test), 'r')"
      ],
      "metadata": {
        "colab": {
          "base_uri": "https://localhost:8080/",
          "height": 283
        },
        "id": "mSsCSzesWmRi",
        "outputId": "5f3f3dbc-5c29-4818-d659-d4ce0178b9fb"
      },
      "execution_count": null,
      "outputs": [
        {
          "output_type": "execute_result",
          "data": {
            "text/plain": [
              "[<matplotlib.lines.Line2D at 0x7f9398078050>]"
            ]
          },
          "metadata": {},
          "execution_count": 39
        },
        {
          "output_type": "display_data",
          "data": {
            "text/plain": [
              "<Figure size 432x288 with 1 Axes>"
            ],
            "image/png": "[encoded data removed]"
          },
          "metadata": {
            "needs_background": "light"
          }
        }
      ]
    },
    {
      "cell_type": "code",
      "source": [
        "!pip install pandas_datareader\n",
        "!pip install yfinance"
      ],
      "metadata": {
        "colab": {
          "base_uri": "https://localhost:8080/"
        },
        "id": "uhfM7SWNYkLJ",
        "outputId": "437c4ec9-bbf4-4749-b523-21835d7195cc"
      },
      "execution_count": null,
      "outputs": [
        {
          "output_type": "stream",
          "name": "stdout",
          "text": [
            "Requirement already satisfied: pandas_datareader in /usr/local/lib/python3.7/dist-packages (0.9.0)\n",
            "Requirement already satisfied: pandas>=0.23 in /usr/local/lib/python3.7/dist-packages (from pandas_datareader) (1.3.5)\n",
            "Requirement already satisfied: requests>=2.19.0 in /usr/local/lib/python3.7/dist-packages (from pandas_datareader) (2.27.1)\n",
            "Requirement already satisfied: lxml in /usr/local/lib/python3.7/dist-packages (from pandas_datareader) (4.8.0)\n",
            "Requirement already satisfied: pytz>=2017.3 in /usr/local/lib/python3.7/dist-packages (from pandas>=0.23->pandas_datareader) (2018.9)\n",
            "Requirement already satisfied: python-dateutil>=2.7.3 in /usr/local/lib/python3.7/dist-packages (from pandas>=0.23->pandas_datareader) (2.8.2)\n",
            "Requirement already satisfied: numpy>=1.17.3 in /usr/local/lib/python3.7/dist-packages (from pandas>=0.23->pandas_datareader) (1.21.5)\n",
            "Requirement already satisfied: six>=1.5 in /usr/local/lib/python3.7/dist-packages (from python-dateutil>=2.7.3->pandas>=0.23->pandas_datareader) (1.15.0)\n",
            "Requirement already satisfied: idna<4,>=2.5 in /usr/local/lib/python3.7/dist-packages (from requests>=2.19.0->pandas_datareader) (2.10)\n",
            "Requirement already satisfied: urllib3<1.27,>=1.21.1 in /usr/local/lib/python3.7/dist-packages (from requests>=2.19.0->pandas_datareader) (1.24.3)\n",
            "Requirement already satisfied: certifi>=2017.4.17 in /usr/local/lib/python3.7/dist-packages (from requests>=2.19.0->pandas_datareader) (2021.10.8)\n",
            "Requirement already satisfied: charset-normalizer~=2.0.0 in /usr/local/lib/python3.7/dist-packages (from requests>=2.19.0->pandas_datareader) (2.0.12)\n",
            "Requirement already satisfied: yfinance in /usr/local/lib/python3.7/dist-packages (0.1.70)\n",
            "Requirement already satisfied: pandas>=0.24.0 in /usr/local/lib/python3.7/dist-packages (from yfinance) (1.3.5)\n",
            "Requirement already satisfied: numpy>=1.15 in /usr/local/lib/python3.7/dist-packages (from yfinance) (1.21.5)\n",
            "Requirement already satisfied: multitasking>=0.0.7 in /usr/local/lib/python3.7/dist-packages (from yfinance) (0.0.10)\n",
            "Requirement already satisfied: lxml>=4.5.1 in /usr/local/lib/python3.7/dist-packages (from yfinance) (4.8.0)\n",
            "Requirement already satisfied: requests>=2.26 in /usr/local/lib/python3.7/dist-packages (from yfinance) (2.27.1)\n",
            "Requirement already satisfied: python-dateutil>=2.7.3 in /usr/local/lib/python3.7/dist-packages (from pandas>=0.24.0->yfinance) (2.8.2)\n",
            "Requirement already satisfied: pytz>=2017.3 in /usr/local/lib/python3.7/dist-packages (from pandas>=0.24.0->yfinance) (2018.9)\n",
            "Requirement already satisfied: six>=1.5 in /usr/local/lib/python3.7/dist-packages (from python-dateutil>=2.7.3->pandas>=0.24.0->yfinance) (1.15.0)\n",
            "Requirement already satisfied: certifi>=2017.4.17 in /usr/local/lib/python3.7/dist-packages (from requests>=2.26->yfinance) (2021.10.8)\n",
            "Requirement already satisfied: urllib3<1.27,>=1.21.1 in /usr/local/lib/python3.7/dist-packages (from requests>=2.26->yfinance) (1.24.3)\n",
            "Requirement already satisfied: idna<4,>=2.5 in /usr/local/lib/python3.7/dist-packages (from requests>=2.26->yfinance) (2.10)\n",
            "Requirement already satisfied: charset-normalizer~=2.0.0 in /usr/local/lib/python3.7/dist-packages (from requests>=2.26->yfinance) (2.0.12)\n"
          ]
        }
      ]
    },
    {
      "cell_type": "code",
      "source": [
        "import yfinance as yf\n",
        "from pandas_datareader import data as pdr\n",
        "yf.pdr_override()"
      ],
      "metadata": {
        "id": "eTMH8cqRZpXI"
      },
      "execution_count": null,
      "outputs": []
    },
    {
      "cell_type": "code",
      "source": [
        "data = pdr.get_data_yahoo(\"FB\", start='2021-02-01', end='2022-02-01')\n",
        "data.head()"
      ],
      "metadata": {
        "colab": {
          "base_uri": "https://localhost:8080/",
          "height": 256
        },
        "id": "weWNKJG6feIL",
        "outputId": "a50c017e-ad37-45c2-83cc-4927cb3a9f73"
      },
      "execution_count": null,
      "outputs": [
        {
          "output_type": "stream",
          "name": "stdout",
          "text": [
            "\r[*********************100%***********************]  1 of 1 completed\n"
          ]
        },
        {
          "output_type": "execute_result",
          "data": {
            "text/plain": [
              "                  Open        High         Low       Close   Adj Close  \\\n",
              "Date                                                                     \n",
              "2021-02-01  259.519989  264.170013  254.910004  262.010010  262.010010   \n",
              "2021-02-02  264.000000  268.850006  263.269989  267.079987  267.079987   \n",
              "2021-02-03  265.619995  269.200012  263.839996  266.649994  266.649994   \n",
              "2021-02-04  267.010010  268.160004  264.000000  266.489990  266.489990   \n",
              "2021-02-05  266.799988  269.170013  265.670013  268.100006  268.100006   \n",
              "\n",
              "              Volume  \n",
              "Date                  \n",
              "2021-02-01  22914300  \n",
              "2021-02-02  17320800  \n",
              "2021-02-03  14223400  \n",
              "2021-02-04  16060000  \n",
              "2021-02-05  12454400  "
            ],
            "text/html": [
              "\n",
              "  <div id=\"df-3227b868-1fc2-4726-8f2b-fd9cbaffa769\">\n",
              "    <div class=\"colab-df-container\">\n",
              "      <div>\n",
              "<style scoped>\n",
              "    .dataframe tbody tr th:only-of-type {\n",
              "        vertical-align: middle;\n",
              "    }\n",
              "\n",
              "    .dataframe tbody tr th {\n",
              "        vertical-align: top;\n",
              "    }\n",
              "\n",
              "    .dataframe thead th {\n",
              "        text-align: right;\n",
              "    }\n",
              "</style>\n",
              "<table border=\"1\" class=\"dataframe\">\n",
              "  <thead>\n",
              "    <tr style=\"text-align: right;\">\n",
              "      <th></th>\n",
              "      <th>Open</th>\n",
              "      <th>High</th>\n",
              "      <th>Low</th>\n",
              "      <th>Close</th>\n",
              "      <th>Adj Close</th>\n",
              "      <th>Volume</th>\n",
              "    </tr>\n",
              "    <tr>\n",
              "      <th>Date</th>\n",
              "      <th></th>\n",
              "      <th></th>\n",
              "      <th></th>\n",
              "      <th></th>\n",
              "      <th></th>\n",
              "      <th></th>\n",
              "    </tr>\n",
              "  </thead>\n",
              "  <tbody>\n",
              "    <tr>\n",
              "      <th>2021-02-01</th>\n",
              "      <td>259.519989</td>\n",
              "      <td>264.170013</td>\n",
              "      <td>254.910004</td>\n",
              "      <td>262.010010</td>\n",
              "      <td>262.010010</td>\n",
              "      <td>22914300</td>\n",
              "    </tr>\n",
              "    <tr>\n",
              "      <th>2021-02-02</th>\n",
              "      <td>264.000000</td>\n",
              "      <td>268.850006</td>\n",
              "      <td>263.269989</td>\n",
              "      <td>267.079987</td>\n",
              "      <td>267.079987</td>\n",
              "      <td>17320800</td>\n",
              "    </tr>\n",
              "    <tr>\n",
              "      <th>2021-02-03</th>\n",
              "      <td>265.619995</td>\n",
              "      <td>269.200012</td>\n",
              "      <td>263.839996</td>\n",
              "      <td>266.649994</td>\n",
              "      <td>266.649994</td>\n",
              "      <td>14223400</td>\n",
              "    </tr>\n",
              "    <tr>\n",
              "      <th>2021-02-04</th>\n",
              "      <td>267.010010</td>\n",
              "      <td>268.160004</td>\n",
              "      <td>264.000000</td>\n",
              "      <td>266.489990</td>\n",
              "      <td>266.489990</td>\n",
              "      <td>16060000</td>\n",
              "    </tr>\n",
              "    <tr>\n",
              "      <th>2021-02-05</th>\n",
              "      <td>266.799988</td>\n",
              "      <td>269.170013</td>\n",
              "      <td>265.670013</td>\n",
              "      <td>268.100006</td>\n",
              "      <td>268.100006</td>\n",
              "      <td>12454400</td>\n",
              "    </tr>\n",
              "  </tbody>\n",
              "</table>\n",
              "</div>\n",
              "      <button class=\"colab-df-convert\" onclick=\"convertToInteractive('df-3227b868-1fc2-4726-8f2b-fd9cbaffa769')\"\n",
              "              title=\"Convert this dataframe to an interactive table.\"\n",
              "              style=\"display:none;\">\n",
              "        \n",
              "  <svg xmlns=\"http://www.w3.org/2000/svg\" height=\"24px\"viewBox=\"0 0 24 24\"\n",
              "       width=\"24px\">\n",
              "    <path d=\"M0 0h24v24H0V0z\" fill=\"none\"/>\n",
              "    <path d=\"M18.56 5.44l.94 2.06.94-2.06 2.06-.94-2.06-.94-.94-2.06-.94 2.06-2.06.94zm-11 1L8.5 8.5l.94-2.06 2.06-.94-2.06-.94L8.5 2.5l-.94 2.06-2.06.94zm10 10l.94 2.06.94-2.06 2.06-.94-2.06-.94-.94-2.06-.94 2.06-2.06.94z\"/><path d=\"M17.41 7.96l-1.37-1.37c-.4-.4-.92-.59-1.43-.59-.52 0-1.04.2-1.43.59L10.3 9.45l-7.72 7.72c-.78.78-.78 2.05 0 2.83L4 21.41c.39.39.9.59 1.41.59.51 0 1.02-.2 1.41-.59l7.78-7.78 2.81-2.81c.8-.78.8-2.07 0-2.86zM5.41 20L4 18.59l7.72-7.72 1.47 1.35L5.41 20z\"/>\n",
              "  </svg>\n",
              "      </button>\n",
              "      \n",
              "  <style>\n",
              "    .colab-df-container {\n",
              "      display:flex;\n",
              "      flex-wrap:wrap;\n",
              "      gap: 12px;\n",
              "    }\n",
              "\n",
              "    .colab-df-convert {\n",
              "      background-color: #E8F0FE;\n",
              "      border: none;\n",
              "      border-radius: 50%;\n",
              "      cursor: pointer;\n",
              "      display: none;\n",
              "      fill: #1967D2;\n",
              "      height: 32px;\n",
              "      padding: 0 0 0 0;\n",
              "      width: 32px;\n",
              "    }\n",
              "\n",
              "    .colab-df-convert:hover {\n",
              "      background-color: #E2EBFA;\n",
              "      box-shadow: 0px 1px 2px rgba(60, 64, 67, 0.3), 0px 1px 3px 1px rgba(60, 64, 67, 0.15);\n",
              "      fill: #174EA6;\n",
              "    }\n",
              "\n",
              "    [theme=dark] .colab-df-convert {\n",
              "      background-color: #3B4455;\n",
              "      fill: #D2E3FC;\n",
              "    }\n",
              "\n",
              "    [theme=dark] .colab-df-convert:hover {\n",
              "      background-color: #434B5C;\n",
              "      box-shadow: 0px 1px 3px 1px rgba(0, 0, 0, 0.15);\n",
              "      filter: drop-shadow(0px 1px 2px rgba(0, 0, 0, 0.3));\n",
              "      fill: #FFFFFF;\n",
              "    }\n",
              "  </style>\n",
              "\n",
              "      <script>\n",
              "        const buttonEl =\n",
              "          document.querySelector('#df-3227b868-1fc2-4726-8f2b-fd9cbaffa769 button.colab-df-convert');\n",
              "        buttonEl.style.display =\n",
              "          google.colab.kernel.accessAllowed ? 'block' : 'none';\n",
              "\n",
              "        async function convertToInteractive(key) {\n",
              "          const element = document.querySelector('#df-3227b868-1fc2-4726-8f2b-fd9cbaffa769');\n",
              "          const dataTable =\n",
              "            await google.colab.kernel.invokeFunction('convertToInteractive',\n",
              "                                                     [key], {});\n",
              "          if (!dataTable) return;\n",
              "\n",
              "          const docLinkHtml = 'Like what you see? Visit the ' +\n",
              "            '<a target=\"_blank\" href=https://colab.research.google.com/notebooks/data_table.ipynb>data table notebook</a>'\n",
              "            + ' to learn more about interactive tables.';\n",
              "          element.innerHTML = '';\n",
              "          dataTable['output_type'] = 'display_data';\n",
              "          await google.colab.output.renderOutput(dataTable, element);\n",
              "          const docLink = document.createElement('div');\n",
              "          docLink.innerHTML = docLinkHtml;\n",
              "          element.appendChild(docLink);\n",
              "        }\n",
              "      </script>\n",
              "    </div>\n",
              "  </div>\n",
              "  "
            ]
          },
          "metadata": {},
          "execution_count": 19
        }
      ]
    },
    {
      "cell_type": "code",
      "source": [
        "op = np.array(data['Open'])\n",
        "hi = np.array(data['High'])\n",
        "low = np.array(data['Low'])\n",
        "cl = np.array(data['Close'])\n",
        "adj = np.array(data['Adj Close'])\n",
        "V = np.array(data['Volume'])"
      ],
      "metadata": {
        "id": "X6n2qetUeua-"
      },
      "execution_count": null,
      "outputs": []
    },
    {
      "cell_type": "code",
      "source": [
        "X = np.column_stack((op, hi, low, cl, V))\n",
        "y = adj"
      ],
      "metadata": {
        "id": "3tn2xqRpgA59"
      },
      "execution_count": null,
      "outputs": []
    },
    {
      "cell_type": "code",
      "source": [
        "from sklearn.preprocessing import StandardScaler\n",
        "ss = StandardScaler()\n",
        "X_s = ss.fit_transform(X)"
      ],
      "metadata": {
        "id": "d_do9AWIgmlt"
      },
      "execution_count": null,
      "outputs": []
    },
    {
      "cell_type": "code",
      "source": [
        "from keras.models import Sequential\n",
        "from keras.layers import Dense"
      ],
      "metadata": {
        "id": "0cOIDJc4hCob"
      },
      "execution_count": null,
      "outputs": []
    },
    {
      "cell_type": "code",
      "source": [
        "from sklearn.model_selection import train_test_split\n",
        "X_train, X_test, y_train, y_test = train_test_split(X_s, y)"
      ],
      "metadata": {
        "id": "gPpqSEOZhZ2C"
      },
      "execution_count": null,
      "outputs": []
    },
    {
      "cell_type": "code",
      "source": [
        "dnn = Sequential()\n",
        "dnn.add(Dense(200, activation='relu'))\n",
        "dnn.add(Dense(150, activation='relu'))\n",
        "dnn.add(Dense(100, activation='relu'))\n",
        "dnn.add(Dense(1))\n",
        "dnn.compile(loss='mean_squared_error',metrics='mean_absolute_error', optimizer='adam')"
      ],
      "metadata": {
        "id": "PB0Su8UfhTa1"
      },
      "execution_count": null,
      "outputs": []
    },
    {
      "cell_type": "code",
      "source": [
        "dnn.fit(X_train, y_train, epochs=50, batch_size=100)"
      ],
      "metadata": {
        "colab": {
          "base_uri": "https://localhost:8080/"
        },
        "id": "7nb0BVqjhhCP",
        "outputId": "b2c6e26b-43c3-4fc3-ba7c-b54147f16c38"
      },
      "execution_count": null,
      "outputs": [
        {
          "output_type": "stream",
          "name": "stdout",
          "text": [
            "Epoch 1/50\n",
            "2/2 [==============================] - 0s 11ms/step - loss: 65.7527 - mean_absolute_error: 6.0148\n",
            "Epoch 2/50\n",
            "2/2 [==============================] - 0s 9ms/step - loss: 64.2965 - mean_absolute_error: 5.9532\n",
            "Epoch 3/50\n",
            "2/2 [==============================] - 0s 17ms/step - loss: 62.9304 - mean_absolute_error: 5.8710\n",
            "Epoch 4/50\n",
            "2/2 [==============================] - 0s 18ms/step - loss: 61.5958 - mean_absolute_error: 5.7811\n",
            "Epoch 5/50\n",
            "2/2 [==============================] - 0s 12ms/step - loss: 60.0690 - mean_absolute_error: 5.7032\n",
            "Epoch 6/50\n",
            "2/2 [==============================] - 0s 29ms/step - loss: 58.7902 - mean_absolute_error: 5.6403\n",
            "Epoch 7/50\n",
            "2/2 [==============================] - 0s 32ms/step - loss: 57.4439 - mean_absolute_error: 5.5757\n",
            "Epoch 8/50\n",
            "2/2 [==============================] - 0s 21ms/step - loss: 56.2997 - mean_absolute_error: 5.5212\n",
            "Epoch 9/50\n",
            "2/2 [==============================] - 0s 9ms/step - loss: 55.2075 - mean_absolute_error: 5.4775\n",
            "Epoch 10/50\n",
            "2/2 [==============================] - 0s 17ms/step - loss: 53.9951 - mean_absolute_error: 5.4340\n",
            "Epoch 11/50\n",
            "2/2 [==============================] - 0s 15ms/step - loss: 52.8940 - mean_absolute_error: 5.3829\n",
            "Epoch 12/50\n",
            "2/2 [==============================] - 0s 15ms/step - loss: 51.6970 - mean_absolute_error: 5.3190\n",
            "Epoch 13/50\n",
            "2/2 [==============================] - 0s 17ms/step - loss: 50.4442 - mean_absolute_error: 5.2517\n",
            "Epoch 14/50\n",
            "2/2 [==============================] - 0s 15ms/step - loss: 49.5271 - mean_absolute_error: 5.1855\n",
            "Epoch 15/50\n",
            "2/2 [==============================] - 0s 15ms/step - loss: 48.3332 - mean_absolute_error: 5.1179\n",
            "Epoch 16/50\n",
            "2/2 [==============================] - 0s 15ms/step - loss: 47.3125 - mean_absolute_error: 5.0700\n",
            "Epoch 17/50\n",
            "2/2 [==============================] - 0s 17ms/step - loss: 46.3300 - mean_absolute_error: 5.0229\n",
            "Epoch 18/50\n",
            "2/2 [==============================] - 0s 15ms/step - loss: 45.5469 - mean_absolute_error: 4.9821\n",
            "Epoch 19/50\n",
            "2/2 [==============================] - 0s 15ms/step - loss: 44.5504 - mean_absolute_error: 4.9329\n",
            "Epoch 20/50\n",
            "2/2 [==============================] - 0s 16ms/step - loss: 43.5418 - mean_absolute_error: 4.8750\n",
            "Epoch 21/50\n",
            "2/2 [==============================] - 0s 13ms/step - loss: 42.5623 - mean_absolute_error: 4.8134\n",
            "Epoch 22/50\n",
            "2/2 [==============================] - 0s 19ms/step - loss: 41.6824 - mean_absolute_error: 4.7614\n",
            "Epoch 23/50\n",
            "2/2 [==============================] - 0s 17ms/step - loss: 40.8467 - mean_absolute_error: 4.7086\n",
            "Epoch 24/50\n",
            "2/2 [==============================] - 0s 14ms/step - loss: 39.9830 - mean_absolute_error: 4.6566\n",
            "Epoch 25/50\n",
            "2/2 [==============================] - 0s 13ms/step - loss: 39.2558 - mean_absolute_error: 4.6133\n",
            "Epoch 26/50\n",
            "2/2 [==============================] - 0s 19ms/step - loss: 38.4167 - mean_absolute_error: 4.5671\n",
            "Epoch 27/50\n",
            "2/2 [==============================] - 0s 20ms/step - loss: 37.5976 - mean_absolute_error: 4.5125\n",
            "Epoch 28/50\n",
            "2/2 [==============================] - 0s 16ms/step - loss: 36.7994 - mean_absolute_error: 4.4529\n",
            "Epoch 29/50\n",
            "2/2 [==============================] - 0s 15ms/step - loss: 36.1871 - mean_absolute_error: 4.4046\n",
            "Epoch 30/50\n",
            "2/2 [==============================] - 0s 12ms/step - loss: 35.3668 - mean_absolute_error: 4.3584\n",
            "Epoch 31/50\n",
            "2/2 [==============================] - 0s 15ms/step - loss: 34.7119 - mean_absolute_error: 4.3120\n",
            "Epoch 32/50\n",
            "2/2 [==============================] - 0s 36ms/step - loss: 34.0198 - mean_absolute_error: 4.2706\n",
            "Epoch 33/50\n",
            "2/2 [==============================] - 0s 14ms/step - loss: 33.3612 - mean_absolute_error: 4.2405\n",
            "Epoch 34/50\n",
            "2/2 [==============================] - 0s 12ms/step - loss: 32.6938 - mean_absolute_error: 4.2061\n",
            "Epoch 35/50\n",
            "2/2 [==============================] - 0s 12ms/step - loss: 32.0728 - mean_absolute_error: 4.1669\n",
            "Epoch 36/50\n",
            "2/2 [==============================] - 0s 22ms/step - loss: 31.3528 - mean_absolute_error: 4.1142\n",
            "Epoch 37/50\n",
            "2/2 [==============================] - 0s 13ms/step - loss: 30.8253 - mean_absolute_error: 4.0640\n",
            "Epoch 38/50\n",
            "2/2 [==============================] - 0s 22ms/step - loss: 30.1778 - mean_absolute_error: 4.0125\n",
            "Epoch 39/50\n",
            "2/2 [==============================] - 0s 10ms/step - loss: 29.6868 - mean_absolute_error: 3.9758\n",
            "Epoch 40/50\n",
            "2/2 [==============================] - 0s 9ms/step - loss: 29.0876 - mean_absolute_error: 3.9500\n",
            "Epoch 41/50\n",
            "2/2 [==============================] - 0s 17ms/step - loss: 28.4748 - mean_absolute_error: 3.9130\n",
            "Epoch 42/50\n",
            "2/2 [==============================] - 0s 13ms/step - loss: 27.9535 - mean_absolute_error: 3.8771\n",
            "Epoch 43/50\n",
            "2/2 [==============================] - 0s 14ms/step - loss: 27.4933 - mean_absolute_error: 3.8445\n",
            "Epoch 44/50\n",
            "2/2 [==============================] - 0s 14ms/step - loss: 27.0224 - mean_absolute_error: 3.8145\n",
            "Epoch 45/50\n",
            "2/2 [==============================] - 0s 13ms/step - loss: 26.4696 - mean_absolute_error: 3.7763\n",
            "Epoch 46/50\n",
            "2/2 [==============================] - 0s 15ms/step - loss: 25.9514 - mean_absolute_error: 3.7287\n",
            "Epoch 47/50\n",
            "2/2 [==============================] - 0s 9ms/step - loss: 25.4943 - mean_absolute_error: 3.6833\n",
            "Epoch 48/50\n",
            "2/2 [==============================] - 0s 12ms/step - loss: 25.0092 - mean_absolute_error: 3.6499\n",
            "Epoch 49/50\n",
            "2/2 [==============================] - 0s 19ms/step - loss: 24.5322 - mean_absolute_error: 3.6113\n",
            "Epoch 50/50\n",
            "2/2 [==============================] - 0s 12ms/step - loss: 24.1324 - mean_absolute_error: 3.5903\n"
          ]
        },
        {
          "output_type": "execute_result",
          "data": {
            "text/plain": [
              "<keras.callbacks.History at 0x7efdbb239410>"
            ]
          },
          "metadata": {},
          "execution_count": 36
        }
      ]
    },
    {
      "cell_type": "code",
      "source": [
        "plt.plot(y_test, 'g--')\n",
        "plt.plot(dnn.predict(X_test), 'r')"
      ],
      "metadata": {
        "colab": {
          "base_uri": "https://localhost:8080/",
          "height": 285
        },
        "id": "Udmqz5wghpB6",
        "outputId": "61b1fe01-da66-48d6-be1f-a68fdf74980b"
      },
      "execution_count": null,
      "outputs": [
        {
          "output_type": "execute_result",
          "data": {
            "text/plain": [
              "[<matplotlib.lines.Line2D at 0x7efdb74ca110>]"
            ]
          },
          "metadata": {},
          "execution_count": 37
        },
        {
          "output_type": "display_data",
          "data": {
            "text/plain": [
              "<Figure size 432x288 with 1 Axes>"
            ],
            "image/png": "[encoded data removed]"
          },
          "metadata": {
            "needs_background": "light"
          }
        }
      ]
    },
    {
      "cell_type": "markdown",
      "source": [
        "**2022 - 3 - 17**"
      ],
      "metadata": {
        "id": "MGwRRuo3YHP9"
      }
    },
    {
      "cell_type": "code",
      "execution_count": null,
      "metadata": {
        "id": "TbWTMqaVVLwt"
      },
      "outputs": [],
      "source": [
        "import numpy as np\n",
        "import pandas as pd\n",
        "import matplotlib.pyplot as plt"
      ]
    },
    {
      "cell_type": "code",
      "source": [
        "from sklearn import datasets"
      ],
      "metadata": {
        "id": "9EtjylY1VV2a"
      },
      "execution_count": null,
      "outputs": []
    },
    {
      "cell_type": "code",
      "source": [
        "iris=datasets.load_iris()\n",
        "df=pd.DataFrame(iris.data, columns=iris.feature_names)\n",
        "df['target']=iris.target"
      ],
      "metadata": {
        "id": "w1YMT16aVjsm"
      },
      "execution_count": null,
      "outputs": []
    },
    {
      "cell_type": "code",
      "source": [
        "df.head()"
      ],
      "metadata": {
        "colab": {
          "base_uri": "https://localhost:8080/",
          "height": 206
        },
        "id": "NWlEU-90VuK7",
        "outputId": "f1418b78-eade-4e42-fd50-d4e107991b37"
      },
      "execution_count": null,
      "outputs": [
        {
          "output_type": "execute_result",
          "data": {
            "text/plain": [
              "   sepal length (cm)  sepal width (cm)  petal length (cm)  petal width (cm)  \\\n",
              "0                5.1               3.5                1.4               0.2   \n",
              "1                4.9               3.0                1.4               0.2   \n",
              "2                4.7               3.2                1.3               0.2   \n",
              "3                4.6               3.1                1.5               0.2   \n",
              "4                5.0               3.6                1.4               0.2   \n",
              "\n",
              "   target  \n",
              "0       0  \n",
              "1       0  \n",
              "2       0  \n",
              "3       0  \n",
              "4       0  "
            ],
            "text/html": [
              "\n",
              "  <div id=\"df-172b9bf1-96e6-4027-938a-060a84f0a3fa\">\n",
              "    <div class=\"colab-df-container\">\n",
              "      <div>\n",
              "<style scoped>\n",
              "    .dataframe tbody tr th:only-of-type {\n",
              "        vertical-align: middle;\n",
              "    }\n",
              "\n",
              "    .dataframe tbody tr th {\n",
              "        vertical-align: top;\n",
              "    }\n",
              "\n",
              "    .dataframe thead th {\n",
              "        text-align: right;\n",
              "    }\n",
              "</style>\n",
              "<table border=\"1\" class=\"dataframe\">\n",
              "  <thead>\n",
              "    <tr style=\"text-align: right;\">\n",
              "      <th></th>\n",
              "      <th>sepal length (cm)</th>\n",
              "      <th>sepal width (cm)</th>\n",
              "      <th>petal length (cm)</th>\n",
              "      <th>petal width (cm)</th>\n",
              "      <th>target</th>\n",
              "    </tr>\n",
              "  </thead>\n",
              "  <tbody>\n",
              "    <tr>\n",
              "      <th>0</th>\n",
              "      <td>5.1</td>\n",
              "      <td>3.5</td>\n",
              "      <td>1.4</td>\n",
              "      <td>0.2</td>\n",
              "      <td>0</td>\n",
              "    </tr>\n",
              "    <tr>\n",
              "      <th>1</th>\n",
              "      <td>4.9</td>\n",
              "      <td>3.0</td>\n",
              "      <td>1.4</td>\n",
              "      <td>0.2</td>\n",
              "      <td>0</td>\n",
              "    </tr>\n",
              "    <tr>\n",
              "      <th>2</th>\n",
              "      <td>4.7</td>\n",
              "      <td>3.2</td>\n",
              "      <td>1.3</td>\n",
              "      <td>0.2</td>\n",
              "      <td>0</td>\n",
              "    </tr>\n",
              "    <tr>\n",
              "      <th>3</th>\n",
              "      <td>4.6</td>\n",
              "      <td>3.1</td>\n",
              "      <td>1.5</td>\n",
              "      <td>0.2</td>\n",
              "      <td>0</td>\n",
              "    </tr>\n",
              "    <tr>\n",
              "      <th>4</th>\n",
              "      <td>5.0</td>\n",
              "      <td>3.6</td>\n",
              "      <td>1.4</td>\n",
              "      <td>0.2</td>\n",
              "      <td>0</td>\n",
              "    </tr>\n",
              "  </tbody>\n",
              "</table>\n",
              "</div>\n",
              "      <button class=\"colab-df-convert\" onclick=\"convertToInteractive('df-172b9bf1-96e6-4027-938a-060a84f0a3fa')\"\n",
              "              title=\"Convert this dataframe to an interactive table.\"\n",
              "              style=\"display:none;\">\n",
              "        \n",
              "  <svg xmlns=\"http://www.w3.org/2000/svg\" height=\"24px\"viewBox=\"0 0 24 24\"\n",
              "       width=\"24px\">\n",
              "    <path d=\"M0 0h24v24H0V0z\" fill=\"none\"/>\n",
              "    <path d=\"M18.56 5.44l.94 2.06.94-2.06 2.06-.94-2.06-.94-.94-2.06-.94 2.06-2.06.94zm-11 1L8.5 8.5l.94-2.06 2.06-.94-2.06-.94L8.5 2.5l-.94 2.06-2.06.94zm10 10l.94 2.06.94-2.06 2.06-.94-2.06-.94-.94-2.06-.94 2.06-2.06.94z\"/><path d=\"M17.41 7.96l-1.37-1.37c-.4-.4-.92-.59-1.43-.59-.52 0-1.04.2-1.43.59L10.3 9.45l-7.72 7.72c-.78.78-.78 2.05 0 2.83L4 21.41c.39.39.9.59 1.41.59.51 0 1.02-.2 1.41-.59l7.78-7.78 2.81-2.81c.8-.78.8-2.07 0-2.86zM5.41 20L4 18.59l7.72-7.72 1.47 1.35L5.41 20z\"/>\n",
              "  </svg>\n",
              "      </button>\n",
              "      \n",
              "  <style>\n",
              "    .colab-df-container {\n",
              "      display:flex;\n",
              "      flex-wrap:wrap;\n",
              "      gap: 12px;\n",
              "    }\n",
              "\n",
              "    .colab-df-convert {\n",
              "      background-color: #E8F0FE;\n",
              "      border: none;\n",
              "      border-radius: 50%;\n",
              "      cursor: pointer;\n",
              "      display: none;\n",
              "      fill: #1967D2;\n",
              "      height: 32px;\n",
              "      padding: 0 0 0 0;\n",
              "      width: 32px;\n",
              "    }\n",
              "\n",
              "    .colab-df-convert:hover {\n",
              "      background-color: #E2EBFA;\n",
              "      box-shadow: 0px 1px 2px rgba(60, 64, 67, 0.3), 0px 1px 3px 1px rgba(60, 64, 67, 0.15);\n",
              "      fill: #174EA6;\n",
              "    }\n",
              "\n",
              "    [theme=dark] .colab-df-convert {\n",
              "      background-color: #3B4455;\n",
              "      fill: #D2E3FC;\n",
              "    }\n",
              "\n",
              "    [theme=dark] .colab-df-convert:hover {\n",
              "      background-color: #434B5C;\n",
              "      box-shadow: 0px 1px 3px 1px rgba(0, 0, 0, 0.15);\n",
              "      filter: drop-shadow(0px 1px 2px rgba(0, 0, 0, 0.3));\n",
              "      fill: #FFFFFF;\n",
              "    }\n",
              "  </style>\n",
              "\n",
              "      <script>\n",
              "        const buttonEl =\n",
              "          document.querySelector('#df-172b9bf1-96e6-4027-938a-060a84f0a3fa button.colab-df-convert');\n",
              "        buttonEl.style.display =\n",
              "          google.colab.kernel.accessAllowed ? 'block' : 'none';\n",
              "\n",
              "        async function convertToInteractive(key) {\n",
              "          const element = document.querySelector('#df-172b9bf1-96e6-4027-938a-060a84f0a3fa');\n",
              "          const dataTable =\n",
              "            await google.colab.kernel.invokeFunction('convertToInteractive',\n",
              "                                                     [key], {});\n",
              "          if (!dataTable) return;\n",
              "\n",
              "          const docLinkHtml = 'Like what you see? Visit the ' +\n",
              "            '<a target=\"_blank\" href=https://colab.research.google.com/notebooks/data_table.ipynb>data table notebook</a>'\n",
              "            + ' to learn more about interactive tables.';\n",
              "          element.innerHTML = '';\n",
              "          dataTable['output_type'] = 'display_data';\n",
              "          await google.colab.output.renderOutput(dataTable, element);\n",
              "          const docLink = document.createElement('div');\n",
              "          docLink.innerHTML = docLinkHtml;\n",
              "          element.appendChild(docLink);\n",
              "        }\n",
              "      </script>\n",
              "    </div>\n",
              "  </div>\n",
              "  "
            ]
          },
          "metadata": {},
          "execution_count": 9
        }
      ]
    },
    {
      "cell_type": "code",
      "source": [
        "np.unique(df['target'])"
      ],
      "metadata": {
        "colab": {
          "base_uri": "https://localhost:8080/"
        },
        "id": "fu-jNk49Vvc6",
        "outputId": "167b318b-b657-4eaa-cea2-739093c849c9"
      },
      "execution_count": null,
      "outputs": [
        {
          "output_type": "execute_result",
          "data": {
            "text/plain": [
              "array([0, 1, 2])"
            ]
          },
          "metadata": {},
          "execution_count": 10
        }
      ]
    },
    {
      "cell_type": "code",
      "source": [
        "from sklearn.preprocessing import StandardScaler\n",
        "ss = StandardScaler()\n",
        "iris_s = ss.fit_transform(iris.data)\n",
        "iris_s"
      ],
      "metadata": {
        "colab": {
          "base_uri": "https://localhost:8080/"
        },
        "id": "3gB1tOgCV6Ot",
        "outputId": "2443bbd9-6483-42e7-c732-102c74d709a1"
      },
      "execution_count": null,
      "outputs": [
        {
          "output_type": "execute_result",
          "data": {
            "text/plain": [
              "array([[-9.00681170e-01,  1.01900435e+00, -1.34022653e+00,\n",
              "        -1.31544430e+00],\n",
              "       [-1.14301691e+00, -1.31979479e-01, -1.34022653e+00,\n",
              "        -1.31544430e+00],\n",
              "       [-1.38535265e+00,  3.28414053e-01, -1.39706395e+00,\n",
              "        -1.31544430e+00],\n",
              "       [-1.50652052e+00,  9.82172869e-02, -1.28338910e+00,\n",
              "        -1.31544430e+00],\n",
              "       [-1.02184904e+00,  1.24920112e+00, -1.34022653e+00,\n",
              "        -1.31544430e+00],\n",
              "       [-5.37177559e-01,  1.93979142e+00, -1.16971425e+00,\n",
              "        -1.05217993e+00],\n",
              "       [-1.50652052e+00,  7.88807586e-01, -1.34022653e+00,\n",
              "        -1.18381211e+00],\n",
              "       [-1.02184904e+00,  7.88807586e-01, -1.28338910e+00,\n",
              "        -1.31544430e+00],\n",
              "       [-1.74885626e+00, -3.62176246e-01, -1.34022653e+00,\n",
              "        -1.31544430e+00],\n",
              "       [-1.14301691e+00,  9.82172869e-02, -1.28338910e+00,\n",
              "        -1.44707648e+00],\n",
              "       [-5.37177559e-01,  1.47939788e+00, -1.28338910e+00,\n",
              "        -1.31544430e+00],\n",
              "       [-1.26418478e+00,  7.88807586e-01, -1.22655167e+00,\n",
              "        -1.31544430e+00],\n",
              "       [-1.26418478e+00, -1.31979479e-01, -1.34022653e+00,\n",
              "        -1.44707648e+00],\n",
              "       [-1.87002413e+00, -1.31979479e-01, -1.51073881e+00,\n",
              "        -1.44707648e+00],\n",
              "       [-5.25060772e-02,  2.16998818e+00, -1.45390138e+00,\n",
              "        -1.31544430e+00],\n",
              "       [-1.73673948e-01,  3.09077525e+00, -1.28338910e+00,\n",
              "        -1.05217993e+00],\n",
              "       [-5.37177559e-01,  1.93979142e+00, -1.39706395e+00,\n",
              "        -1.05217993e+00],\n",
              "       [-9.00681170e-01,  1.01900435e+00, -1.34022653e+00,\n",
              "        -1.18381211e+00],\n",
              "       [-1.73673948e-01,  1.70959465e+00, -1.16971425e+00,\n",
              "        -1.18381211e+00],\n",
              "       [-9.00681170e-01,  1.70959465e+00, -1.28338910e+00,\n",
              "        -1.18381211e+00],\n",
              "       [-5.37177559e-01,  7.88807586e-01, -1.16971425e+00,\n",
              "        -1.31544430e+00],\n",
              "       [-9.00681170e-01,  1.47939788e+00, -1.28338910e+00,\n",
              "        -1.05217993e+00],\n",
              "       [-1.50652052e+00,  1.24920112e+00, -1.56757623e+00,\n",
              "        -1.31544430e+00],\n",
              "       [-9.00681170e-01,  5.58610819e-01, -1.16971425e+00,\n",
              "        -9.20547742e-01],\n",
              "       [-1.26418478e+00,  7.88807586e-01, -1.05603939e+00,\n",
              "        -1.31544430e+00],\n",
              "       [-1.02184904e+00, -1.31979479e-01, -1.22655167e+00,\n",
              "        -1.31544430e+00],\n",
              "       [-1.02184904e+00,  7.88807586e-01, -1.22655167e+00,\n",
              "        -1.05217993e+00],\n",
              "       [-7.79513300e-01,  1.01900435e+00, -1.28338910e+00,\n",
              "        -1.31544430e+00],\n",
              "       [-7.79513300e-01,  7.88807586e-01, -1.34022653e+00,\n",
              "        -1.31544430e+00],\n",
              "       [-1.38535265e+00,  3.28414053e-01, -1.22655167e+00,\n",
              "        -1.31544430e+00],\n",
              "       [-1.26418478e+00,  9.82172869e-02, -1.22655167e+00,\n",
              "        -1.31544430e+00],\n",
              "       [-5.37177559e-01,  7.88807586e-01, -1.28338910e+00,\n",
              "        -1.05217993e+00],\n",
              "       [-7.79513300e-01,  2.40018495e+00, -1.28338910e+00,\n",
              "        -1.44707648e+00],\n",
              "       [-4.16009689e-01,  2.63038172e+00, -1.34022653e+00,\n",
              "        -1.31544430e+00],\n",
              "       [-1.14301691e+00,  9.82172869e-02, -1.28338910e+00,\n",
              "        -1.31544430e+00],\n",
              "       [-1.02184904e+00,  3.28414053e-01, -1.45390138e+00,\n",
              "        -1.31544430e+00],\n",
              "       [-4.16009689e-01,  1.01900435e+00, -1.39706395e+00,\n",
              "        -1.31544430e+00],\n",
              "       [-1.14301691e+00,  1.24920112e+00, -1.34022653e+00,\n",
              "        -1.44707648e+00],\n",
              "       [-1.74885626e+00, -1.31979479e-01, -1.39706395e+00,\n",
              "        -1.31544430e+00],\n",
              "       [-9.00681170e-01,  7.88807586e-01, -1.28338910e+00,\n",
              "        -1.31544430e+00],\n",
              "       [-1.02184904e+00,  1.01900435e+00, -1.39706395e+00,\n",
              "        -1.18381211e+00],\n",
              "       [-1.62768839e+00, -1.74335684e+00, -1.39706395e+00,\n",
              "        -1.18381211e+00],\n",
              "       [-1.74885626e+00,  3.28414053e-01, -1.39706395e+00,\n",
              "        -1.31544430e+00],\n",
              "       [-1.02184904e+00,  1.01900435e+00, -1.22655167e+00,\n",
              "        -7.88915558e-01],\n",
              "       [-9.00681170e-01,  1.70959465e+00, -1.05603939e+00,\n",
              "        -1.05217993e+00],\n",
              "       [-1.26418478e+00, -1.31979479e-01, -1.34022653e+00,\n",
              "        -1.18381211e+00],\n",
              "       [-9.00681170e-01,  1.70959465e+00, -1.22655167e+00,\n",
              "        -1.31544430e+00],\n",
              "       [-1.50652052e+00,  3.28414053e-01, -1.34022653e+00,\n",
              "        -1.31544430e+00],\n",
              "       [-6.58345429e-01,  1.47939788e+00, -1.28338910e+00,\n",
              "        -1.31544430e+00],\n",
              "       [-1.02184904e+00,  5.58610819e-01, -1.34022653e+00,\n",
              "        -1.31544430e+00],\n",
              "       [ 1.40150837e+00,  3.28414053e-01,  5.35408562e-01,\n",
              "         2.64141916e-01],\n",
              "       [ 6.74501145e-01,  3.28414053e-01,  4.21733708e-01,\n",
              "         3.95774101e-01],\n",
              "       [ 1.28034050e+00,  9.82172869e-02,  6.49083415e-01,\n",
              "         3.95774101e-01],\n",
              "       [-4.16009689e-01, -1.74335684e+00,  1.37546573e-01,\n",
              "         1.32509732e-01],\n",
              "       [ 7.95669016e-01, -5.92373012e-01,  4.78571135e-01,\n",
              "         3.95774101e-01],\n",
              "       [-1.73673948e-01, -5.92373012e-01,  4.21733708e-01,\n",
              "         1.32509732e-01],\n",
              "       [ 5.53333275e-01,  5.58610819e-01,  5.35408562e-01,\n",
              "         5.27406285e-01],\n",
              "       [-1.14301691e+00, -1.51316008e+00, -2.60315415e-01,\n",
              "        -2.62386821e-01],\n",
              "       [ 9.16836886e-01, -3.62176246e-01,  4.78571135e-01,\n",
              "         1.32509732e-01],\n",
              "       [-7.79513300e-01, -8.22569778e-01,  8.07091462e-02,\n",
              "         2.64141916e-01],\n",
              "       [-1.02184904e+00, -2.43394714e+00, -1.46640561e-01,\n",
              "        -2.62386821e-01],\n",
              "       [ 6.86617933e-02, -1.31979479e-01,  2.51221427e-01,\n",
              "         3.95774101e-01],\n",
              "       [ 1.89829664e-01, -1.97355361e+00,  1.37546573e-01,\n",
              "        -2.62386821e-01],\n",
              "       [ 3.10997534e-01, -3.62176246e-01,  5.35408562e-01,\n",
              "         2.64141916e-01],\n",
              "       [-2.94841818e-01, -3.62176246e-01, -8.98031345e-02,\n",
              "         1.32509732e-01],\n",
              "       [ 1.03800476e+00,  9.82172869e-02,  3.64896281e-01,\n",
              "         2.64141916e-01],\n",
              "       [-2.94841818e-01, -1.31979479e-01,  4.21733708e-01,\n",
              "         3.95774101e-01],\n",
              "       [-5.25060772e-02, -8.22569778e-01,  1.94384000e-01,\n",
              "        -2.62386821e-01],\n",
              "       [ 4.32165405e-01, -1.97355361e+00,  4.21733708e-01,\n",
              "         3.95774101e-01],\n",
              "       [-2.94841818e-01, -1.28296331e+00,  8.07091462e-02,\n",
              "        -1.30754636e-01],\n",
              "       [ 6.86617933e-02,  3.28414053e-01,  5.92245988e-01,\n",
              "         7.90670654e-01],\n",
              "       [ 3.10997534e-01, -5.92373012e-01,  1.37546573e-01,\n",
              "         1.32509732e-01],\n",
              "       [ 5.53333275e-01, -1.28296331e+00,  6.49083415e-01,\n",
              "         3.95774101e-01],\n",
              "       [ 3.10997534e-01, -5.92373012e-01,  5.35408562e-01,\n",
              "         8.77547895e-04],\n",
              "       [ 6.74501145e-01, -3.62176246e-01,  3.08058854e-01,\n",
              "         1.32509732e-01],\n",
              "       [ 9.16836886e-01, -1.31979479e-01,  3.64896281e-01,\n",
              "         2.64141916e-01],\n",
              "       [ 1.15917263e+00, -5.92373012e-01,  5.92245988e-01,\n",
              "         2.64141916e-01],\n",
              "       [ 1.03800476e+00, -1.31979479e-01,  7.05920842e-01,\n",
              "         6.59038469e-01],\n",
              "       [ 1.89829664e-01, -3.62176246e-01,  4.21733708e-01,\n",
              "         3.95774101e-01],\n",
              "       [-1.73673948e-01, -1.05276654e+00, -1.46640561e-01,\n",
              "        -2.62386821e-01],\n",
              "       [-4.16009689e-01, -1.51316008e+00,  2.38717193e-02,\n",
              "        -1.30754636e-01],\n",
              "       [-4.16009689e-01, -1.51316008e+00, -3.29657076e-02,\n",
              "        -2.62386821e-01],\n",
              "       [-5.25060772e-02, -8.22569778e-01,  8.07091462e-02,\n",
              "         8.77547895e-04],\n",
              "       [ 1.89829664e-01, -8.22569778e-01,  7.62758269e-01,\n",
              "         5.27406285e-01],\n",
              "       [-5.37177559e-01, -1.31979479e-01,  4.21733708e-01,\n",
              "         3.95774101e-01],\n",
              "       [ 1.89829664e-01,  7.88807586e-01,  4.21733708e-01,\n",
              "         5.27406285e-01],\n",
              "       [ 1.03800476e+00,  9.82172869e-02,  5.35408562e-01,\n",
              "         3.95774101e-01],\n",
              "       [ 5.53333275e-01, -1.74335684e+00,  3.64896281e-01,\n",
              "         1.32509732e-01],\n",
              "       [-2.94841818e-01, -1.31979479e-01,  1.94384000e-01,\n",
              "         1.32509732e-01],\n",
              "       [-4.16009689e-01, -1.28296331e+00,  1.37546573e-01,\n",
              "         1.32509732e-01],\n",
              "       [-4.16009689e-01, -1.05276654e+00,  3.64896281e-01,\n",
              "         8.77547895e-04],\n",
              "       [ 3.10997534e-01, -1.31979479e-01,  4.78571135e-01,\n",
              "         2.64141916e-01],\n",
              "       [-5.25060772e-02, -1.05276654e+00,  1.37546573e-01,\n",
              "         8.77547895e-04],\n",
              "       [-1.02184904e+00, -1.74335684e+00, -2.60315415e-01,\n",
              "        -2.62386821e-01],\n",
              "       [-2.94841818e-01, -8.22569778e-01,  2.51221427e-01,\n",
              "         1.32509732e-01],\n",
              "       [-1.73673948e-01, -1.31979479e-01,  2.51221427e-01,\n",
              "         8.77547895e-04],\n",
              "       [-1.73673948e-01, -3.62176246e-01,  2.51221427e-01,\n",
              "         1.32509732e-01],\n",
              "       [ 4.32165405e-01, -3.62176246e-01,  3.08058854e-01,\n",
              "         1.32509732e-01],\n",
              "       [-9.00681170e-01, -1.28296331e+00, -4.30827696e-01,\n",
              "        -1.30754636e-01],\n",
              "       [-1.73673948e-01, -5.92373012e-01,  1.94384000e-01,\n",
              "         1.32509732e-01],\n",
              "       [ 5.53333275e-01,  5.58610819e-01,  1.27429511e+00,\n",
              "         1.71209594e+00],\n",
              "       [-5.25060772e-02, -8.22569778e-01,  7.62758269e-01,\n",
              "         9.22302838e-01],\n",
              "       [ 1.52267624e+00, -1.31979479e-01,  1.21745768e+00,\n",
              "         1.18556721e+00],\n",
              "       [ 5.53333275e-01, -3.62176246e-01,  1.04694540e+00,\n",
              "         7.90670654e-01],\n",
              "       [ 7.95669016e-01, -1.31979479e-01,  1.16062026e+00,\n",
              "         1.31719939e+00],\n",
              "       [ 2.12851559e+00, -1.31979479e-01,  1.61531967e+00,\n",
              "         1.18556721e+00],\n",
              "       [-1.14301691e+00, -1.28296331e+00,  4.21733708e-01,\n",
              "         6.59038469e-01],\n",
              "       [ 1.76501198e+00, -3.62176246e-01,  1.44480739e+00,\n",
              "         7.90670654e-01],\n",
              "       [ 1.03800476e+00, -1.28296331e+00,  1.16062026e+00,\n",
              "         7.90670654e-01],\n",
              "       [ 1.64384411e+00,  1.24920112e+00,  1.33113254e+00,\n",
              "         1.71209594e+00],\n",
              "       [ 7.95669016e-01,  3.28414053e-01,  7.62758269e-01,\n",
              "         1.05393502e+00],\n",
              "       [ 6.74501145e-01, -8.22569778e-01,  8.76433123e-01,\n",
              "         9.22302838e-01],\n",
              "       [ 1.15917263e+00, -1.31979479e-01,  9.90107977e-01,\n",
              "         1.18556721e+00],\n",
              "       [-1.73673948e-01, -1.28296331e+00,  7.05920842e-01,\n",
              "         1.05393502e+00],\n",
              "       [-5.25060772e-02, -5.92373012e-01,  7.62758269e-01,\n",
              "         1.58046376e+00],\n",
              "       [ 6.74501145e-01,  3.28414053e-01,  8.76433123e-01,\n",
              "         1.44883158e+00],\n",
              "       [ 7.95669016e-01, -1.31979479e-01,  9.90107977e-01,\n",
              "         7.90670654e-01],\n",
              "       [ 2.24968346e+00,  1.70959465e+00,  1.67215710e+00,\n",
              "         1.31719939e+00],\n",
              "       [ 2.24968346e+00, -1.05276654e+00,  1.78583195e+00,\n",
              "         1.44883158e+00],\n",
              "       [ 1.89829664e-01, -1.97355361e+00,  7.05920842e-01,\n",
              "         3.95774101e-01],\n",
              "       [ 1.28034050e+00,  3.28414053e-01,  1.10378283e+00,\n",
              "         1.44883158e+00],\n",
              "       [-2.94841818e-01, -5.92373012e-01,  6.49083415e-01,\n",
              "         1.05393502e+00],\n",
              "       [ 2.24968346e+00, -5.92373012e-01,  1.67215710e+00,\n",
              "         1.05393502e+00],\n",
              "       [ 5.53333275e-01, -8.22569778e-01,  6.49083415e-01,\n",
              "         7.90670654e-01],\n",
              "       [ 1.03800476e+00,  5.58610819e-01,  1.10378283e+00,\n",
              "         1.18556721e+00],\n",
              "       [ 1.64384411e+00,  3.28414053e-01,  1.27429511e+00,\n",
              "         7.90670654e-01],\n",
              "       [ 4.32165405e-01, -5.92373012e-01,  5.92245988e-01,\n",
              "         7.90670654e-01],\n",
              "       [ 3.10997534e-01, -1.31979479e-01,  6.49083415e-01,\n",
              "         7.90670654e-01],\n",
              "       [ 6.74501145e-01, -5.92373012e-01,  1.04694540e+00,\n",
              "         1.18556721e+00],\n",
              "       [ 1.64384411e+00, -1.31979479e-01,  1.16062026e+00,\n",
              "         5.27406285e-01],\n",
              "       [ 1.88617985e+00, -5.92373012e-01,  1.33113254e+00,\n",
              "         9.22302838e-01],\n",
              "       [ 2.49201920e+00,  1.70959465e+00,  1.50164482e+00,\n",
              "         1.05393502e+00],\n",
              "       [ 6.74501145e-01, -5.92373012e-01,  1.04694540e+00,\n",
              "         1.31719939e+00],\n",
              "       [ 5.53333275e-01, -5.92373012e-01,  7.62758269e-01,\n",
              "         3.95774101e-01],\n",
              "       [ 3.10997534e-01, -1.05276654e+00,  1.04694540e+00,\n",
              "         2.64141916e-01],\n",
              "       [ 2.24968346e+00, -1.31979479e-01,  1.33113254e+00,\n",
              "         1.44883158e+00],\n",
              "       [ 5.53333275e-01,  7.88807586e-01,  1.04694540e+00,\n",
              "         1.58046376e+00],\n",
              "       [ 6.74501145e-01,  9.82172869e-02,  9.90107977e-01,\n",
              "         7.90670654e-01],\n",
              "       [ 1.89829664e-01, -1.31979479e-01,  5.92245988e-01,\n",
              "         7.90670654e-01],\n",
              "       [ 1.28034050e+00,  9.82172869e-02,  9.33270550e-01,\n",
              "         1.18556721e+00],\n",
              "       [ 1.03800476e+00,  9.82172869e-02,  1.04694540e+00,\n",
              "         1.58046376e+00],\n",
              "       [ 1.28034050e+00,  9.82172869e-02,  7.62758269e-01,\n",
              "         1.44883158e+00],\n",
              "       [-5.25060772e-02, -8.22569778e-01,  7.62758269e-01,\n",
              "         9.22302838e-01],\n",
              "       [ 1.15917263e+00,  3.28414053e-01,  1.21745768e+00,\n",
              "         1.44883158e+00],\n",
              "       [ 1.03800476e+00,  5.58610819e-01,  1.10378283e+00,\n",
              "         1.71209594e+00],\n",
              "       [ 1.03800476e+00, -1.31979479e-01,  8.19595696e-01,\n",
              "         1.44883158e+00],\n",
              "       [ 5.53333275e-01, -1.28296331e+00,  7.05920842e-01,\n",
              "         9.22302838e-01],\n",
              "       [ 7.95669016e-01, -1.31979479e-01,  8.19595696e-01,\n",
              "         1.05393502e+00],\n",
              "       [ 4.32165405e-01,  7.88807586e-01,  9.33270550e-01,\n",
              "         1.44883158e+00],\n",
              "       [ 6.86617933e-02, -1.31979479e-01,  7.62758269e-01,\n",
              "         7.90670654e-01]])"
            ]
          },
          "metadata": {},
          "execution_count": 12
        }
      ]
    },
    {
      "cell_type": "code",
      "source": [
        "input=iris_s\n",
        "output=df['target']"
      ],
      "metadata": {
        "id": "bGukLV5DWYG3"
      },
      "execution_count": null,
      "outputs": []
    },
    {
      "cell_type": "code",
      "source": [
        "from sklearn.model_selection import train_test_split\n",
        "train_input,test_input,train_output,test_output=train_test_split(input,output)"
      ],
      "metadata": {
        "id": "0bOtfxtOWk7O"
      },
      "execution_count": null,
      "outputs": []
    },
    {
      "cell_type": "code",
      "source": [
        "from sklearn import svm\n",
        "svc=svm.SVC(kernel=\"linear\", C=1) #poly, rbf"
      ],
      "metadata": {
        "id": "DuC6Ka5dW-Uo"
      },
      "execution_count": null,
      "outputs": []
    },
    {
      "cell_type": "code",
      "source": [
        "svc.fit(train_input,train_output)"
      ],
      "metadata": {
        "colab": {
          "base_uri": "https://localhost:8080/"
        },
        "id": "8rexnaNrXlOv",
        "outputId": "7585f46f-a185-4196-df0a-640fec269b9d"
      },
      "execution_count": null,
      "outputs": [
        {
          "output_type": "execute_result",
          "data": {
            "text/plain": [
              "SVC(C=1, kernel='linear')"
            ]
          },
          "metadata": {},
          "execution_count": 16
        }
      ]
    },
    {
      "cell_type": "code",
      "source": [
        "svc.score(test_input,test_output)"
      ],
      "metadata": {
        "colab": {
          "base_uri": "https://localhost:8080/"
        },
        "id": "aUN1F4HjXuiO",
        "outputId": "544d7843-d4e2-46e1-d930-d357ec447f73"
      },
      "execution_count": null,
      "outputs": [
        {
          "output_type": "execute_result",
          "data": {
            "text/plain": [
              "0.9736842105263158"
            ]
          },
          "metadata": {},
          "execution_count": 17
        }
      ]
    },
    {
      "cell_type": "code",
      "source": [
        "svc.predict(test_input)"
      ],
      "metadata": {
        "colab": {
          "base_uri": "https://localhost:8080/"
        },
        "id": "5I25TfvUX27Y",
        "outputId": "2a3d0fe8-1eb5-4f20-e856-10c488125c7c"
      },
      "execution_count": null,
      "outputs": [
        {
          "output_type": "execute_result",
          "data": {
            "text/plain": [
              "array([2, 0, 0, 2, 1, 1, 2, 1, 2, 0, 2, 0, 2, 2, 2, 2, 1, 1, 2, 2, 1, 1,\n",
              "       0, 2, 0, 2, 2, 2, 1, 0, 0, 0, 2, 0, 1, 2, 1, 0])"
            ]
          },
          "metadata": {},
          "execution_count": 18
        }
      ]
    },
    {
      "cell_type": "code",
      "source": [
        "test_output"
      ],
      "metadata": {
        "colab": {
          "base_uri": "https://localhost:8080/"
        },
        "id": "5KgVwq7uX6EB",
        "outputId": "ee69a02a-9bd1-49f7-91e1-7ae6c8560696"
      },
      "execution_count": null,
      "outputs": [
        {
          "output_type": "execute_result",
          "data": {
            "text/plain": [
              "114    2\n",
              "15     0\n",
              "41     0\n",
              "120    2\n",
              "133    2\n",
              "57     1\n",
              "144    2\n",
              "75     1\n",
              "107    2\n",
              "31     0\n",
              "137    2\n",
              "25     0\n",
              "138    2\n",
              "111    2\n",
              "106    2\n",
              "117    2\n",
              "90     1\n",
              "73     1\n",
              "102    2\n",
              "141    2\n",
              "92     1\n",
              "62     1\n",
              "4      0\n",
              "123    2\n",
              "16     0\n",
              "129    2\n",
              "108    2\n",
              "143    2\n",
              "78     1\n",
              "35     0\n",
              "28     0\n",
              "48     0\n",
              "149    2\n",
              "43     0\n",
              "76     1\n",
              "136    2\n",
              "68     1\n",
              "10     0\n",
              "Name: target, dtype: int64"
            ]
          },
          "metadata": {},
          "execution_count": 19
        }
      ]
    },
    {
      "cell_type": "code",
      "source": [
        "!pip install pandas_datareader\n",
        "!pip install yfinance"
      ],
      "metadata": {
        "colab": {
          "base_uri": "https://localhost:8080/"
        },
        "id": "EhAoUJAlZ8BM",
        "outputId": "0d0948dd-ebd4-41c8-fe7e-063f0c36520a"
      },
      "execution_count": 8,
      "outputs": [
        {
          "output_type": "stream",
          "name": "stdout",
          "text": [
            "Requirement already satisfied: pandas_datareader in /usr/local/lib/python3.7/dist-packages (0.9.0)\n",
            "Requirement already satisfied: pandas>=0.23 in /usr/local/lib/python3.7/dist-packages (from pandas_datareader) (1.3.5)\n",
            "Requirement already satisfied: requests>=2.19.0 in /usr/local/lib/python3.7/dist-packages (from pandas_datareader) (2.27.1)\n",
            "Requirement already satisfied: lxml in /usr/local/lib/python3.7/dist-packages (from pandas_datareader) (4.8.0)\n",
            "Requirement already satisfied: pytz>=2017.3 in /usr/local/lib/python3.7/dist-packages (from pandas>=0.23->pandas_datareader) (2018.9)\n",
            "Requirement already satisfied: numpy>=1.17.3 in /usr/local/lib/python3.7/dist-packages (from pandas>=0.23->pandas_datareader) (1.21.5)\n",
            "Requirement already satisfied: python-dateutil>=2.7.3 in /usr/local/lib/python3.7/dist-packages (from pandas>=0.23->pandas_datareader) (2.8.2)\n",
            "Requirement already satisfied: six>=1.5 in /usr/local/lib/python3.7/dist-packages (from python-dateutil>=2.7.3->pandas>=0.23->pandas_datareader) (1.15.0)\n",
            "Requirement already satisfied: charset-normalizer~=2.0.0 in /usr/local/lib/python3.7/dist-packages (from requests>=2.19.0->pandas_datareader) (2.0.12)\n",
            "Requirement already satisfied: idna<4,>=2.5 in /usr/local/lib/python3.7/dist-packages (from requests>=2.19.0->pandas_datareader) (2.10)\n",
            "Requirement already satisfied: urllib3<1.27,>=1.21.1 in /usr/local/lib/python3.7/dist-packages (from requests>=2.19.0->pandas_datareader) (1.24.3)\n",
            "Requirement already satisfied: certifi>=2017.4.17 in /usr/local/lib/python3.7/dist-packages (from requests>=2.19.0->pandas_datareader) (2021.10.8)\n",
            "Requirement already satisfied: yfinance in /usr/local/lib/python3.7/dist-packages (0.1.70)\n",
            "Requirement already satisfied: numpy>=1.15 in /usr/local/lib/python3.7/dist-packages (from yfinance) (1.21.5)\n",
            "Requirement already satisfied: lxml>=4.5.1 in /usr/local/lib/python3.7/dist-packages (from yfinance) (4.8.0)\n",
            "Requirement already satisfied: requests>=2.26 in /usr/local/lib/python3.7/dist-packages (from yfinance) (2.27.1)\n",
            "Requirement already satisfied: pandas>=0.24.0 in /usr/local/lib/python3.7/dist-packages (from yfinance) (1.3.5)\n",
            "Requirement already satisfied: multitasking>=0.0.7 in /usr/local/lib/python3.7/dist-packages (from yfinance) (0.0.10)\n",
            "Requirement already satisfied: python-dateutil>=2.7.3 in /usr/local/lib/python3.7/dist-packages (from pandas>=0.24.0->yfinance) (2.8.2)\n",
            "Requirement already satisfied: pytz>=2017.3 in /usr/local/lib/python3.7/dist-packages (from pandas>=0.24.0->yfinance) (2018.9)\n",
            "Requirement already satisfied: six>=1.5 in /usr/local/lib/python3.7/dist-packages (from python-dateutil>=2.7.3->pandas>=0.24.0->yfinance) (1.15.0)\n",
            "Requirement already satisfied: charset-normalizer~=2.0.0 in /usr/local/lib/python3.7/dist-packages (from requests>=2.26->yfinance) (2.0.12)\n",
            "Requirement already satisfied: idna<4,>=2.5 in /usr/local/lib/python3.7/dist-packages (from requests>=2.26->yfinance) (2.10)\n",
            "Requirement already satisfied: urllib3<1.27,>=1.21.1 in /usr/local/lib/python3.7/dist-packages (from requests>=2.26->yfinance) (1.24.3)\n",
            "Requirement already satisfied: certifi>=2017.4.17 in /usr/local/lib/python3.7/dist-packages (from requests>=2.26->yfinance) (2021.10.8)\n"
          ]
        }
      ]
    },
    {
      "cell_type": "code",
      "source": [
        "import yfinance as yf\n",
        "from pandas_datareader import data as pdr\n",
        "yf.pdr_override()"
      ],
      "metadata": {
        "id": "T7M89G_zb5rF"
      },
      "execution_count": 9,
      "outputs": []
    },
    {
      "cell_type": "code",
      "source": [
        "data = pdr.get_data_yahoo('FB', start=\"2021-03-03\", end=\"2022-03-03\")\n",
        "data.head()"
      ],
      "metadata": {
        "colab": {
          "base_uri": "https://localhost:8080/",
          "height": 256
        },
        "id": "tphPjhIfcgXF",
        "outputId": "efcf5ad7-cf70-4fd3-c900-867e2df4bf63"
      },
      "execution_count": 34,
      "outputs": [
        {
          "output_type": "stream",
          "name": "stdout",
          "text": [
            "\r[*********************100%***********************]  1 of 1 completed\n"
          ]
        },
        {
          "output_type": "execute_result",
          "data": {
            "text/plain": [
              "                  Open        High         Low       Close   Adj Close  \\\n",
              "Date                                                                     \n",
              "2021-03-03  260.290009  260.989990  255.100006  255.410004  255.410004   \n",
              "2021-03-04  256.470001  266.489990  253.500000  257.640015  257.640015   \n",
              "2021-03-05  260.670013  265.450012  255.610001  264.279999  264.279999   \n",
              "2021-03-08  265.549988  265.579987  255.050003  255.309998  255.309998   \n",
              "2021-03-09  261.179993  268.529999  259.809998  265.739990  265.739990   \n",
              "\n",
              "              Volume  \n",
              "Date                  \n",
              "2021-03-03  15513500  \n",
              "2021-03-04  31626500  \n",
              "2021-03-05  26820100  \n",
              "2021-03-08  18391800  \n",
              "2021-03-09  22039700  "
            ],
            "text/html": [
              "\n",
              "  <div id=\"df-ecebacac-7450-4ee2-8f24-ef8e1bca6ad1\">\n",
              "    <div class=\"colab-df-container\">\n",
              "      <div>\n",
              "<style scoped>\n",
              "    .dataframe tbody tr th:only-of-type {\n",
              "        vertical-align: middle;\n",
              "    }\n",
              "\n",
              "    .dataframe tbody tr th {\n",
              "        vertical-align: top;\n",
              "    }\n",
              "\n",
              "    .dataframe thead th {\n",
              "        text-align: right;\n",
              "    }\n",
              "</style>\n",
              "<table border=\"1\" class=\"dataframe\">\n",
              "  <thead>\n",
              "    <tr style=\"text-align: right;\">\n",
              "      <th></th>\n",
              "      <th>Open</th>\n",
              "      <th>High</th>\n",
              "      <th>Low</th>\n",
              "      <th>Close</th>\n",
              "      <th>Adj Close</th>\n",
              "      <th>Volume</th>\n",
              "    </tr>\n",
              "    <tr>\n",
              "      <th>Date</th>\n",
              "      <th></th>\n",
              "      <th></th>\n",
              "      <th></th>\n",
              "      <th></th>\n",
              "      <th></th>\n",
              "      <th></th>\n",
              "    </tr>\n",
              "  </thead>\n",
              "  <tbody>\n",
              "    <tr>\n",
              "      <th>2021-03-03</th>\n",
              "      <td>260.290009</td>\n",
              "      <td>260.989990</td>\n",
              "      <td>255.100006</td>\n",
              "      <td>255.410004</td>\n",
              "      <td>255.410004</td>\n",
              "      <td>15513500</td>\n",
              "    </tr>\n",
              "    <tr>\n",
              "      <th>2021-03-04</th>\n",
              "      <td>256.470001</td>\n",
              "      <td>266.489990</td>\n",
              "      <td>253.500000</td>\n",
              "      <td>257.640015</td>\n",
              "      <td>257.640015</td>\n",
              "      <td>31626500</td>\n",
              "    </tr>\n",
              "    <tr>\n",
              "      <th>2021-03-05</th>\n",
              "      <td>260.670013</td>\n",
              "      <td>265.450012</td>\n",
              "      <td>255.610001</td>\n",
              "      <td>264.279999</td>\n",
              "      <td>264.279999</td>\n",
              "      <td>26820100</td>\n",
              "    </tr>\n",
              "    <tr>\n",
              "      <th>2021-03-08</th>\n",
              "      <td>265.549988</td>\n",
              "      <td>265.579987</td>\n",
              "      <td>255.050003</td>\n",
              "      <td>255.309998</td>\n",
              "      <td>255.309998</td>\n",
              "      <td>18391800</td>\n",
              "    </tr>\n",
              "    <tr>\n",
              "      <th>2021-03-09</th>\n",
              "      <td>261.179993</td>\n",
              "      <td>268.529999</td>\n",
              "      <td>259.809998</td>\n",
              "      <td>265.739990</td>\n",
              "      <td>265.739990</td>\n",
              "      <td>22039700</td>\n",
              "    </tr>\n",
              "  </tbody>\n",
              "</table>\n",
              "</div>\n",
              "      <button class=\"colab-df-convert\" onclick=\"convertToInteractive('df-ecebacac-7450-4ee2-8f24-ef8e1bca6ad1')\"\n",
              "              title=\"Convert this dataframe to an interactive table.\"\n",
              "              style=\"display:none;\">\n",
              "        \n",
              "  <svg xmlns=\"http://www.w3.org/2000/svg\" height=\"24px\"viewBox=\"0 0 24 24\"\n",
              "       width=\"24px\">\n",
              "    <path d=\"M0 0h24v24H0V0z\" fill=\"none\"/>\n",
              "    <path d=\"M18.56 5.44l.94 2.06.94-2.06 2.06-.94-2.06-.94-.94-2.06-.94 2.06-2.06.94zm-11 1L8.5 8.5l.94-2.06 2.06-.94-2.06-.94L8.5 2.5l-.94 2.06-2.06.94zm10 10l.94 2.06.94-2.06 2.06-.94-2.06-.94-.94-2.06-.94 2.06-2.06.94z\"/><path d=\"M17.41 7.96l-1.37-1.37c-.4-.4-.92-.59-1.43-.59-.52 0-1.04.2-1.43.59L10.3 9.45l-7.72 7.72c-.78.78-.78 2.05 0 2.83L4 21.41c.39.39.9.59 1.41.59.51 0 1.02-.2 1.41-.59l7.78-7.78 2.81-2.81c.8-.78.8-2.07 0-2.86zM5.41 20L4 18.59l7.72-7.72 1.47 1.35L5.41 20z\"/>\n",
              "  </svg>\n",
              "      </button>\n",
              "      \n",
              "  <style>\n",
              "    .colab-df-container {\n",
              "      display:flex;\n",
              "      flex-wrap:wrap;\n",
              "      gap: 12px;\n",
              "    }\n",
              "\n",
              "    .colab-df-convert {\n",
              "      background-color: #E8F0FE;\n",
              "      border: none;\n",
              "      border-radius: 50%;\n",
              "      cursor: pointer;\n",
              "      display: none;\n",
              "      fill: #1967D2;\n",
              "      height: 32px;\n",
              "      padding: 0 0 0 0;\n",
              "      width: 32px;\n",
              "    }\n",
              "\n",
              "    .colab-df-convert:hover {\n",
              "      background-color: #E2EBFA;\n",
              "      box-shadow: 0px 1px 2px rgba(60, 64, 67, 0.3), 0px 1px 3px 1px rgba(60, 64, 67, 0.15);\n",
              "      fill: #174EA6;\n",
              "    }\n",
              "\n",
              "    [theme=dark] .colab-df-convert {\n",
              "      background-color: #3B4455;\n",
              "      fill: #D2E3FC;\n",
              "    }\n",
              "\n",
              "    [theme=dark] .colab-df-convert:hover {\n",
              "      background-color: #434B5C;\n",
              "      box-shadow: 0px 1px 3px 1px rgba(0, 0, 0, 0.15);\n",
              "      filter: drop-shadow(0px 1px 2px rgba(0, 0, 0, 0.3));\n",
              "      fill: #FFFFFF;\n",
              "    }\n",
              "  </style>\n",
              "\n",
              "      <script>\n",
              "        const buttonEl =\n",
              "          document.querySelector('#df-ecebacac-7450-4ee2-8f24-ef8e1bca6ad1 button.colab-df-convert');\n",
              "        buttonEl.style.display =\n",
              "          google.colab.kernel.accessAllowed ? 'block' : 'none';\n",
              "\n",
              "        async function convertToInteractive(key) {\n",
              "          const element = document.querySelector('#df-ecebacac-7450-4ee2-8f24-ef8e1bca6ad1');\n",
              "          const dataTable =\n",
              "            await google.colab.kernel.invokeFunction('convertToInteractive',\n",
              "                                                     [key], {});\n",
              "          if (!dataTable) return;\n",
              "\n",
              "          const docLinkHtml = 'Like what you see? Visit the ' +\n",
              "            '<a target=\"_blank\" href=https://colab.research.google.com/notebooks/data_table.ipynb>data table notebook</a>'\n",
              "            + ' to learn more about interactive tables.';\n",
              "          element.innerHTML = '';\n",
              "          dataTable['output_type'] = 'display_data';\n",
              "          await google.colab.output.renderOutput(dataTable, element);\n",
              "          const docLink = document.createElement('div');\n",
              "          docLink.innerHTML = docLinkHtml;\n",
              "          element.appendChild(docLink);\n",
              "        }\n",
              "      </script>\n",
              "    </div>\n",
              "  </div>\n",
              "  "
            ]
          },
          "metadata": {},
          "execution_count": 34
        }
      ]
    },
    {
      "cell_type": "code",
      "source": [
        "open = np.array(data['Open'])\n",
        "high = np.array(data['High'])\n",
        "low = np.array(data['Low'])\n",
        "close = np.array(data['Close'])\n",
        "adj = np.array(data['Adj Close'])"
      ],
      "metadata": {
        "id": "7PIyzS1LdZwE"
      },
      "execution_count": 35,
      "outputs": []
    },
    {
      "cell_type": "code",
      "source": [
        "X = np.column_stack((open, high, low, close))\n",
        "y = adj"
      ],
      "metadata": {
        "id": "2gn5lmy-dZwF"
      },
      "execution_count": 36,
      "outputs": []
    },
    {
      "cell_type": "code",
      "source": [
        "from sklearn.preprocessing import StandardScaler\n",
        "ss = StandardScaler()\n",
        "X_s = ss.fit_transform(X)"
      ],
      "metadata": {
        "id": "2C6z4ArudjHM"
      },
      "execution_count": 37,
      "outputs": []
    },
    {
      "cell_type": "code",
      "source": [
        "from sklearn.model_selection import train_test_split\n",
        "X_train, X_test, y_train, y_test = train_test_split(X_s, y)"
      ],
      "metadata": {
        "id": "gSzKikxAe11Y"
      },
      "execution_count": 38,
      "outputs": []
    },
    {
      "cell_type": "code",
      "source": [
        "from keras.models import Sequential\n",
        "from keras.layers import Dense, SimpleRNN"
      ],
      "metadata": {
        "id": "ZHbj0Llye3iY"
      },
      "execution_count": 30,
      "outputs": []
    },
    {
      "cell_type": "code",
      "source": [
        "dnn = Sequential()\n",
        "dnn.add(Dense(150, activation='relu'))\n",
        "dnn.add(Dense(200, activation='relu'))\n",
        "dnn.add(Dense(150, activation='relu'))\n",
        "dnn.add(Dense(1))\n",
        "dnn.compile(loss='mean_squared_error',metrics='mean_absolute_error', optimizer='adam')"
      ],
      "metadata": {
        "id": "09ydzuiXe6jE"
      },
      "execution_count": 18,
      "outputs": []
    },
    {
      "cell_type": "code",
      "source": [
        "# RNN 돌릴때는 np.stack할 때 순서가 중요, 왜냐면 서로서로 영향을 주기때문에\n",
        "rnn = Sequential()\n",
        "rnn.add(SimpleRNN(200 ,input_shape=(4, 1))) # open, high, low, close, volume, \n",
        "rnn.add(Dense(150, activation='relu'))\n",
        "rnn.add(Dense(200, activation='relu'))\n",
        "rnn.add(Dense(150, activation='relu'))\n",
        "rnn.add(Dense(1))\n",
        "rnn.compile(loss='mean_squared_error',metrics='mean_absolute_error', optimizer='adam')"
      ],
      "metadata": {
        "id": "Mu-nEMxlooKm"
      },
      "execution_count": 39,
      "outputs": []
    },
    {
      "cell_type": "code",
      "source": [
        "rnn.fit(X_train, y_train, epochs=100, batch_size=50)"
      ],
      "metadata": {
        "colab": {
          "base_uri": "https://localhost:8080/"
        },
        "id": "DewqWFL4hwSJ",
        "outputId": "2ab0d26a-d6b4-40b2-da04-eb2065d9ee5a"
      },
      "execution_count": 40,
      "outputs": [
        {
          "output_type": "stream",
          "name": "stdout",
          "text": [
            "Epoch 1/100\n",
            "4/4 [==============================] - 2s 11ms/step - loss: 104339.4062 - mean_absolute_error: 320.4994\n",
            "Epoch 2/100\n",
            "4/4 [==============================] - 0s 9ms/step - loss: 103274.2734 - mean_absolute_error: 318.8174\n",
            "Epoch 3/100\n",
            "4/4 [==============================] - 0s 12ms/step - loss: 99756.4375 - mean_absolute_error: 313.1530\n",
            "Epoch 4/100\n",
            "4/4 [==============================] - 0s 13ms/step - loss: 90670.6953 - mean_absolute_error: 297.9237\n",
            "Epoch 5/100\n",
            "4/4 [==============================] - 0s 11ms/step - loss: 72075.2734 - mean_absolute_error: 264.1007\n",
            "Epoch 6/100\n",
            "4/4 [==============================] - 0s 13ms/step - loss: 43584.8828 - mean_absolute_error: 201.0619\n",
            "Epoch 7/100\n",
            "4/4 [==============================] - 0s 11ms/step - loss: 13519.3701 - mean_absolute_error: 104.0164\n",
            "Epoch 8/100\n",
            "4/4 [==============================] - 0s 9ms/step - loss: 6016.9194 - mean_absolute_error: 62.5255\n",
            "Epoch 9/100\n",
            "4/4 [==============================] - 0s 11ms/step - loss: 9787.2598 - mean_absolute_error: 92.0387\n",
            "Epoch 10/100\n",
            "4/4 [==============================] - 0s 10ms/step - loss: 3491.3872 - mean_absolute_error: 50.0875\n",
            "Epoch 11/100\n",
            "4/4 [==============================] - 0s 11ms/step - loss: 2103.5269 - mean_absolute_error: 33.7104\n",
            "Epoch 12/100\n",
            "4/4 [==============================] - 0s 9ms/step - loss: 3386.7322 - mean_absolute_error: 49.8151\n",
            "Epoch 13/100\n",
            "4/4 [==============================] - 0s 9ms/step - loss: 2183.1069 - mean_absolute_error: 40.1266\n",
            "Epoch 14/100\n",
            "4/4 [==============================] - 0s 10ms/step - loss: 885.4207 - mean_absolute_error: 22.3129\n",
            "Epoch 15/100\n",
            "4/4 [==============================] - 0s 10ms/step - loss: 1324.5422 - mean_absolute_error: 26.8906\n",
            "Epoch 16/100\n",
            "4/4 [==============================] - 0s 10ms/step - loss: 1181.3868 - mean_absolute_error: 25.4189\n",
            "Epoch 17/100\n",
            "4/4 [==============================] - 0s 9ms/step - loss: 754.1420 - mean_absolute_error: 20.7167\n",
            "Epoch 18/100\n",
            "4/4 [==============================] - 0s 9ms/step - loss: 855.8748 - mean_absolute_error: 22.4430\n",
            "Epoch 19/100\n",
            "4/4 [==============================] - 0s 9ms/step - loss: 877.8123 - mean_absolute_error: 22.9040\n",
            "Epoch 20/100\n",
            "4/4 [==============================] - 0s 10ms/step - loss: 750.8998 - mean_absolute_error: 21.7237\n",
            "Epoch 21/100\n",
            "4/4 [==============================] - 0s 16ms/step - loss: 739.1047 - mean_absolute_error: 21.5572\n",
            "Epoch 22/100\n",
            "4/4 [==============================] - 0s 9ms/step - loss: 745.7045 - mean_absolute_error: 20.7655\n",
            "Epoch 23/100\n",
            "4/4 [==============================] - 0s 13ms/step - loss: 726.2925 - mean_absolute_error: 20.0206\n",
            "Epoch 24/100\n",
            "4/4 [==============================] - 0s 11ms/step - loss: 721.6089 - mean_absolute_error: 20.2380\n",
            "Epoch 25/100\n",
            "4/4 [==============================] - 0s 11ms/step - loss: 706.4910 - mean_absolute_error: 20.3979\n",
            "Epoch 26/100\n",
            "4/4 [==============================] - 0s 10ms/step - loss: 701.8041 - mean_absolute_error: 20.8105\n",
            "Epoch 27/100\n",
            "4/4 [==============================] - 0s 10ms/step - loss: 704.0518 - mean_absolute_error: 20.8783\n",
            "Epoch 28/100\n",
            "4/4 [==============================] - 0s 10ms/step - loss: 699.7537 - mean_absolute_error: 20.5967\n",
            "Epoch 29/100\n",
            "4/4 [==============================] - 0s 12ms/step - loss: 695.7036 - mean_absolute_error: 20.3313\n",
            "Epoch 30/100\n",
            "4/4 [==============================] - 0s 11ms/step - loss: 696.6275 - mean_absolute_error: 20.2289\n",
            "Epoch 31/100\n",
            "4/4 [==============================] - 0s 11ms/step - loss: 697.5849 - mean_absolute_error: 20.2730\n",
            "Epoch 32/100\n",
            "4/4 [==============================] - 0s 12ms/step - loss: 696.3826 - mean_absolute_error: 20.2337\n",
            "Epoch 33/100\n",
            "4/4 [==============================] - 0s 9ms/step - loss: 693.3543 - mean_absolute_error: 20.2810\n",
            "Epoch 34/100\n",
            "4/4 [==============================] - 0s 10ms/step - loss: 688.5020 - mean_absolute_error: 20.3879\n",
            "Epoch 35/100\n",
            "4/4 [==============================] - 0s 10ms/step - loss: 689.7512 - mean_absolute_error: 20.4152\n",
            "Epoch 36/100\n",
            "4/4 [==============================] - 0s 10ms/step - loss: 687.9047 - mean_absolute_error: 20.3723\n",
            "Epoch 37/100\n",
            "4/4 [==============================] - 0s 11ms/step - loss: 687.4384 - mean_absolute_error: 20.3502\n",
            "Epoch 38/100\n",
            "4/4 [==============================] - 0s 10ms/step - loss: 687.4419 - mean_absolute_error: 20.3276\n",
            "Epoch 39/100\n",
            "4/4 [==============================] - 0s 13ms/step - loss: 683.9319 - mean_absolute_error: 20.2224\n",
            "Epoch 40/100\n",
            "4/4 [==============================] - 0s 11ms/step - loss: 694.5958 - mean_absolute_error: 20.1235\n",
            "Epoch 41/100\n",
            "4/4 [==============================] - 0s 10ms/step - loss: 692.0372 - mean_absolute_error: 20.0810\n",
            "Epoch 42/100\n",
            "4/4 [==============================] - 0s 11ms/step - loss: 685.0104 - mean_absolute_error: 20.3303\n",
            "Epoch 43/100\n",
            "4/4 [==============================] - 0s 11ms/step - loss: 686.7915 - mean_absolute_error: 20.4182\n",
            "Epoch 44/100\n",
            "4/4 [==============================] - 0s 11ms/step - loss: 682.1277 - mean_absolute_error: 20.3137\n",
            "Epoch 45/100\n",
            "4/4 [==============================] - 0s 14ms/step - loss: 680.2430 - mean_absolute_error: 20.2277\n",
            "Epoch 46/100\n",
            "4/4 [==============================] - 0s 11ms/step - loss: 681.7790 - mean_absolute_error: 20.3519\n",
            "Epoch 47/100\n",
            "4/4 [==============================] - 0s 8ms/step - loss: 683.7101 - mean_absolute_error: 20.3144\n",
            "Epoch 48/100\n",
            "4/4 [==============================] - 0s 8ms/step - loss: 681.0239 - mean_absolute_error: 20.1264\n",
            "Epoch 49/100\n",
            "4/4 [==============================] - 0s 7ms/step - loss: 679.1135 - mean_absolute_error: 20.0859\n",
            "Epoch 50/100\n",
            "4/4 [==============================] - 0s 7ms/step - loss: 682.6740 - mean_absolute_error: 20.3529\n",
            "Epoch 51/100\n",
            "4/4 [==============================] - 0s 7ms/step - loss: 683.3909 - mean_absolute_error: 20.4300\n",
            "Epoch 52/100\n",
            "4/4 [==============================] - 0s 7ms/step - loss: 689.2278 - mean_absolute_error: 20.1981\n",
            "Epoch 53/100\n",
            "4/4 [==============================] - 0s 9ms/step - loss: 677.9303 - mean_absolute_error: 19.9258\n",
            "Epoch 54/100\n",
            "4/4 [==============================] - 0s 7ms/step - loss: 678.5774 - mean_absolute_error: 20.3021\n",
            "Epoch 55/100\n",
            "4/4 [==============================] - 0s 9ms/step - loss: 676.5015 - mean_absolute_error: 20.3368\n",
            "Epoch 56/100\n",
            "4/4 [==============================] - 0s 8ms/step - loss: 690.2635 - mean_absolute_error: 20.1471\n",
            "Epoch 57/100\n",
            "4/4 [==============================] - 0s 7ms/step - loss: 675.3835 - mean_absolute_error: 20.0308\n",
            "Epoch 58/100\n",
            "4/4 [==============================] - 0s 7ms/step - loss: 676.8691 - mean_absolute_error: 20.2992\n",
            "Epoch 59/100\n",
            "4/4 [==============================] - 0s 7ms/step - loss: 677.7870 - mean_absolute_error: 20.3492\n",
            "Epoch 60/100\n",
            "4/4 [==============================] - 0s 7ms/step - loss: 683.4688 - mean_absolute_error: 20.3174\n",
            "Epoch 61/100\n",
            "4/4 [==============================] - 0s 7ms/step - loss: 680.5620 - mean_absolute_error: 20.0833\n",
            "Epoch 62/100\n",
            "4/4 [==============================] - 0s 8ms/step - loss: 674.4350 - mean_absolute_error: 20.2187\n",
            "Epoch 63/100\n",
            "4/4 [==============================] - 0s 9ms/step - loss: 688.3317 - mean_absolute_error: 20.4782\n",
            "Epoch 64/100\n",
            "4/4 [==============================] - 0s 7ms/step - loss: 670.1445 - mean_absolute_error: 20.2798\n",
            "Epoch 65/100\n",
            "4/4 [==============================] - 0s 8ms/step - loss: 680.6802 - mean_absolute_error: 20.0547\n",
            "Epoch 66/100\n",
            "4/4 [==============================] - 0s 7ms/step - loss: 688.5216 - mean_absolute_error: 19.7023\n",
            "Epoch 67/100\n",
            "4/4 [==============================] - 0s 7ms/step - loss: 675.1285 - mean_absolute_error: 19.9679\n",
            "Epoch 68/100\n",
            "4/4 [==============================] - 0s 8ms/step - loss: 683.7043 - mean_absolute_error: 20.6317\n",
            "Epoch 69/100\n",
            "4/4 [==============================] - 0s 8ms/step - loss: 678.2410 - mean_absolute_error: 20.6574\n",
            "Epoch 70/100\n",
            "4/4 [==============================] - 0s 8ms/step - loss: 662.8298 - mean_absolute_error: 20.2190\n",
            "Epoch 71/100\n",
            "4/4 [==============================] - 0s 9ms/step - loss: 670.9492 - mean_absolute_error: 19.7269\n",
            "Epoch 72/100\n",
            "4/4 [==============================] - 0s 7ms/step - loss: 673.9208 - mean_absolute_error: 19.6570\n",
            "Epoch 73/100\n",
            "4/4 [==============================] - 0s 7ms/step - loss: 664.3270 - mean_absolute_error: 19.8678\n",
            "Epoch 74/100\n",
            "4/4 [==============================] - 0s 8ms/step - loss: 669.3224 - mean_absolute_error: 20.2207\n",
            "Epoch 75/100\n",
            "4/4 [==============================] - 0s 7ms/step - loss: 666.1031 - mean_absolute_error: 20.2225\n",
            "Epoch 76/100\n",
            "4/4 [==============================] - 0s 7ms/step - loss: 661.7722 - mean_absolute_error: 19.9364\n",
            "Epoch 77/100\n",
            "4/4 [==============================] - 0s 7ms/step - loss: 661.3004 - mean_absolute_error: 19.5372\n",
            "Epoch 78/100\n",
            "4/4 [==============================] - 0s 8ms/step - loss: 660.2547 - mean_absolute_error: 19.5971\n",
            "Epoch 79/100\n",
            "4/4 [==============================] - 0s 7ms/step - loss: 662.3792 - mean_absolute_error: 20.2419\n",
            "Epoch 80/100\n",
            "4/4 [==============================] - 0s 10ms/step - loss: 666.0701 - mean_absolute_error: 20.5527\n",
            "Epoch 81/100\n",
            "4/4 [==============================] - 0s 8ms/step - loss: 660.3900 - mean_absolute_error: 19.5699\n",
            "Epoch 82/100\n",
            "4/4 [==============================] - 0s 8ms/step - loss: 653.2754 - mean_absolute_error: 19.2092\n",
            "Epoch 83/100\n",
            "4/4 [==============================] - 0s 9ms/step - loss: 646.4105 - mean_absolute_error: 19.7369\n",
            "Epoch 84/100\n",
            "4/4 [==============================] - 0s 7ms/step - loss: 640.6517 - mean_absolute_error: 19.8750\n",
            "Epoch 85/100\n",
            "4/4 [==============================] - 0s 7ms/step - loss: 632.1682 - mean_absolute_error: 19.2580\n",
            "Epoch 86/100\n",
            "4/4 [==============================] - 0s 7ms/step - loss: 632.1909 - mean_absolute_error: 19.1444\n",
            "Epoch 87/100\n",
            "4/4 [==============================] - 0s 8ms/step - loss: 637.9697 - mean_absolute_error: 19.6492\n",
            "Epoch 88/100\n",
            "4/4 [==============================] - 0s 7ms/step - loss: 617.5294 - mean_absolute_error: 19.5206\n",
            "Epoch 89/100\n",
            "4/4 [==============================] - 0s 11ms/step - loss: 612.3765 - mean_absolute_error: 18.9667\n",
            "Epoch 90/100\n",
            "4/4 [==============================] - 0s 7ms/step - loss: 616.4641 - mean_absolute_error: 18.5794\n",
            "Epoch 91/100\n",
            "4/4 [==============================] - 0s 7ms/step - loss: 595.2527 - mean_absolute_error: 18.8012\n",
            "Epoch 92/100\n",
            "4/4 [==============================] - 0s 8ms/step - loss: 617.6093 - mean_absolute_error: 19.5026\n",
            "Epoch 93/100\n",
            "4/4 [==============================] - 0s 7ms/step - loss: 600.9663 - mean_absolute_error: 18.7463\n",
            "Epoch 94/100\n",
            "4/4 [==============================] - 0s 7ms/step - loss: 590.6251 - mean_absolute_error: 18.0007\n",
            "Epoch 95/100\n",
            "4/4 [==============================] - 0s 7ms/step - loss: 589.6905 - mean_absolute_error: 18.8185\n",
            "Epoch 96/100\n",
            "4/4 [==============================] - 0s 7ms/step - loss: 575.4188 - mean_absolute_error: 18.7330\n",
            "Epoch 97/100\n",
            "4/4 [==============================] - 0s 7ms/step - loss: 558.5134 - mean_absolute_error: 17.7831\n",
            "Epoch 98/100\n",
            "4/4 [==============================] - 0s 8ms/step - loss: 543.0038 - mean_absolute_error: 17.7560\n",
            "Epoch 99/100\n",
            "4/4 [==============================] - 0s 8ms/step - loss: 538.1161 - mean_absolute_error: 18.1188\n",
            "Epoch 100/100\n",
            "4/4 [==============================] - 0s 7ms/step - loss: 528.2424 - mean_absolute_error: 17.5330\n"
          ]
        },
        {
          "output_type": "execute_result",
          "data": {
            "text/plain": [
              "<keras.callbacks.History at 0x7ff849d25650>"
            ]
          },
          "metadata": {},
          "execution_count": 40
        }
      ]
    },
    {
      "cell_type": "code",
      "source": [
        "plt.plot(y_test, 'g--')\n",
        "plt.plot(dnn.predict(X_test), 'r');"
      ],
      "metadata": {
        "colab": {
          "base_uri": "https://localhost:8080/",
          "height": 266
        },
        "id": "yKe_uTf8jQXZ",
        "outputId": "47d4f7f5-f850-4d1c-cea2-57c600c34002"
      },
      "execution_count": 33,
      "outputs": [
        {
          "output_type": "display_data",
          "data": {
            "text/plain": [
              "<Figure size 432x288 with 1 Axes>"
            ],
            "image/png": "[encoded data removed]"
          },
          "metadata": {
            "needs_background": "light"
          }
        }
      ]
    },
    {
      "cell_type": "code",
      "source": [
        "rnn.predict(X_test).T"
      ],
      "metadata": {
        "colab": {
          "base_uri": "https://localhost:8080/"
        },
        "id": "D1vJAoMHw1Dl",
        "outputId": "757cd55b-018f-4b3b-b4fe-0008fc8bf510"
      },
      "execution_count": 49,
      "outputs": [
        {
          "output_type": "execute_result",
          "data": {
            "text/plain": [
              "array([[343.12888, 339.63925, 284.59882, 344.38342, 345.10132, 282.563  ,\n",
              "        345.486  , 341.81702, 342.28644, 340.829  , 345.12775, 344.88885,\n",
              "        341.31818, 342.921  , 345.55118, 283.20978, 272.0703 , 276.24384,\n",
              "        342.13306, 282.7804 , 282.9325 , 340.56155, 344.85156, 344.60413,\n",
              "        273.99588, 343.6326 , 343.00113, 284.9748 , 342.87918, 271.96988,\n",
              "        343.69504, 344.03156, 340.839  , 340.80502, 339.5602 , 345.61594,\n",
              "        344.0868 , 275.3802 , 284.21613, 285.7395 , 344.6107 , 343.4306 ,\n",
              "        342.94476, 339.99374, 274.14264, 340.50638, 284.86963, 340.8203 ,\n",
              "        342.8125 , 345.44806, 345.13596, 339.8364 , 345.319  , 277.76804,\n",
              "        279.30597, 285.4099 , 341.2491 , 343.17398, 340.92834, 342.383  ,\n",
              "        342.53455, 333.35327, 272.16623, 342.55798]], dtype=float32)"
            ]
          },
          "metadata": {},
          "execution_count": 49
        }
      ]
    },
    {
      "cell_type": "code",
      "source": [
        "np.corrcoef(rnn.predict(X_test).T, np.array(y_test))"
      ],
      "metadata": {
        "colab": {
          "base_uri": "https://localhost:8080/"
        },
        "id": "jwDqlpEJwnNc",
        "outputId": "f57d217b-3362-411e-e0cc-7ac2baf9f4bb"
      },
      "execution_count": 51,
      "outputs": [
        {
          "output_type": "execute_result",
          "data": {
            "text/plain": [
              "array([[1.        , 0.81694149],\n",
              "       [0.81694149, 1.        ]])"
            ]
          },
          "metadata": {},
          "execution_count": 51
        }
      ]
    },
    {
      "cell_type": "code",
      "source": [
        ""
      ],
      "metadata": {
        "id": "Ic5zG7Wjwvye"
      },
      "execution_count": null,
      "outputs": []
    }
  ]
}